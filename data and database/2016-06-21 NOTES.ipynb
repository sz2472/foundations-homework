{
 "cells": [
  {
   "cell_type": "markdown",
   "metadata": {},
   "source": [
    "## Sorting lists"
   ]
  },
  {
   "cell_type": "code",
   "execution_count": 1,
   "metadata": {
    "collapsed": true
   },
   "outputs": [],
   "source": [
    "x= [\"duck\",\"aardvark\",\"crocodile\", \"emu\", \"bee\"]"
   ]
  },
  {
   "cell_type": "code",
   "execution_count": 2,
   "metadata": {
    "collapsed": true
   },
   "outputs": [],
   "source": [
    "x.sort()"
   ]
  },
  {
   "cell_type": "code",
   "execution_count": 3,
   "metadata": {
    "collapsed": false
   },
   "outputs": [
    {
     "data": {
      "text/plain": [
       "['aardvark', 'bee', 'crocodile', 'duck', 'emu']"
      ]
     },
     "execution_count": 3,
     "metadata": {},
     "output_type": "execute_result"
    }
   ],
   "source": [
    "x"
   ]
  },
  {
   "cell_type": "code",
   "execution_count": 4,
   "metadata": {
    "collapsed": false
   },
   "outputs": [
    {
     "data": {
      "text/plain": [
       "['emu', 'duck', 'crocodile', 'bee', 'aardvark']"
      ]
     },
     "execution_count": 4,
     "metadata": {},
     "output_type": "execute_result"
    }
   ],
   "source": [
    "### sorted by descending order\n",
    "sorted(x,reverse=True)"
   ]
  },
  {
   "cell_type": "code",
   "execution_count": null,
   "metadata": {
    "collapsed": true
   },
   "outputs": [],
   "source": [
    "### sorted by second letter:\n",
    "#sorted(x, key=??)"
   ]
  },
  {
   "cell_type": "code",
   "execution_count": 6,
   "metadata": {
    "collapsed": true
   },
   "outputs": [],
   "source": [
    "def get_second_letter(s):\n",
    "    return s[1]"
   ]
  },
  {
   "cell_type": "code",
   "execution_count": 7,
   "metadata": {
    "collapsed": false
   },
   "outputs": [
    {
     "data": {
      "text/plain": [
       "'h'"
      ]
     },
     "execution_count": 7,
     "metadata": {},
     "output_type": "execute_result"
    }
   ],
   "source": [
    "get_second_letter(\"cheese\")"
   ]
  },
  {
   "cell_type": "code",
   "execution_count": 8,
   "metadata": {
    "collapsed": false
   },
   "outputs": [
    {
     "data": {
      "text/plain": [
       "['aardvark', 'bee', 'emu', 'crocodile', 'duck']"
      ]
     },
     "execution_count": 8,
     "metadata": {},
     "output_type": "execute_result"
    }
   ],
   "source": [
    "sorted(x,key=get_second_letter) #key is a parameter, value is a function:get_second_letter"
   ]
  },
  {
   "cell_type": "code",
   "execution_count": 9,
   "metadata": {
    "collapsed": false
   },
   "outputs": [
    {
     "data": {
      "text/plain": [
       "function"
      ]
     },
     "execution_count": 9,
     "metadata": {},
     "output_type": "execute_result"
    }
   ],
   "source": [
    "type(get_second_letter)"
   ]
  },
  {
   "cell_type": "markdown",
   "metadata": {},
   "source": [
    "### lambda functions: a way of writing a function on a single line"
   ]
  },
  {
   "cell_type": "code",
   "execution_count": 10,
   "metadata": {
    "collapsed": true
   },
   "outputs": [],
   "source": [
    "# normal function: def nameofthefunction parameter: return expression\n",
    "def get_second_letters(s):\n",
    "    return s[1]"
   ]
  },
  {
   "cell_type": "code",
   "execution_count": 11,
   "metadata": {
    "collapsed": true
   },
   "outputs": [],
   "source": [
    "# the previous is the same as:\n",
    "get_second_letter = lambda s:s[1]"
   ]
  },
  {
   "cell_type": "code",
   "execution_count": 12,
   "metadata": {
    "collapsed": false
   },
   "outputs": [
    {
     "data": {
      "text/plain": [
       "function"
      ]
     },
     "execution_count": 12,
     "metadata": {},
     "output_type": "execute_result"
    }
   ],
   "source": [
    "type(lambda s:s[1])"
   ]
  },
  {
   "cell_type": "code",
   "execution_count": 13,
   "metadata": {
    "collapsed": false
   },
   "outputs": [
    {
     "name": "stdout",
     "output_type": "stream",
     "text": [
      "hello\n"
     ]
    }
   ],
   "source": [
    "print(\"hello\")"
   ]
  },
  {
   "cell_type": "code",
   "execution_count": 14,
   "metadata": {
    "collapsed": false
   },
   "outputs": [
    {
     "data": {
      "text/plain": [
       "['aardvark', 'bee', 'emu', 'crocodile', 'duck']"
      ]
     },
     "execution_count": 14,
     "metadata": {},
     "output_type": "execute_result"
    }
   ],
   "source": [
    "sorted(x,key=lambda s:s[1])"
   ]
  },
  {
   "cell_type": "markdown",
   "metadata": {},
   "source": [
    "### tuple(\"rhymes with supple\")\n",
    "#### tuple is a kind of like a strict kind of list"
   ]
  },
  {
   "cell_type": "code",
   "execution_count": 15,
   "metadata": {
    "collapsed": true
   },
   "outputs": [],
   "source": [
    "t= (5,10,15)"
   ]
  },
  {
   "cell_type": "code",
   "execution_count": 16,
   "metadata": {
    "collapsed": false
   },
   "outputs": [
    {
     "data": {
      "text/plain": [
       "tuple"
      ]
     },
     "execution_count": 16,
     "metadata": {},
     "output_type": "execute_result"
    }
   ],
   "source": [
    "type(t)"
   ]
  },
  {
   "cell_type": "code",
   "execution_count": 17,
   "metadata": {
    "collapsed": false
   },
   "outputs": [
    {
     "data": {
      "text/plain": [
       "5"
      ]
     },
     "execution_count": 17,
     "metadata": {},
     "output_type": "execute_result"
    }
   ],
   "source": [
    "t[0]"
   ]
  },
  {
   "cell_type": "code",
   "execution_count": 18,
   "metadata": {
    "collapsed": false
   },
   "outputs": [
    {
     "name": "stdout",
     "output_type": "stream",
     "text": [
      "25\n",
      "100\n",
      "225\n"
     ]
    }
   ],
   "source": [
    "for item in t:\n",
    "    print(item*item)"
   ]
  },
  {
   "cell_type": "code",
   "execution_count": null,
   "metadata": {
    "collapsed": true
   },
   "outputs": [],
   "source": [
    "#tuple is like a list but it can't be changed, it's called \"immutable\" data type\n",
    "#one benefit is exactly that: it can't be changed.\n",
    "#other benefit is that tuples are memory-efficient."
   ]
  },
  {
   "cell_type": "code",
   "execution_count": 19,
   "metadata": {
    "collapsed": true
   },
   "outputs": [],
   "source": [
    "hello=[1,2,3]"
   ]
  },
  {
   "cell_type": "code",
   "execution_count": 20,
   "metadata": {
    "collapsed": true
   },
   "outputs": [],
   "source": [
    "foo=(1,2,3)"
   ]
  },
  {
   "cell_type": "code",
   "execution_count": 21,
   "metadata": {
    "collapsed": false
   },
   "outputs": [
    {
     "data": {
      "text/plain": [
       "64"
      ]
     },
     "execution_count": 21,
     "metadata": {},
     "output_type": "execute_result"
    }
   ],
   "source": [
    "import sys\n",
    "sys.getsizeof(hello)"
   ]
  },
  {
   "cell_type": "code",
   "execution_count": 22,
   "metadata": {
    "collapsed": false
   },
   "outputs": [
    {
     "data": {
      "text/plain": [
       "72"
      ]
     },
     "execution_count": 22,
     "metadata": {},
     "output_type": "execute_result"
    }
   ],
   "source": [
    "sys.getsizeof(foo)"
   ]
  },
  {
   "cell_type": "markdown",
   "metadata": {},
   "source": [
    "## back to regular expressions for a moment"
   ]
  },
  {
   "cell_type": "markdown",
   "metadata": {},
   "source": [
    "### grouping with multiple matches in the same string"
   ]
  },
  {
   "cell_type": "code",
   "execution_count": 23,
   "metadata": {
    "collapsed": false
   },
   "outputs": [
    {
     "data": {
      "text/plain": [
       "['one 1', 'two 2', 'three 3', 'four 4', 'five 5']"
      ]
     },
     "execution_count": 23,
     "metadata": {},
     "output_type": "execute_result"
    }
   ],
   "source": [
    "import re\n",
    "test=\"one 1 two 2 three 3 four 4 five 5\"\n",
    "re.findall(r\"\\w+ \\d\",test)"
   ]
  },
  {
   "cell_type": "code",
   "execution_count": 24,
   "metadata": {
    "collapsed": false
   },
   "outputs": [
    {
     "ename": "ValueError",
     "evalue": "empty separator",
     "output_type": "error",
     "traceback": [
      "\u001b[0;31m---------------------------------------------------------------------------\u001b[0m",
      "\u001b[0;31mValueError\u001b[0m                                Traceback (most recent call last)",
      "\u001b[0;32m<ipython-input-24-60227970f8a8>\u001b[0m in \u001b[0;36m<module>\u001b[0;34m()\u001b[0m\n\u001b[1;32m      1\u001b[0m \u001b[0;32mfor\u001b[0m \u001b[0mitem\u001b[0m \u001b[0;32min\u001b[0m \u001b[0mre\u001b[0m\u001b[0;34m.\u001b[0m\u001b[0mfindall\u001b[0m\u001b[0;34m(\u001b[0m\u001b[0;34mr\"\\w+ \\d\"\u001b[0m\u001b[0;34m,\u001b[0m\u001b[0mtest\u001b[0m\u001b[0;34m)\u001b[0m\u001b[0;34m:\u001b[0m\u001b[0;34m\u001b[0m\u001b[0m\n\u001b[0;32m----> 2\u001b[0;31m     \u001b[0mx\u001b[0m\u001b[0;34m=\u001b[0m\u001b[0mitem\u001b[0m\u001b[0;34m.\u001b[0m\u001b[0msplit\u001b[0m\u001b[0;34m(\u001b[0m\u001b[0;34m\"\"\u001b[0m\u001b[0;34m)\u001b[0m\u001b[0;34m\u001b[0m\u001b[0m\n\u001b[0m\u001b[1;32m      3\u001b[0m     \u001b[0mprint\u001b[0m\u001b[0;34m(\u001b[0m\u001b[0mx\u001b[0m\u001b[0;34m[\u001b[0m\u001b[0;36m0\u001b[0m\u001b[0;34m]\u001b[0m\u001b[0;34m)\u001b[0m\u001b[0;34m\u001b[0m\u001b[0m\n\u001b[1;32m      4\u001b[0m     \u001b[0mprint\u001b[0m\u001b[0;34m(\u001b[0m\u001b[0mx\u001b[0m\u001b[0;34m[\u001b[0m\u001b[0;36m1\u001b[0m\u001b[0;34m]\u001b[0m\u001b[0;34m)\u001b[0m\u001b[0;34m\u001b[0m\u001b[0m\n",
      "\u001b[0;31mValueError\u001b[0m: empty separator"
     ]
    }
   ],
   "source": [
    "for item in re.findall(r\"\\w+ \\d\",test):\n",
    "    x=item.split(\"\")\n",
    "    print(x[0])\n",
    "    print(x[1])"
   ]
  },
  {
   "cell_type": "code",
   "execution_count": 25,
   "metadata": {
    "collapsed": false
   },
   "outputs": [
    {
     "data": {
      "text/plain": [
       "[('one', '1'), ('two', '2'), ('three', '3'), ('four', '4'), ('five', '5')]"
      ]
     },
     "execution_count": 25,
     "metadata": {},
     "output_type": "execute_result"
    }
   ],
   "source": [
    "test=\"one 1 two 2 three 3 four 4 five 5\"\n",
    "re.findall(r\"(\\w+) (\\d)\",test)"
   ]
  },
  {
   "cell_type": "code",
   "execution_count": 26,
   "metadata": {
    "collapsed": true
   },
   "outputs": [],
   "source": [
    "all_subjects = open(\"enronsubjects.txt\").read()"
   ]
  },
  {
   "cell_type": "code",
   "execution_count": 27,
   "metadata": {
    "collapsed": false
   },
   "outputs": [
    {
     "ename": "SyntaxError",
     "evalue": "Missing parentheses in call to 'print' (<ipython-input-27-e98f897521d3>, line 2)",
     "output_type": "error",
     "traceback": [
      "\u001b[0;36m  File \u001b[0;32m\"<ipython-input-27-e98f897521d3>\"\u001b[0;36m, line \u001b[0;32m2\u001b[0m\n\u001b[0;31m    print item[0]\u001b[0m\n\u001b[0m             ^\u001b[0m\n\u001b[0;31mSyntaxError\u001b[0m\u001b[0;31m:\u001b[0m Missing parentheses in call to 'print'\n"
     ]
    }
   ],
   "source": [
    "for item in re.findall(r\"(\\d{3})-(\\d{3})-(\\d{4})\", all_subjects):\n",
    "    print item[0]"
   ]
  },
  {
   "cell_type": "code",
   "execution_count": 28,
   "metadata": {
    "collapsed": false
   },
   "outputs": [
    {
     "data": {
      "text/plain": [
       "['713',\n",
       " '713',\n",
       " '713',\n",
       " '713',\n",
       " '713',\n",
       " '713',\n",
       " '713',\n",
       " '713',\n",
       " '713',\n",
       " '713',\n",
       " '713',\n",
       " '281',\n",
       " '713',\n",
       " '713',\n",
       " '713',\n",
       " '713',\n",
       " '713',\n",
       " '713',\n",
       " '281',\n",
       " '713',\n",
       " '713',\n",
       " '713',\n",
       " '614',\n",
       " '713',\n",
       " '303',\n",
       " '281',\n",
       " '800',\n",
       " '800',\n",
       " '888']"
      ]
     },
     "execution_count": 28,
     "metadata": {},
     "output_type": "execute_result"
    }
   ],
   "source": [
    "[item[0] for item in re.findall(r\"(\\d{3})-(\\d{3})-(\\d{4})\", all_subjects)]"
   ]
  },
  {
   "cell_type": "markdown",
   "metadata": {},
   "source": [
    "### monetary amounts in the subject lines\n",
    "match something like $10 m, k, b"
   ]
  },
  {
   "cell_type": "code",
   "execution_count": 29,
   "metadata": {
    "collapsed": false
   },
   "outputs": [
    {
     "data": {
      "text/plain": [
       "[('22', '8'),\n",
       " ('22', '8'),\n",
       " ('10', 'M'),\n",
       " ('10', 'M'),\n",
       " ('10', 'M'),\n",
       " ('10', 'M'),\n",
       " ('6', '8'),\n",
       " ('25', 'million'),\n",
       " ('25', 'million'),\n",
       " ('25', 'million'),\n",
       " ('25', 'million'),\n",
       " ('25', 'million'),\n",
       " ('25', 'million'),\n",
       " ('25', 'million'),\n",
       " ('25', 'million'),\n",
       " ('25', 'million'),\n",
       " ('25', 'million'),\n",
       " ('25', 'million'),\n",
       " ('25', 'million'),\n",
       " ('25', 'million'),\n",
       " ('25', 'million'),\n",
       " ('82', '0'),\n",
       " ('82', '0'),\n",
       " ('40', 'Million'),\n",
       " ('27', 'Billion'),\n",
       " ('27', 'Billion'),\n",
       " ('5', '0'),\n",
       " ('5', '0'),\n",
       " ('89', '5'),\n",
       " ('89', '5'),\n",
       " ('1', '9'),\n",
       " ('1', '9'),\n",
       " ('1', '9'),\n",
       " ('1', '9'),\n",
       " ('870', 'K'),\n",
       " ('870', 'K'),\n",
       " ('14', '1'),\n",
       " ('14', '1'),\n",
       " ('21', 'billion'),\n",
       " ('6', 'million'),\n",
       " ('14', 'bln'),\n",
       " ('14', 'bln'),\n",
       " ('100', 'PRICE'),\n",
       " ('250', 'Cap'),\n",
       " ('350', 'MM'),\n",
       " ('1', '2'),\n",
       " ('1', '2'),\n",
       " ('1', '2'),\n",
       " ('1', '2'),\n",
       " ('10', 'Three'),\n",
       " ('70', '0'),\n",
       " ('70', '0'),\n",
       " ('70', '0'),\n",
       " ('10', 'you'),\n",
       " ('10', 'you'),\n",
       " ('13', 'B'),\n",
       " ('13', 'B'),\n",
       " ('100', 'on'),\n",
       " ('500', 'k'),\n",
       " ('500', 'k'),\n",
       " ('500', 'k'),\n",
       " ('500', 'k'),\n",
       " ('500', 'k'),\n",
       " ('500', 'k'),\n",
       " ('500', 'k'),\n",
       " ('500', 'k'),\n",
       " ('500', 'k'),\n",
       " ('2', 'Billion'),\n",
       " ('2', 'Billion'),\n",
       " ('2', 'Billion'),\n",
       " ('2', 'Billion'),\n",
       " ('97', '1'),\n",
       " ('97', '1'),\n",
       " ('97', '1'),\n",
       " ('97', '1'),\n",
       " ('97', '1'),\n",
       " ('97', '1'),\n",
       " ('1', 'Billion'),\n",
       " ('1', 'Billion'),\n",
       " ('39', 'in'),\n",
       " ('39', 'in'),\n",
       " ('1', '0'),\n",
       " ('1', '0'),\n",
       " ('14', '9'),\n",
       " ('5', '0'),\n",
       " ('5', '0'),\n",
       " ('5', '0'),\n",
       " ('2', '1'),\n",
       " ('21', 'P'),\n",
       " ('550', 'Million'),\n",
       " ('455', 'Million'),\n",
       " ('5', 'million'),\n",
       " ('5', 'million'),\n",
       " ('5', 'million'),\n",
       " ('7', 'MM'),\n",
       " ('7', 'MM'),\n",
       " ('7', 'MM'),\n",
       " ('7', 'MM'),\n",
       " ('7', 'MM'),\n",
       " ('7', 'MM'),\n",
       " ('100', 'Price'),\n",
       " ('2', '0'),\n",
       " ('2', '0'),\n",
       " ('2', '0'),\n",
       " ('2', '0'),\n",
       " ('10', '0'),\n",
       " ('10', '0'),\n",
       " ('10', '0'),\n",
       " ('2', '0'),\n",
       " ('2', '0'),\n",
       " ('2', '9'),\n",
       " ('2', '9'),\n",
       " ('2', '9'),\n",
       " ('2', '9'),\n",
       " ('2', '9'),\n",
       " ('2', '9'),\n",
       " ('160', '0'),\n",
       " ('160', '0'),\n",
       " ('160', '0'),\n",
       " ('160', '0'),\n",
       " ('160', '0'),\n",
       " ('160', '0'),\n",
       " ('160', '0'),\n",
       " ('2', 'Billion'),\n",
       " ('2', 'Billion'),\n",
       " ('2', 'Billion'),\n",
       " ('6', '7'),\n",
       " ('100', 'mil'),\n",
       " ('50', 'per'),\n",
       " ('21', '2'),\n",
       " ('21', '2'),\n",
       " ('21', '2'),\n",
       " ('21', '2'),\n",
       " ('21', '2'),\n",
       " ('21', '2'),\n",
       " ('19', '5'),\n",
       " ('19', '5'),\n",
       " ('19', '5'),\n",
       " ('19', '5'),\n",
       " ('19', '5'),\n",
       " ('19', '5'),\n",
       " ('19', '5'),\n",
       " ('19', '5'),\n",
       " ('19', '5'),\n",
       " ('19', '5'),\n",
       " ('19', '5'),\n",
       " ('19', '5'),\n",
       " ('4', '2'),\n",
       " ('4', '2'),\n",
       " ('4', '2'),\n",
       " ('7', 'MM'),\n",
       " ('7', 'MM'),\n",
       " ('7', 'MM'),\n",
       " ('1', '0'),\n",
       " ('1', '0'),\n",
       " ('1', '6'),\n",
       " ('1', '6'),\n",
       " ('1', '6'),\n",
       " ('8', 'Million'),\n",
       " ('8', 'Million'),\n",
       " ('500', 'mm'),\n",
       " ('500', 'mm'),\n",
       " ('500', 'mm'),\n",
       " ('80', 'million'),\n",
       " ('80', 'million'),\n",
       " ('80', 'million'),\n",
       " ('80', 'million'),\n",
       " ('80', 'million'),\n",
       " ('80', 'million'),\n",
       " ('80', 'million'),\n",
       " ('50', 'M'),\n",
       " ('102', 'Target'),\n",
       " ('102', 'Target'),\n",
       " ('20', '0'),\n",
       " ('5', '0'),\n",
       " ('25', 'Million'),\n",
       " ('25', 'Million'),\n",
       " ('25', 'Million'),\n",
       " ('120', 'EXTRA'),\n",
       " ('120', 'EXTRA'),\n",
       " ('45', 'Million'),\n",
       " ('45', 'Million'),\n",
       " ('14', '7'),\n",
       " ('14', '7'),\n",
       " ('14', '7'),\n",
       " ('14', '7'),\n",
       " ('14', '7'),\n",
       " ('14', '7'),\n",
       " ('14', '7'),\n",
       " ('600', 'B'),\n",
       " ('600', 'B'),\n",
       " ('14', '7'),\n",
       " ('14', '7'),\n",
       " ('14', '7'),\n",
       " ('24', '0'),\n",
       " ('24', '0'),\n",
       " ('2', '2'),\n",
       " ('2', '2'),\n",
       " ('2', '2'),\n",
       " ('100', 'k'),\n",
       " ('7', '7'),\n",
       " ('18', '3'),\n",
       " ('130', 'Million'),\n",
       " ('130', 'Million'),\n",
       " ('130', 'Million'),\n",
       " ('1', 'mm'),\n",
       " ('1', '0'),\n",
       " ('1', '0'),\n",
       " ('1', '0'),\n",
       " ('1', '0'),\n",
       " ('1', '0'),\n",
       " ('1', '0'),\n",
       " ('128', 'Return'),\n",
       " ('128', 'Return')]"
      ]
     },
     "execution_count": 29,
     "metadata": {},
     "output_type": "execute_result"
    }
   ],
   "source": [
    "re.findall(r\"\\$(\\d+) ?(\\w+)\", all_subjects)"
   ]
  },
  {
   "cell_type": "code",
   "execution_count": 30,
   "metadata": {
    "collapsed": false
   },
   "outputs": [
    {
     "data": {
      "text/plain": [
       "1349657340000"
      ]
     },
     "execution_count": 30,
     "metadata": {},
     "output_type": "execute_result"
    }
   ],
   "source": [
    "vals=[]\n",
    "for item in re.findall(r\"\\$(\\d+) ?([mMbBkK])\", all_subjects):\n",
    "    multiplier=item[1].lower()\n",
    "    number_val=int(item[0])\n",
    "    if multiplier=='k':\n",
    "        number_val *= 1000\n",
    "    elif multiplier=='m':\n",
    "        number_val *= 1000000\n",
    "    elif multiplier=='b':\n",
    "        number_val *= 1000000000\n",
    "    vals.append(number_val)\n",
    "sum(vals)\n",
    "    "
   ]
  },
  {
   "cell_type": "markdown",
   "metadata": {},
   "source": [
    "### substitution with regular expressions"
   ]
  },
  {
   "cell_type": "code",
   "execution_count": 31,
   "metadata": {
    "collapsed": true
   },
   "outputs": [],
   "source": [
    "message = \"this is a test, this is only a test\""
   ]
  },
  {
   "cell_type": "code",
   "execution_count": 32,
   "metadata": {
    "collapsed": false
   },
   "outputs": [
    {
     "data": {
      "text/plain": [
       "'that is a walrus, that is only a walrus'"
      ]
     },
     "execution_count": 32,
     "metadata": {},
     "output_type": "execute_result"
    }
   ],
   "source": [
    "message.replace(\"this\",\"that\").replace(\"test\",\"walrus\") #.replace() replace part of a string"
   ]
  },
  {
   "cell_type": "code",
   "execution_count": 33,
   "metadata": {
    "collapsed": false
   },
   "outputs": [
    {
     "data": {
      "text/plain": [
       "['713-853-4743',\n",
       " '713-222-7667',\n",
       " '713-222-7667',\n",
       " '713-222-7667',\n",
       " '713-222-7667',\n",
       " '713-222-7667',\n",
       " '713-222-7667',\n",
       " '713-222-7667',\n",
       " '713-222-7667',\n",
       " '713-222-7667',\n",
       " '713-222-7667',\n",
       " '281-296-0573',\n",
       " '713-851-2499',\n",
       " '713-345-7896',\n",
       " '713-345-7896',\n",
       " '713-345-7896',\n",
       " '713-345-7896',\n",
       " '713-345-7896',\n",
       " '281-367-8953',\n",
       " '713-528-0759',\n",
       " '713-850-9002',\n",
       " '713-703-8294',\n",
       " '614-888-9588',\n",
       " '713-767-8686',\n",
       " '303-571-6135',\n",
       " '281-537-9334',\n",
       " '800-937-6563',\n",
       " '800-937-6563',\n",
       " '888-296-1938']"
      ]
     },
     "execution_count": 33,
     "metadata": {},
     "output_type": "execute_result"
    }
   ],
   "source": [
    "re.findall(r\"\\d{3}-\\d{3}-\\d{4}\", all_subjects)"
   ]
  },
  {
   "cell_type": "code",
   "execution_count": 34,
   "metadata": {
    "collapsed": false
   },
   "outputs": [
    {
     "data": {
      "text/plain": [
       "'that is a test; that is only a test.'"
      ]
     },
     "execution_count": 34,
     "metadata": {},
     "output_type": "execute_result"
    }
   ],
   "source": [
    "message=\"This is a test; this is only a test.\"\n",
    "re.sub(r\"[Tt]his\", \"that\", message) #.sub():substitute a pattern"
   ]
  },
  {
   "cell_type": "code",
   "execution_count": 35,
   "metadata": {
    "collapsed": false
   },
   "outputs": [
    {
     "data": {
      "text/plain": [
       "'WALRUS WALRUS WALRUS WALRUS; WALRUS WALRUS WALRUS WALRUS WALRUS.'"
      ]
     },
     "execution_count": 35,
     "metadata": {},
     "output_type": "execute_result"
    }
   ],
   "source": [
    "re.sub(r\"\\b\\w+\\b\", \"WALRUS\", message)"
   ]
  },
  {
   "cell_type": "code",
   "execution_count": 36,
   "metadata": {
    "collapsed": true
   },
   "outputs": [],
   "source": [
    "anon = re.sub(r\"\\d{3}-\\d{3}-\\d{4}\", \"555-555-5555\", all_subjects)"
   ]
  },
  {
   "cell_type": "code",
   "execution_count": 37,
   "metadata": {
    "collapsed": false
   },
   "outputs": [
    {
     "data": {
      "text/plain": [
       "['Call Chris 555-555-5555',\n",
       " \"git's Contact Info: 555-555-5555\",\n",
       " \"git's Contact Info: 555-555-5555\",\n",
       " \"git's Contact Info: 555-555-5555\",\n",
       " \"git's Contact Info: 555-555-5555\",\n",
       " \"git's Contact Info: 555-555-5555\",\n",
       " \"git's Contact Info: 555-555-5555\",\n",
       " \"git's Contact Info: 555-555-5555\",\n",
       " \"git's Contact Info: 555-555-5555\",\n",
       " \"git's Contact Info: 555-555-5555\",\n",
       " \"git's Contact Info: 555-555-5555\",\n",
       " 'Terry 555-555-5555',\n",
       " 'Re: 555-555-5555',\n",
       " \"W: Mark's number is 555-555-5555\",\n",
       " \"E: Mark's number is 555-555-5555\",\n",
       " \"Mark's number is 555-555-5555\",\n",
       " \"E: Mark's number is 555-555-5555\",\n",
       " \"Mark's number is 555-555-5555\",\n",
       " 'ease call for map 1-555-555-5555 or',\n",
       " 'Bill F 555-555-5555',\n",
       " ' Jonathon Fairbanks 555-555-5555w/555-555-5555c and ',\n",
       " 'irk re CGAS lawsuit 555-555-5555',\n",
       " ' Johnston at Dynegy 555-555-5555 re Debbie Chance',\n",
       " 'data /Tracy Ashmore-555-555-5555',\n",
       " 'Re: Kaye Ellis - 555-555-5555 (home)',\n",
       " 'n Paper Conf Call 1-555-555-5555,',\n",
       " 'O policies.  Dial 1-555-555-5555 and ask for the Jul',\n",
       " 'nf Call (Alvarez) 1-555-555-5555, HC:']"
      ]
     },
     "execution_count": 37,
     "metadata": {},
     "output_type": "execute_result"
    }
   ],
   "source": [
    "re.findall(r\".{,20}\\d{3}-\\d{3}-\\d{4}.{,20}\",anon)"
   ]
  },
  {
   "cell_type": "code",
   "execution_count": 38,
   "metadata": {
    "collapsed": false
   },
   "outputs": [
    {
     "ename": "error",
     "evalue": "invalid group reference",
     "output_type": "error",
     "traceback": [
      "\u001b[0;31m---------------------------------------------------------------------------\u001b[0m",
      "\u001b[0;31mIndexError\u001b[0m                                Traceback (most recent call last)",
      "\u001b[0;32m/usr/local/Cellar/python3/3.5.1/Frameworks/Python.framework/Versions/3.5/lib/python3.5/sre_parse.py\u001b[0m in \u001b[0;36mexpand_template\u001b[0;34m(template, match)\u001b[0m\n\u001b[1;32m    937\u001b[0m         \u001b[0;32mfor\u001b[0m \u001b[0mindex\u001b[0m\u001b[0;34m,\u001b[0m \u001b[0mgroup\u001b[0m \u001b[0;32min\u001b[0m \u001b[0mgroups\u001b[0m\u001b[0;34m:\u001b[0m\u001b[0;34m\u001b[0m\u001b[0m\n\u001b[0;32m--> 938\u001b[0;31m             \u001b[0mliterals\u001b[0m\u001b[0;34m[\u001b[0m\u001b[0mindex\u001b[0m\u001b[0;34m]\u001b[0m \u001b[0;34m=\u001b[0m \u001b[0mg\u001b[0m\u001b[0;34m(\u001b[0m\u001b[0mgroup\u001b[0m\u001b[0;34m)\u001b[0m \u001b[0;32mor\u001b[0m \u001b[0mempty\u001b[0m\u001b[0;34m\u001b[0m\u001b[0m\n\u001b[0m\u001b[1;32m    939\u001b[0m     \u001b[0;32mexcept\u001b[0m \u001b[0mIndexError\u001b[0m\u001b[0;34m:\u001b[0m\u001b[0;34m\u001b[0m\u001b[0m\n",
      "\u001b[0;31mIndexError\u001b[0m: no such group",
      "\nDuring handling of the above exception, another exception occurred:\n",
      "\u001b[0;31merror\u001b[0m                                     Traceback (most recent call last)",
      "\u001b[0;32m<ipython-input-38-0522e6a563b9>\u001b[0m in \u001b[0;36m<module>\u001b[0;34m()\u001b[0m\n\u001b[0;32m----> 1\u001b[0;31m \u001b[0manon\u001b[0m \u001b[0;34m=\u001b[0m \u001b[0mre\u001b[0m\u001b[0;34m.\u001b[0m\u001b[0msub\u001b[0m\u001b[0;34m(\u001b[0m\u001b[0;34mr\"\\d{3}-\\d{3}-\\d{4}\"\u001b[0m\u001b[0;34m,\u001b[0m \u001b[0;34mr\"\\1-\\2-XXXX\"\u001b[0m\u001b[0;34m,\u001b[0m \u001b[0mall_subjects\u001b[0m\u001b[0;34m)\u001b[0m\u001b[0;34m\u001b[0m\u001b[0m\n\u001b[0m",
      "\u001b[0;32m/usr/local/Cellar/python3/3.5.1/Frameworks/Python.framework/Versions/3.5/lib/python3.5/re.py\u001b[0m in \u001b[0;36msub\u001b[0;34m(pattern, repl, string, count, flags)\u001b[0m\n\u001b[1;32m    180\u001b[0m     \u001b[0ma\u001b[0m \u001b[0mcallable\u001b[0m\u001b[0;34m,\u001b[0m \u001b[0mit\u001b[0m\u001b[0;31m'\u001b[0m\u001b[0ms\u001b[0m \u001b[0mpassed\u001b[0m \u001b[0mthe\u001b[0m \u001b[0mmatch\u001b[0m \u001b[0mobject\u001b[0m \u001b[0;32mand\u001b[0m \u001b[0mmust\u001b[0m \u001b[0;32mreturn\u001b[0m\u001b[0;34m\u001b[0m\u001b[0m\n\u001b[1;32m    181\u001b[0m     a replacement string to be used.\"\"\"\n\u001b[0;32m--> 182\u001b[0;31m     \u001b[0;32mreturn\u001b[0m \u001b[0m_compile\u001b[0m\u001b[0;34m(\u001b[0m\u001b[0mpattern\u001b[0m\u001b[0;34m,\u001b[0m \u001b[0mflags\u001b[0m\u001b[0;34m)\u001b[0m\u001b[0;34m.\u001b[0m\u001b[0msub\u001b[0m\u001b[0;34m(\u001b[0m\u001b[0mrepl\u001b[0m\u001b[0;34m,\u001b[0m \u001b[0mstring\u001b[0m\u001b[0;34m,\u001b[0m \u001b[0mcount\u001b[0m\u001b[0;34m)\u001b[0m\u001b[0;34m\u001b[0m\u001b[0m\n\u001b[0m\u001b[1;32m    183\u001b[0m \u001b[0;34m\u001b[0m\u001b[0m\n\u001b[1;32m    184\u001b[0m \u001b[0;32mdef\u001b[0m \u001b[0msubn\u001b[0m\u001b[0;34m(\u001b[0m\u001b[0mpattern\u001b[0m\u001b[0;34m,\u001b[0m \u001b[0mrepl\u001b[0m\u001b[0;34m,\u001b[0m \u001b[0mstring\u001b[0m\u001b[0;34m,\u001b[0m \u001b[0mcount\u001b[0m\u001b[0;34m=\u001b[0m\u001b[0;36m0\u001b[0m\u001b[0;34m,\u001b[0m \u001b[0mflags\u001b[0m\u001b[0;34m=\u001b[0m\u001b[0;36m0\u001b[0m\u001b[0;34m)\u001b[0m\u001b[0;34m:\u001b[0m\u001b[0;34m\u001b[0m\u001b[0m\n",
      "\u001b[0;32m/usr/local/Cellar/python3/3.5.1/Frameworks/Python.framework/Versions/3.5/lib/python3.5/re.py\u001b[0m in \u001b[0;36mfilter\u001b[0;34m(match, template)\u001b[0m\n\u001b[1;32m    328\u001b[0m         \u001b[0;32mreturn\u001b[0m \u001b[0mtemplate\u001b[0m\u001b[0;34m[\u001b[0m\u001b[0;36m1\u001b[0m\u001b[0;34m]\u001b[0m\u001b[0;34m[\u001b[0m\u001b[0;36m0\u001b[0m\u001b[0;34m]\u001b[0m\u001b[0;34m\u001b[0m\u001b[0m\n\u001b[1;32m    329\u001b[0m     \u001b[0;32mdef\u001b[0m \u001b[0mfilter\u001b[0m\u001b[0;34m(\u001b[0m\u001b[0mmatch\u001b[0m\u001b[0;34m,\u001b[0m \u001b[0mtemplate\u001b[0m\u001b[0;34m=\u001b[0m\u001b[0mtemplate\u001b[0m\u001b[0;34m)\u001b[0m\u001b[0;34m:\u001b[0m\u001b[0;34m\u001b[0m\u001b[0m\n\u001b[0;32m--> 330\u001b[0;31m         \u001b[0;32mreturn\u001b[0m \u001b[0msre_parse\u001b[0m\u001b[0;34m.\u001b[0m\u001b[0mexpand_template\u001b[0m\u001b[0;34m(\u001b[0m\u001b[0mtemplate\u001b[0m\u001b[0;34m,\u001b[0m \u001b[0mmatch\u001b[0m\u001b[0;34m)\u001b[0m\u001b[0;34m\u001b[0m\u001b[0m\n\u001b[0m\u001b[1;32m    331\u001b[0m     \u001b[0;32mreturn\u001b[0m \u001b[0mfilter\u001b[0m\u001b[0;34m\u001b[0m\u001b[0m\n\u001b[1;32m    332\u001b[0m \u001b[0;34m\u001b[0m\u001b[0m\n",
      "\u001b[0;32m/usr/local/Cellar/python3/3.5.1/Frameworks/Python.framework/Versions/3.5/lib/python3.5/sre_parse.py\u001b[0m in \u001b[0;36mexpand_template\u001b[0;34m(template, match)\u001b[0m\n\u001b[1;32m    938\u001b[0m             \u001b[0mliterals\u001b[0m\u001b[0;34m[\u001b[0m\u001b[0mindex\u001b[0m\u001b[0;34m]\u001b[0m \u001b[0;34m=\u001b[0m \u001b[0mg\u001b[0m\u001b[0;34m(\u001b[0m\u001b[0mgroup\u001b[0m\u001b[0;34m)\u001b[0m \u001b[0;32mor\u001b[0m \u001b[0mempty\u001b[0m\u001b[0;34m\u001b[0m\u001b[0m\n\u001b[1;32m    939\u001b[0m     \u001b[0;32mexcept\u001b[0m \u001b[0mIndexError\u001b[0m\u001b[0;34m:\u001b[0m\u001b[0;34m\u001b[0m\u001b[0m\n\u001b[0;32m--> 940\u001b[0;31m         \u001b[0;32mraise\u001b[0m \u001b[0merror\u001b[0m\u001b[0;34m(\u001b[0m\u001b[0;34m\"invalid group reference\"\u001b[0m\u001b[0;34m)\u001b[0m\u001b[0;34m\u001b[0m\u001b[0m\n\u001b[0m\u001b[1;32m    941\u001b[0m     \u001b[0;32mreturn\u001b[0m \u001b[0mempty\u001b[0m\u001b[0;34m.\u001b[0m\u001b[0mjoin\u001b[0m\u001b[0;34m(\u001b[0m\u001b[0mliterals\u001b[0m\u001b[0;34m)\u001b[0m\u001b[0;34m\u001b[0m\u001b[0m\n",
      "\u001b[0;31merror\u001b[0m: invalid group reference"
     ]
    }
   ],
   "source": [
    "anon = re.sub(r\"(\\d{3}-\\d{3}-\\d{4}\", r\"\\1-\\2-XXXX\", all_subjects)"
   ]
  },
  {
   "cell_type": "markdown",
   "metadata": {},
   "source": [
    "## HTML to SQL"
   ]
  },
  {
   "cell_type": "code",
   "execution_count": 39,
   "metadata": {
    "collapsed": false
   },
   "outputs": [
    {
     "data": {
      "text/plain": [
       "('/var/folders/zh/j6d1c6bx17jcmkyybqlcnjlm0000gn/T/tmppmlortqa',\n",
       " <http.client.HTTPMessage at 0x108001e80>)"
      ]
     },
     "execution_count": 39,
     "metadata": {},
     "output_type": "execute_result"
    }
   ],
   "source": [
    "from urllib.request import urlretrieve\n",
    "urlretrieve(\"https://raw.githubusercontent.com/ledeprogram/data-and-databases/master/menupages-morningside-heights.html\")"
   ]
  },
  {
   "cell_type": "code",
   "execution_count": 40,
   "metadata": {
    "collapsed": false
   },
   "outputs": [
    {
     "ename": "NameError",
     "evalue": "name 'url' is not defined",
     "output_type": "error",
     "traceback": [
      "\u001b[0;31m---------------------------------------------------------------------------\u001b[0m",
      "\u001b[0;31mNameError\u001b[0m                                 Traceback (most recent call last)",
      "\u001b[0;32m<ipython-input-40-5921c60f27c5>\u001b[0m in \u001b[0;36m<module>\u001b[0;34m()\u001b[0m\n\u001b[0;32m----> 1\u001b[0;31m \u001b[0murlretrieve\u001b[0m\u001b[0;34m(\u001b[0m\u001b[0murl\u001b[0m\u001b[0;34m,\u001b[0m \u001b[0mfilename\u001b[0m\u001b[0;34m)\u001b[0m\u001b[0;34m\u001b[0m\u001b[0m\n\u001b[0m\u001b[1;32m      2\u001b[0m \u001b[0;34m\u001b[0m\u001b[0m\n",
      "\u001b[0;31mNameError\u001b[0m: name 'url' is not defined"
     ]
    }
   ],
   "source": [
    "#urlretrieve(url, filename)"
   ]
  },
  {
   "cell_type": "markdown",
   "metadata": {},
   "source": [
    "store:\n",
    "* restaurant name\n",
    "* price ($\n",
    "* cuisine\n",
    "\n",
    "research phase:\n",
    "* every restaurant has a <tr> that is a child of the <table> tag with class search-results\n",
    "* restaurants are in <td> tags with class name-address\n",
    "* restaurant names are in an <a> tag inside that <td> tag\n",
    "* restaurant price in a span inside a <td> tag with class price\n",
    "* the cuisine of the restaurant is in a <td> tag with no class, the fifth <td> tag that is a child of the restaurant's <tr>'\n",
    "\n",
    "targets:\n",
    "* list of dictionaries\n",
    "   [ \n",
    "      {'name':\"Brad's, 'price': 1,'cuisine':['coffee']}, \n",
    "      {'name':\"Cafe Nana\", 'price':0, 'cuisines':['Middle Eastern','Kosher']},\n",
    "      ...\n",
    "   ]"
   ]
  },
  {
   "cell_type": "code",
   "execution_count": 41,
   "metadata": {
    "collapsed": true
   },
   "outputs": [],
   "source": [
    "from bs4 import BeautifulSoup"
   ]
  },
  {
   "cell_type": "code",
   "execution_count": 46,
   "metadata": {
    "collapsed": true
   },
   "outputs": [],
   "source": [
    "raw_html = open(\"menupages-morningside-heights.html\").read()\n",
    "soup = BeautifulSoup(raw_html, \"html.parser\")"
   ]
  },
  {
   "cell_type": "code",
   "execution_count": 52,
   "metadata": {
    "collapsed": false
   },
   "outputs": [
    {
     "name": "stdout",
     "output_type": "stream",
     "text": [
      "Milano Market\n",
      "Massawa\n",
      "China Place\n",
      "Subsconscious\n",
      "Famous Famiglia\n",
      "Kitchenette\n",
      "V & T Pizza\n",
      "New Aroma\n",
      "Peking Garden\n",
      "Tom's Restaurant\n",
      "Pisticci\n",
      "Deluxe\n",
      "Toast\n",
      "Tom's Delicious Pizza\n",
      "West Place\n",
      "Che' Bella Pizza\n",
      "Ajanta\n",
      "Panino Sportivo Roma\n",
      "Max Soha\n",
      "Strokos Pizza\n",
      "Camille's\n",
      "Amsterdam Restaurant\n",
      "Nussbaum & Wu\n",
      "Amir's Grill\n",
      "M2M - Morning To Midnight\n",
      "The Mill\n",
      "Le Monde\n",
      "Melba's\n",
      "Chuck E Cheese's\n",
      "Haagen-Dazs\n",
      "Oren's\n",
      "Dinosaur Bar-B-Que\n",
      "Symposium Greek Restaurant\n",
      "Koronet Pizza\n",
      "The Heights Bar & Grill\n",
      "Cafe Nana\n",
      "Hamilton Deli\n",
      "Community Food & Juice\n",
      "Haakon's Hall\n",
      "El Porton\n",
      "Brad's\n",
      "Mel's Burger Bar\n",
      "Bettolona\n",
      "Five Guys\n",
      "Nikko\n",
      "Falafel on Broadway\n",
      "Sushi Sushi\n",
      "Insomnia Cookies\n",
      "Cafe Amrita\n",
      "Pinkberry\n",
      "Artopolis Espresso Cafe\n",
      "Max Caffe\n",
      "Chipotle\n",
      "Chokolat Patisserie\n",
      "Chokolat Patisserie\n",
      "Joe's G-H Deli\n",
      "Joe the Art of Coffee\n",
      "Levain Bakery\n",
      "Silvana\n",
      "Bier International\n",
      "Vegenation\n",
      "Flat Top\n",
      "Kuro Kuma\n",
      "Vinateria\n",
      "Henan Cart\n",
      "Vine\n",
      "El Paso Truck\n",
      "Mama's Fried Chicken and Pizza\n",
      "Chapati House\n",
      "Dig Inn Seasonal Market\n",
      "Uncle Luoyang\n",
      "Pita Grill\n",
      "Kissaten Jin\n",
      "Serengeti Teas & Spices\n",
      "Lighthouse Fish Market & Restaurant\n",
      "Lolo's Seafood Shack\n",
      "Harmony\n",
      "Bernheim & Schwartz\n",
      "BTH (By The Hudson)\n",
      "Empanadas Monumental\n",
      "Friedman's\n",
      "176 Presbyterian Deli\n",
      "Nacho Mama's\n",
      "Streetbird Rotisserie\n",
      "Colum Chinese Restaurant\n",
      "Flacoz Tacoz\n",
      "sweetgreen\n",
      "La Salle Dumpling Room\n"
     ]
    }
   ],
   "source": [
    "#just the name\n",
    "search_table=soup.find(\"table\", {'class':'search-results'})\n",
    "table_body=search_table.find('tbody')\n",
    "for tr_tag in table_body.find_all('tr'):\n",
    "    name_address_tag = tr_tag.find('td', {'class':'name-address'})\n",
    "    a_tag = name_address_tag.find('a')\n",
    "    print(a_tag.string)"
   ]
  },
  {
   "cell_type": "code",
   "execution_count": 53,
   "metadata": {
    "collapsed": false
   },
   "outputs": [
    {
     "name": "stdout",
     "output_type": "stream",
     "text": [
      "Milano Market 2\n",
      "Massawa 0\n",
      "China Place 0\n",
      "Subsconscious 0\n",
      "Famous Famiglia 0\n",
      "Kitchenette 0\n",
      "V & T Pizza 0\n",
      "New Aroma 1\n",
      "Peking Garden 1\n",
      "Tom's Restaurant 1\n",
      "Pisticci 1\n",
      "Deluxe 1\n",
      "Toast 2\n",
      "Tom's Delicious Pizza 2\n",
      "West Place 1\n",
      "Che' Bella Pizza 0\n",
      "Ajanta 0\n",
      "Panino Sportivo Roma 2\n",
      "Max Soha 2\n",
      "Strokos Pizza 3\n",
      "Camille's 1\n",
      "Amsterdam Restaurant 1\n",
      "Nussbaum & Wu 0\n",
      "Amir's Grill 1\n",
      "M2M - Morning To Midnight 1\n",
      "The Mill 2\n",
      "Le Monde 1\n",
      "Melba's 1\n",
      "Chuck E Cheese's 0\n",
      "Haagen-Dazs 1\n",
      "Oren's 0\n",
      "Dinosaur Bar-B-Que 3\n",
      "Symposium Greek Restaurant 0\n",
      "Koronet Pizza 1\n",
      "The Heights Bar & Grill 1\n",
      "Cafe Nana 0\n",
      "Hamilton Deli 0\n",
      "Community Food & Juice 0\n",
      "Haakon's Hall 0\n",
      "El Porton 0\n",
      "Brad's 1\n",
      "Mel's Burger Bar 2\n",
      "Bettolona 1\n",
      "Five Guys 1\n",
      "Nikko 2\n",
      "Falafel on Broadway 1\n",
      "Sushi Sushi 1\n",
      "Insomnia Cookies 1\n",
      "Cafe Amrita 1\n",
      "Pinkberry 2\n",
      "Artopolis Espresso Cafe 1\n",
      "Max Caffe 2\n",
      "Chipotle 1\n",
      "Chokolat Patisserie 5\n",
      "Chokolat Patisserie 1\n",
      "Joe's G-H Deli 2\n",
      "Joe the Art of Coffee 1\n",
      "Levain Bakery 2\n",
      "Silvana 1\n",
      "Bier International 1\n",
      "Vegenation 1\n",
      "Flat Top 4\n",
      "Kuro Kuma 1\n",
      "Vinateria 2\n",
      "Henan Cart 1\n",
      "Vine 2\n",
      "El Paso Truck 1\n",
      "Mama's Fried Chicken and Pizza 1\n",
      "Chapati House 2\n",
      "Dig Inn Seasonal Market 1\n",
      "Uncle Luoyang 1\n",
      "Pita Grill 2\n",
      "Kissaten Jin 1\n",
      "Serengeti Teas & Spices 2\n",
      "Lighthouse Fish Market & Restaurant 3\n",
      "Lolo's Seafood Shack 2\n",
      "Harmony 1\n",
      "Bernheim & Schwartz 2\n",
      "BTH (By The Hudson) 3\n",
      "Empanadas Monumental 0\n",
      "Friedman's 0\n",
      "176 Presbyterian Deli 0\n",
      "Nacho Mama's 0\n",
      "Streetbird Rotisserie 0\n",
      "Colum Chinese Restaurant 0\n",
      "Flacoz Tacoz 0\n",
      "sweetgreen 0\n",
      "La Salle Dumpling Room 0\n"
     ]
    }
   ],
   "source": [
    "search_table=soup.find(\"table\", {'class':'search-results'})\n",
    "table_body=search_table.find('tbody')\n",
    "for tr_tag in table_body.find_all('tr'):\n",
    "    # get the restaurant name from the a inside a td\n",
    "    name_address_tag = tr_tag.find('td', {'class':'name-address'})\n",
    "    a_tag = name_address_tag.find('a')\n",
    "    restaurant_name=a_tag.string\n",
    "    #get the price from the span if present\n",
    "    price_tag = tr_tag.find('td', {'class':'price'})\n",
    "    price_span_tag = price_tag.find('span')\n",
    "    if price_span_tag:\n",
    "        price=int(price_span_tag.string)\n",
    "    else:\n",
    "        price=0\n",
    "    print(restaurant_name, price)"
   ]
  },
  {
   "cell_type": "code",
   "execution_count": null,
   "metadata": {
    "collapsed": true
   },
   "outputs": [],
   "source": [
    "def get_name(tag):\n",
    "    return\"TEST RESTAURANT\"\n",
    "def get_price(tag):\n",
    "    return\"999999\""
   ]
  },
  {
   "cell_type": "code",
   "execution_count": 58,
   "metadata": {
    "collapsed": false
   },
   "outputs": [
    {
     "name": "stdout",
     "output_type": "stream",
     "text": [
      "Milano Market 2\n",
      "Massawa 0\n",
      "China Place 0\n",
      "Subsconscious 0\n",
      "Famous Famiglia 0\n",
      "Kitchenette 0\n",
      "V & T Pizza 0\n",
      "New Aroma 1\n",
      "Peking Garden 1\n",
      "Tom's Restaurant 1\n",
      "Pisticci 1\n",
      "Deluxe 1\n",
      "Toast 2\n",
      "Tom's Delicious Pizza 2\n",
      "West Place 1\n",
      "Che' Bella Pizza 0\n",
      "Ajanta 0\n",
      "Panino Sportivo Roma 2\n",
      "Max Soha 2\n",
      "Strokos Pizza 3\n",
      "Camille's 1\n",
      "Amsterdam Restaurant 1\n",
      "Nussbaum & Wu 0\n",
      "Amir's Grill 1\n",
      "M2M - Morning To Midnight 1\n",
      "The Mill 2\n",
      "Le Monde 1\n",
      "Melba's 1\n",
      "Chuck E Cheese's 0\n",
      "Haagen-Dazs 1\n",
      "Oren's 0\n",
      "Dinosaur Bar-B-Que 3\n",
      "Symposium Greek Restaurant 0\n",
      "Koronet Pizza 1\n",
      "The Heights Bar & Grill 1\n",
      "Cafe Nana 0\n",
      "Hamilton Deli 0\n",
      "Community Food & Juice 0\n",
      "Haakon's Hall 0\n",
      "El Porton 0\n",
      "Brad's 1\n",
      "Mel's Burger Bar 2\n",
      "Bettolona 1\n",
      "Five Guys 1\n",
      "Nikko 2\n",
      "Falafel on Broadway 1\n",
      "Sushi Sushi 1\n",
      "Insomnia Cookies 1\n",
      "Cafe Amrita 1\n",
      "Pinkberry 2\n",
      "Artopolis Espresso Cafe 1\n",
      "Max Caffe 2\n",
      "Chipotle 1\n",
      "Chokolat Patisserie 5\n",
      "Chokolat Patisserie 1\n",
      "Joe's G-H Deli 2\n",
      "Joe the Art of Coffee 1\n",
      "Levain Bakery 2\n",
      "Silvana 1\n",
      "Bier International 1\n",
      "Vegenation 1\n",
      "Flat Top 4\n",
      "Kuro Kuma 1\n",
      "Vinateria 2\n",
      "Henan Cart 1\n",
      "Vine 2\n",
      "El Paso Truck 1\n",
      "Mama's Fried Chicken and Pizza 1\n",
      "Chapati House 2\n",
      "Dig Inn Seasonal Market 1\n",
      "Uncle Luoyang 1\n",
      "Pita Grill 2\n",
      "Kissaten Jin 1\n",
      "Serengeti Teas & Spices 2\n",
      "Lighthouse Fish Market & Restaurant 3\n",
      "Lolo's Seafood Shack 2\n",
      "Harmony 1\n",
      "Bernheim & Schwartz 2\n",
      "BTH (By The Hudson) 3\n",
      "Empanadas Monumental 0\n",
      "Friedman's 0\n",
      "176 Presbyterian Deli 0\n",
      "Nacho Mama's 0\n",
      "Streetbird Rotisserie 0\n",
      "Colum Chinese Restaurant 0\n",
      "Flacoz Tacoz 0\n",
      "sweetgreen 0\n",
      "La Salle Dumpling Room 0\n"
     ]
    }
   ],
   "source": [
    "search_table=soup.find(\"table\", {'class':'search-results'})\n",
    "table_body=search_table.find('tbody')\n",
    "for tr_tag in table_body.find_all('tr'):\n",
    "    restaurant_name = get_name(tr_tag)\n",
    "    price = get_price(tr_tag)\n",
    "    print(restaurant_name, price)"
   ]
  },
  {
   "cell_type": "code",
   "execution_count": 59,
   "metadata": {
    "collapsed": true
   },
   "outputs": [],
   "source": [
    "def get_name(tr_tag):\n",
    "    name_address_tag = tr_tag.find('td', {'class':'name-address'})\n",
    "    a_tag = name_address_tag.find('a')\n",
    "    restaurant_name=a_tag.string\n",
    "    return restaurant_name\n",
    "def get_price(tr_tag):\n",
    "    price_tag = tr_tag.find('td', {'class':'price'})\n",
    "    price_span_tag = price_tag.find('span')\n",
    "    if price_span_tag:\n",
    "        price=int(price_span_tag.string)\n",
    "    else:\n",
    "        price=0\n",
    "    return price\n",
    "def get_cuisines(tr_tag):\n",
    "    all_td_tags=tr_tag.find_all('td')\n",
    "    cuisine_tag = all_td_tags[4]\n",
    "    print(cuisine_tag)\n",
    "    cuisines = cuisine_tag.string\n",
    "    if cuisines:\n",
    "        cuisines_list= cuisines.split(\", \")\n",
    "    else:\n",
    "        cuisine_list=[]\n",
    "    return cuisines_list"
   ]
  },
  {
   "cell_type": "code",
   "execution_count": 61,
   "metadata": {
    "collapsed": false
   },
   "outputs": [
    {
     "name": "stdout",
     "output_type": "stream",
     "text": [
      "<td>deli, sandwiches</td>\n",
      "<td>ethiopian, african</td>\n",
      "<td>chinese, japanese, sushi</td>\n",
      "<td>cheese-steaks, deli, sandwiches, salads</td>\n",
      "<td>italian, pizza</td>\n",
      "<td>bakery-pastries, american, desserts</td>\n",
      "<td>italian, pizza</td>\n",
      "<td>chinese</td>\n",
      "<td>chinese</td>\n",
      "<td>diner</td>\n",
      "<td>italian</td>\n",
      "<td>diner, american</td>\n",
      "<td>american, bar-food</td>\n",
      "<td>italian, pizza</td>\n",
      "<td>chinese</td>\n",
      "<td>italian, pizza</td>\n",
      "<td>indian</td>\n",
      "<td>italian, coffee-tea, sandwiches</td>\n",
      "<td>italian</td>\n",
      "<td>deli, pizza, sandwiches, chicken</td>\n",
      "<td>american</td>\n",
      "<td>american-new, tapas</td>\n",
      "<td>deli, sandwiches, bagels, salads</td>\n",
      "<td>middle-eastern</td>\n",
      "<td>japanese, sushi, deli, sandwiches</td>\n",
      "<td>korean</td>\n",
      "<td>french, bistro</td>\n",
      "<td>american-new, soul-food</td>\n",
      "<td>pizza, american</td>\n",
      "<td>desserts</td>\n",
      "<td>coffee-tea, sandwiches</td>\n",
      "<td>barbecue, soul-food</td>\n",
      "<td>greek, vegetarian</td>\n",
      "<td>pizza</td>\n",
      "<td>southwestern, tapas, bar-food</td>\n",
      "<td>middle-eastern, kosher</td>\n",
      "<td>deli, sandwiches</td>\n",
      "<td>american-new, smoothies-juices, vegetarian, healthy, localorganic</td>\n",
      "<td>american, scandinavian</td>\n",
      "<td>mexican</td>\n",
      "<td>coffee-tea</td>\n",
      "<td>burgers, bar-food</td>\n",
      "<td>italian, pizza, localorganic</td>\n",
      "<td>burgers, hot-dogs</td>\n",
      "<td>chinese, japanese, sushi, teahouses</td>\n",
      "<td>middle-eastern</td>\n",
      "<td>japanese, sushi</td>\n",
      "<td>bakery-pastries, desserts</td>\n",
      "<td>coffee-tea, sandwiches</td>\n",
      "<td>desserts</td>\n",
      "<td>coffee-tea, sandwiches, crepes</td>\n",
      "<td>coffee-tea, sandwiches</td>\n",
      "<td>mexican</td>\n",
      "<td>bakery-pastries, desserts</td>\n",
      "<td>bakery-pastries, coffee-tea, desserts</td>\n",
      "<td>deli, sandwiches</td>\n",
      "<td>coffee-tea</td>\n",
      "<td>bakery-pastries, desserts</td>\n",
      "<td>middle-eastern, vegetarian</td>\n",
      "<td>german, eclectic, bar-food</td>\n",
      "<td>indian, vegetarian</td>\n",
      "<td>american-new, bistro</td>\n",
      "<td>coffee-tea</td>\n",
      "<td>american-new</td>\n",
      "<td>chinese</td>\n",
      "<td>japanese, sushi, thai</td>\n",
      "<td>mexican</td>\n",
      "<td>pizza, chicken</td>\n",
      "<td>indian</td>\n",
      "<td>american, localorganic</td>\n",
      "<td>chinese</td>\n",
      "<td>middle-eastern</td>\n",
      "<td>japanese</td>\n",
      "<td>coffee-tea, teahouses</td>\n",
      "<td>seafood, wings, fish--chips</td>\n",
      "<td>seafood</td>\n",
      "<td>sandwiches, salads, teahouses</td>\n",
      "<td>american, gastropub</td>\n",
      "<td>american-new</td>\n",
      "<td></td>\n"
     ]
    },
    {
     "ename": "UnboundLocalError",
     "evalue": "local variable 'cuisines_list' referenced before assignment",
     "output_type": "error",
     "traceback": [
      "\u001b[0;31m---------------------------------------------------------------------------\u001b[0m",
      "\u001b[0;31mUnboundLocalError\u001b[0m                         Traceback (most recent call last)",
      "\u001b[0;32m<ipython-input-61-df443e7e8843>\u001b[0m in \u001b[0;36m<module>\u001b[0;34m()\u001b[0m\n\u001b[1;32m      5\u001b[0m     \u001b[0mrestaurant_name\u001b[0m \u001b[0;34m=\u001b[0m \u001b[0mget_name\u001b[0m\u001b[0;34m(\u001b[0m\u001b[0mtr_tag\u001b[0m\u001b[0;34m)\u001b[0m\u001b[0;34m\u001b[0m\u001b[0m\n\u001b[1;32m      6\u001b[0m     \u001b[0mprice\u001b[0m \u001b[0;34m=\u001b[0m \u001b[0mget_price\u001b[0m\u001b[0;34m(\u001b[0m\u001b[0mtr_tag\u001b[0m\u001b[0;34m)\u001b[0m\u001b[0;34m\u001b[0m\u001b[0m\n\u001b[0;32m----> 7\u001b[0;31m     \u001b[0mcuisines\u001b[0m\u001b[0;34m=\u001b[0m\u001b[0mget_cuisines\u001b[0m\u001b[0;34m(\u001b[0m\u001b[0mtr_tag\u001b[0m\u001b[0;34m)\u001b[0m\u001b[0;34m\u001b[0m\u001b[0m\n\u001b[0m\u001b[1;32m      8\u001b[0m     \u001b[0mrest_dict\u001b[0m \u001b[0;34m=\u001b[0m \u001b[0;34m{\u001b[0m\u001b[0;34m'name'\u001b[0m\u001b[0;34m:\u001b[0m\u001b[0mrestaurant_name\u001b[0m\u001b[0;34m,\u001b[0m \u001b[0;34m'price'\u001b[0m\u001b[0;34m:\u001b[0m\u001b[0mprice\u001b[0m\u001b[0;34m,\u001b[0m \u001b[0;34m'cuisines'\u001b[0m\u001b[0;34m:\u001b[0m\u001b[0mcuisines\u001b[0m\u001b[0;34m}\u001b[0m\u001b[0;34m\u001b[0m\u001b[0m\n\u001b[1;32m      9\u001b[0m     \u001b[0mrestaurants\u001b[0m\u001b[0;34m.\u001b[0m\u001b[0mappend\u001b[0m\u001b[0;34m(\u001b[0m\u001b[0mrest_dict\u001b[0m\u001b[0;34m)\u001b[0m\u001b[0;34m\u001b[0m\u001b[0m\n",
      "\u001b[0;32m<ipython-input-59-3591eccc826a>\u001b[0m in \u001b[0;36mget_cuisines\u001b[0;34m(tr_tag)\u001b[0m\n\u001b[1;32m     21\u001b[0m     \u001b[0;32melse\u001b[0m\u001b[0;34m:\u001b[0m\u001b[0;34m\u001b[0m\u001b[0m\n\u001b[1;32m     22\u001b[0m         \u001b[0mcuisine_list\u001b[0m\u001b[0;34m=\u001b[0m\u001b[0;34m[\u001b[0m\u001b[0;34m]\u001b[0m\u001b[0;34m\u001b[0m\u001b[0m\n\u001b[0;32m---> 23\u001b[0;31m     \u001b[0;32mreturn\u001b[0m \u001b[0mcuisines_list\u001b[0m\u001b[0;34m\u001b[0m\u001b[0m\n\u001b[0m",
      "\u001b[0;31mUnboundLocalError\u001b[0m: local variable 'cuisines_list' referenced before assignment"
     ]
    }
   ],
   "source": [
    "restaurants=[]\n",
    "search_table=soup.find(\"table\", {'class':'search-results'})\n",
    "table_body=search_table.find('tbody')\n",
    "for tr_tag in table_body.find_all('tr'):\n",
    "    restaurant_name = get_name(tr_tag)\n",
    "    price = get_price(tr_tag)\n",
    "    cuisines=get_cuisines(tr_tag)\n",
    "    rest_dict = {'name':restaurant_name, 'price':price, 'cuisines':cuisines}\n",
    "    restaurants.append(rest_dict)\n",
    "restaurants"
   ]
  },
  {
   "cell_type": "code",
   "execution_count": null,
   "metadata": {
    "collapsed": true
   },
   "outputs": [],
   "source": [
    "import pands as pd\n",
    "df = pd.DataFrame(restaurants)"
   ]
  }
 ],
 "metadata": {
  "kernelspec": {
   "display_name": "Python 3",
   "language": "python",
   "name": "python3"
  },
  "language_info": {
   "codemirror_mode": {
    "name": "ipython",
    "version": 3
   },
   "file_extension": ".py",
   "mimetype": "text/x-python",
   "name": "python",
   "nbconvert_exporter": "python",
   "pygments_lexer": "ipython3",
   "version": "3.5.1"
  }
 },
 "nbformat": 4,
 "nbformat_minor": 0
}
