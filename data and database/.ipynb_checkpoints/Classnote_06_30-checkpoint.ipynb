{
 "cells": [
  {
   "cell_type": "code",
   "execution_count": 1,
   "metadata": {
    "collapsed": false
   },
   "outputs": [
    {
     "name": "stdout",
     "output_type": "stream",
     "text": [
      "Collecting Flask\n",
      "  Downloading Flask-0.11.1-py2.py3-none-any.whl (80kB)\n",
      "\u001b[K    100% |████████████████████████████████| 81kB 5.3MB/s \n",
      "\u001b[?25hCollecting Werkzeug>=0.7 (from Flask)\n",
      "  Downloading Werkzeug-0.11.10-py2.py3-none-any.whl (306kB)\n",
      "\u001b[K    100% |████████████████████████████████| 307kB 2.7MB/s \n",
      "\u001b[?25hCollecting itsdangerous>=0.21 (from Flask)\n",
      "  Downloading itsdangerous-0.24.tar.gz (46kB)\n",
      "\u001b[K    100% |████████████████████████████████| 51kB 10.1MB/s \n",
      "\u001b[?25hCollecting Jinja2>=2.4 (from Flask)\n",
      "  Using cached Jinja2-2.8-py2.py3-none-any.whl\n",
      "Collecting click>=2.0 (from Flask)\n",
      "  Downloading click-6.6.tar.gz (283kB)\n",
      "\u001b[K    100% |████████████████████████████████| 286kB 2.3MB/s \n",
      "\u001b[?25hCollecting MarkupSafe (from Jinja2>=2.4->Flask)\n",
      "Building wheels for collected packages: itsdangerous, click\n",
      "  Running setup.py bdist_wheel for itsdangerous ... \u001b[?25l-\b \bdone\n",
      "\u001b[?25h  Stored in directory: /Users/sz2472/Library/Caches/pip/wheels/fc/a8/66/24d655233c757e178d45dea2de22a04c6d92766abfb741129a\n",
      "  Running setup.py bdist_wheel for click ... \u001b[?25l-\b \bdone\n",
      "\u001b[?25h  Stored in directory: /Users/sz2472/Library/Caches/pip/wheels/b0/6d/8c/cf5ca1146e48bc7914748bfb1dbf3a40a440b8b4f4f0d952dd\n",
      "Successfully built itsdangerous click\n",
      "Installing collected packages: Werkzeug, itsdangerous, MarkupSafe, Jinja2, click, Flask\n",
      "Successfully installed Flask-0.11.1 Jinja2-2.8 MarkupSafe-0.23 Werkzeug-0.11.10 click-6.6 itsdangerous-0.24\n"
     ]
    }
   ],
   "source": [
    "!pip3 install Flask"
   ]
  },
  {
   "cell_type": "code",
   "execution_count": null,
   "metadata": {
    "collapsed": false
   },
   "outputs": [],
   "source": [
    "from flask import Flask\n",
    "app = Flask(__name__)\n",
    "\n",
    "@app.route(\"/hello\")  #specify the path following called \"/\n",
    "def hello():\n",
    "    return \"Hello, world\"\n",
    "\n",
    "app.run()"
   ]
  },
  {
   "cell_type": "code",
   "execution_count": null,
   "metadata": {
    "collapsed": true
   },
   "outputs": [],
   "source": [
    "!python hello.py"
   ]
  },
  {
   "cell_type": "code",
   "execution_count": null,
   "metadata": {
    "collapsed": true
   },
   "outputs": [],
   "source": [
    "localhost:5000/greeting?to"
   ]
  },
  {
   "cell_type": "code",
   "execution_count": null,
   "metadata": {
    "collapsed": true
   },
   "outputs": [],
   "source": [
    "import random\n",
    "from flask import Flask, request, render_template\n",
    "app=Flask(_name_)\n",
    "\n",
    "greets=[\"hello\",\"hi\",\"salutations\",\"howdy\",\"sup\", \"hey\"]\n",
    "places=[\"region\", \"continent\", \"world\",\"solar system\", \"galaxy\",\"local cluster\", \"universe\"]\n",
    "@app.route(\"/greeting\") #speficy the host to go the /greeting route\n",
    "def greet_generator():\n",
    "    x=random.choice(greets)\n",
    "    y=random.choice(places)\n",
    "    return render_template(\"greeting.html\",\n",
    "                           greet=x\n",
    "                           place=y)\n",
    "app.run()"
   ]
  },
  {
   "cell_type": "markdown",
   "metadata": {},
   "source": [
    "an html form is a bit of a html code that \n",
    "<form> tag has one attribute called \"action\", method attribute specify which http methods we use: GET(http method, fetching information from the server)/HTTP\n",
    "<textarea>\n",
    "</textarea>\n",
    "<input type=\"text\">\n",
    "<input type=\"submit\">"
   ]
  },
  {
   "cell_type": "code",
   "execution_count": null,
   "metadata": {
    "collapsed": true
   },
   "outputs": [],
   "source": [
    "from flask import Flask, request, render_template\n",
    "app=Flask(_name_)\n",
    "\n",
    "@app.route(\"/\")\n",
    "def display_form():\n",
    "    return render_template(\"simplify_home.html\")\n",
    "@app.route(\"/transformed\", methods=[\"POST\"]) #methods=[\"POST\"]:to make a post request\n",
    "def display_transformation():\n",
    "    return\"put transformed text here\"\n",
    "app.run()"
   ]
  },
  {
   "cell_type": "code",
   "execution_count": null,
   "metadata": {
    "collapsed": true
   },
   "outputs": [],
   "source": [
    "@app.route(\"/transformed\")\n",
    "def display_tranformation():\n",
    "    our_text = request.form['text']\n",
    "    words = [w for w in our_text.split() if len(w) <=5]\n",
    "    out_text=''.join(words)\n",
    "    return render_template(\"simply_transformed.html\",\n",
    "                           output=output_text)\n",
    "app.run()"
   ]
  },
  {
   "cell_type": "markdown",
   "metadata": {},
   "source": [
    "## country information server\n",
    "curl http://localhost:5000/countries?lookup_name=France\n",
    "france, paris, 64933400\n",
    "lookup_name=United+States"
   ]
  },
  {
   "cell_type": "code",
   "execution_count": null,
   "metadata": {
    "collapsed": true
   },
   "outputs": [],
   "source": [
    "expected output:\n",
    "    [\n",
    "      {'name':'Albania', 'capital':'Tirane',\n",
    "      'population':7000000},\n",
    "      {'name':'asdf', 'capital':'asdfasdf', 'population':12345 },\n",
    "      ...\n",
    "    ]"
   ]
  },
  {
   "cell_type": "code",
   "execution_count": null,
   "metadata": {
    "collapsed": true
   },
   "outputs": [],
   "source": [
    "from flask import Flask, request,jsonify#take a dictionary and converts it to json\n",
    "import pg8000\n",
    "\n",
    "app=Flask(_name_)\n",
    "conn=pg800.connect(database=\"mondial\")\n",
    "\n",
    "@app.route(\"/countries\")\n",
    "def get_countries():\n",
    "    popgt=request.args.get('population_gt',0)\n",
    "    cursor=conn.cursor()\n",
    "    cursor.execute(\n",
    "        \"SELECT name, capital, population FROM country WHERE population>=%s ORDER BY name\"\",[popgt])"
   ]
  },
  {
   "cell_type": "code",
   "execution_count": null,
   "metadata": {
    "collapsed": true
   },
   "outputs": [],
   "source": [
    "from flask import Flask, request,jsonify#take a dictionary and converts it to json\n",
    "import pg8000\n",
    "\n",
    "app=Flask(_name_)\n",
    "conn=pg800.connect(database=\"mondial\")\n",
    "\n",
    "@app.route(\"/countries\")\n",
    "def country_info():\n",
    "    cinfo=None\n",
    "    cname=request.args.get('lookup_name', None)#check if the lookup_name key is in the dictionary, if it isn't, \n",
    "    #perform a database seach\n",
    "    if cname:\n",
    "        cursor=conn.cursor()\n",
    "        cursor.execute(\n",
    "            \"SELECT name, capital, population FROM country WHERE name=%s\",\n",
    "            [cname]) # query string\n",
    "        response=cursor.fetchone()\n",
    "        if response:\n",
    "            cinfo={\n",
    "                 'name':response[0],\n",
    "                 'capital':response[1],\n",
    "                 'population':int(response[2])\n",
    "        \n",
    "            }\n",
    "    #format the results as text(html)\n",
    "    #output=response[0] + \", \"+ response[1]+\", \"+str(response[2])\n",
    "    #return that text\n",
    "    #return output\n",
    "    return render_template(\"country_data.html\",\n",
    "                          country=cinfo)\n",
    "\n",
    "app.run()"
   ]
  },
  {
   "cell_type": "code",
   "execution_count": null,
   "metadata": {
    "collapsed": true
   },
   "outputs": [],
   "source": [
    "lunch={'sandwich':1, 'chips':1, 'soda':2}"
   ]
  },
  {
   "cell_type": "code",
   "execution_count": null,
   "metadata": {
    "collapsed": true
   },
   "outputs": [],
   "source": [
    "lunch['sandwich']"
   ]
  },
  {
   "cell_type": "code",
   "execution_count": null,
   "metadata": {
    "collapsed": true
   },
   "outputs": [],
   "source": [
    "carrot_count=0\n",
    "if 'carrots' in lunch:\n",
    "    carrot_count=lunch['carrots']\n",
    "print(carrot_count)"
   ]
  },
  {
   "cell_type": "code",
   "execution_count": null,
   "metadata": {
    "collapsed": true
   },
   "outputs": [],
   "source": [
    "lunch.get('sandwich')"
   ]
  },
  {
   "cell_type": "markdown",
   "metadata": {},
   "source": [
    "<html>\n",
    "     <head>\n",
    "          <title>Country lookup</title>\n",
    "     </head>\n",
    "     <body>\n",
    "          <h1>Country Information</h1>\n",
    "          \n",
    "         <form action=\"/countries\" method=\"GET\">\n",
    "              <input type='text' name=\"lookup_name\">\n",
    "              <input type=\"submit\">\n",
    "         </form>\n",
    "     <body>\n",
    "<html>"
   ]
  },
  {
   "cell_type": "code",
   "execution_count": null,
   "metadata": {
    "collapsed": true
   },
   "outputs": [],
   "source": []
  },
  {
   "cell_type": "code",
   "execution_count": null,
   "metadata": {
    "collapsed": true
   },
   "outputs": [],
   "source": []
  }
 ],
 "metadata": {
  "kernelspec": {
   "display_name": "Python 3",
   "language": "python",
   "name": "python3"
  },
  "language_info": {
   "codemirror_mode": {
    "name": "ipython",
    "version": 3
   },
   "file_extension": ".py",
   "mimetype": "text/x-python",
   "name": "python",
   "nbconvert_exporter": "python",
   "pygments_lexer": "ipython3",
   "version": "3.5.1"
  }
 },
 "nbformat": 4,
 "nbformat_minor": 0
}
