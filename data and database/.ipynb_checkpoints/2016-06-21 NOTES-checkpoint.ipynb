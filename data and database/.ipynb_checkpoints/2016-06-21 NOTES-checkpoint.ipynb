{
 "cells": [
  {
   "cell_type": "markdown",
   "metadata": {},
   "source": [
    "## Sorting lists"
   ]
  },
  {
   "cell_type": "code",
   "execution_count": 5,
   "metadata": {
    "collapsed": true
   },
   "outputs": [],
   "source": [
    "x= [\"duck\",\"aardvark\",\"crocodile\", \"emu\", \"bee\"]"
   ]
  },
  {
   "cell_type": "code",
   "execution_count": 6,
   "metadata": {
    "collapsed": true
   },
   "outputs": [],
   "source": [
    "x.sort()"
   ]
  },
  {
   "cell_type": "code",
   "execution_count": 7,
   "metadata": {
    "collapsed": false
   },
   "outputs": [
    {
     "data": {
      "text/plain": [
       "['aardvark', 'bee', 'crocodile', 'duck', 'emu']"
      ]
     },
     "execution_count": 7,
     "metadata": {},
     "output_type": "execute_result"
    }
   ],
   "source": [
    "x"
   ]
  },
  {
   "cell_type": "code",
   "execution_count": 8,
   "metadata": {
    "collapsed": false
   },
   "outputs": [
    {
     "data": {
      "text/plain": [
       "['emu', 'duck', 'crocodile', 'bee', 'aardvark']"
      ]
     },
     "execution_count": 8,
     "metadata": {},
     "output_type": "execute_result"
    }
   ],
   "source": [
    "### sorted by descending order\n",
    "sorted(x,reverse=True)"
   ]
  },
  {
   "cell_type": "code",
   "execution_count": 9,
   "metadata": {
    "collapsed": true
   },
   "outputs": [],
   "source": [
    "### sorted by second letter:\n",
    "#sorted(x, key=??)"
   ]
  },
  {
   "cell_type": "code",
   "execution_count": 10,
   "metadata": {
    "collapsed": true
   },
   "outputs": [],
   "source": [
    "def get_second_letter(s):\n",
    "    return s[1]"
   ]
  },
  {
   "cell_type": "code",
   "execution_count": 11,
   "metadata": {
    "collapsed": false
   },
   "outputs": [
    {
     "data": {
      "text/plain": [
       "'h'"
      ]
     },
     "execution_count": 11,
     "metadata": {},
     "output_type": "execute_result"
    }
   ],
   "source": [
    "get_second_letter(\"cheese\")"
   ]
  },
  {
   "cell_type": "code",
   "execution_count": 12,
   "metadata": {
    "collapsed": false
   },
   "outputs": [
    {
     "data": {
      "text/plain": [
       "['aardvark', 'bee', 'emu', 'crocodile', 'duck']"
      ]
     },
     "execution_count": 12,
     "metadata": {},
     "output_type": "execute_result"
    }
   ],
   "source": [
    "sorted(x,key=get_second_letter) #key is a parameter, value is a function:get_second_letter"
   ]
  },
  {
   "cell_type": "code",
   "execution_count": 13,
   "metadata": {
    "collapsed": false
   },
   "outputs": [
    {
     "data": {
      "text/plain": [
       "function"
      ]
     },
     "execution_count": 13,
     "metadata": {},
     "output_type": "execute_result"
    }
   ],
   "source": [
    "type(get_second_letter)"
   ]
  },
  {
   "cell_type": "markdown",
   "metadata": {},
   "source": [
    "### lambda functions: a way of writing a function on a single line"
   ]
  },
  {
   "cell_type": "code",
   "execution_count": 14,
   "metadata": {
    "collapsed": true
   },
   "outputs": [],
   "source": [
    "# normal function: def nameofthefunction parameter: return expression\n",
    "def get_second_letters(s):\n",
    "    return s[1]"
   ]
  },
  {
   "cell_type": "code",
   "execution_count": 15,
   "metadata": {
    "collapsed": true
   },
   "outputs": [],
   "source": [
    "# the previous is the same as:\n",
    "get_second_letter = lambda s:s[1]"
   ]
  },
  {
   "cell_type": "code",
   "execution_count": 16,
   "metadata": {
    "collapsed": false
   },
   "outputs": [
    {
     "data": {
      "text/plain": [
       "function"
      ]
     },
     "execution_count": 16,
     "metadata": {},
     "output_type": "execute_result"
    }
   ],
   "source": [
    "type(lambda s:s[1])"
   ]
  },
  {
   "cell_type": "code",
   "execution_count": 17,
   "metadata": {
    "collapsed": false
   },
   "outputs": [
    {
     "name": "stdout",
     "output_type": "stream",
     "text": [
      "hello\n"
     ]
    }
   ],
   "source": [
    "print(\"hello\")"
   ]
  },
  {
   "cell_type": "code",
   "execution_count": 18,
   "metadata": {
    "collapsed": false
   },
   "outputs": [
    {
     "data": {
      "text/plain": [
       "['aardvark', 'bee', 'emu', 'crocodile', 'duck']"
      ]
     },
     "execution_count": 18,
     "metadata": {},
     "output_type": "execute_result"
    }
   ],
   "source": [
    "sorted(x,key=lambda s:s[1])"
   ]
  },
  {
   "cell_type": "markdown",
   "metadata": {},
   "source": [
    "### tuple(\"rhymes with supple\")\n",
    "#### tuple is a kind of like a strict kind of list"
   ]
  },
  {
   "cell_type": "code",
   "execution_count": 19,
   "metadata": {
    "collapsed": true
   },
   "outputs": [],
   "source": [
    "t= (5,10,15)"
   ]
  },
  {
   "cell_type": "code",
   "execution_count": 20,
   "metadata": {
    "collapsed": false
   },
   "outputs": [
    {
     "data": {
      "text/plain": [
       "tuple"
      ]
     },
     "execution_count": 20,
     "metadata": {},
     "output_type": "execute_result"
    }
   ],
   "source": [
    "type(t)"
   ]
  },
  {
   "cell_type": "code",
   "execution_count": 21,
   "metadata": {
    "collapsed": false
   },
   "outputs": [
    {
     "data": {
      "text/plain": [
       "5"
      ]
     },
     "execution_count": 21,
     "metadata": {},
     "output_type": "execute_result"
    }
   ],
   "source": [
    "t[0]"
   ]
  },
  {
   "cell_type": "code",
   "execution_count": 22,
   "metadata": {
    "collapsed": false
   },
   "outputs": [
    {
     "name": "stdout",
     "output_type": "stream",
     "text": [
      "25\n",
      "100\n",
      "225\n"
     ]
    }
   ],
   "source": [
    "for item in t:\n",
    "    print(item*item)"
   ]
  },
  {
   "cell_type": "code",
   "execution_count": 23,
   "metadata": {
    "collapsed": true
   },
   "outputs": [],
   "source": [
    "#tuple is like a list but it can't be changed, it's called \"immutable\" data type\n",
    "#one benefit is exactly that: it can't be changed.\n",
    "#other benefit is that tuples are memory-efficient."
   ]
  },
  {
   "cell_type": "code",
   "execution_count": 24,
   "metadata": {
    "collapsed": true
   },
   "outputs": [],
   "source": [
    "hello=[1,2,3]"
   ]
  },
  {
   "cell_type": "code",
   "execution_count": 25,
   "metadata": {
    "collapsed": true
   },
   "outputs": [],
   "source": [
    "foo=(1,2,3)"
   ]
  },
  {
   "cell_type": "code",
   "execution_count": 26,
   "metadata": {
    "collapsed": false
   },
   "outputs": [
    {
     "data": {
      "text/plain": [
       "88"
      ]
     },
     "execution_count": 26,
     "metadata": {},
     "output_type": "execute_result"
    }
   ],
   "source": [
    "import sys\n",
    "sys.getsizeof(hello)"
   ]
  },
  {
   "cell_type": "code",
   "execution_count": 27,
   "metadata": {
    "collapsed": false
   },
   "outputs": [
    {
     "data": {
      "text/plain": [
       "72"
      ]
     },
     "execution_count": 27,
     "metadata": {},
     "output_type": "execute_result"
    }
   ],
   "source": [
    "sys.getsizeof(foo)"
   ]
  },
  {
   "cell_type": "markdown",
   "metadata": {},
   "source": [
    "## back to regular expressions for a moment"
   ]
  },
  {
   "cell_type": "markdown",
   "metadata": {},
   "source": [
    "### grouping with multiple matches in the same string"
   ]
  },
  {
   "cell_type": "code",
   "execution_count": 28,
   "metadata": {
    "collapsed": false
   },
   "outputs": [
    {
     "data": {
      "text/plain": [
       "['one 1', 'two 2', 'three 3', 'four 4', 'five 5']"
      ]
     },
     "execution_count": 28,
     "metadata": {},
     "output_type": "execute_result"
    }
   ],
   "source": [
    "import re\n",
    "test=\"one 1 two 2 three 3 four 4 five 5\"\n",
    "re.findall(r\"\\w+ \\d\",test)"
   ]
  },
  {
   "cell_type": "code",
   "execution_count": 29,
   "metadata": {
    "collapsed": false
   },
   "outputs": [
    {
     "ename": "ValueError",
     "evalue": "empty separator",
     "output_type": "error",
     "traceback": [
      "\u001b[0;31m---------------------------------------------------------------------------\u001b[0m",
      "\u001b[0;31mValueError\u001b[0m                                Traceback (most recent call last)",
      "\u001b[0;32m<ipython-input-29-60227970f8a8>\u001b[0m in \u001b[0;36m<module>\u001b[0;34m()\u001b[0m\n\u001b[1;32m      1\u001b[0m \u001b[0;32mfor\u001b[0m \u001b[0mitem\u001b[0m \u001b[0;32min\u001b[0m \u001b[0mre\u001b[0m\u001b[0;34m.\u001b[0m\u001b[0mfindall\u001b[0m\u001b[0;34m(\u001b[0m\u001b[0;34mr\"\\w+ \\d\"\u001b[0m\u001b[0;34m,\u001b[0m\u001b[0mtest\u001b[0m\u001b[0;34m)\u001b[0m\u001b[0;34m:\u001b[0m\u001b[0;34m\u001b[0m\u001b[0m\n\u001b[0;32m----> 2\u001b[0;31m     \u001b[0mx\u001b[0m\u001b[0;34m=\u001b[0m\u001b[0mitem\u001b[0m\u001b[0;34m.\u001b[0m\u001b[0msplit\u001b[0m\u001b[0;34m(\u001b[0m\u001b[0;34m\"\"\u001b[0m\u001b[0;34m)\u001b[0m\u001b[0;34m\u001b[0m\u001b[0m\n\u001b[0m\u001b[1;32m      3\u001b[0m     \u001b[0mprint\u001b[0m\u001b[0;34m(\u001b[0m\u001b[0mx\u001b[0m\u001b[0;34m[\u001b[0m\u001b[0;36m0\u001b[0m\u001b[0;34m]\u001b[0m\u001b[0;34m)\u001b[0m\u001b[0;34m\u001b[0m\u001b[0m\n\u001b[1;32m      4\u001b[0m     \u001b[0mprint\u001b[0m\u001b[0;34m(\u001b[0m\u001b[0mx\u001b[0m\u001b[0;34m[\u001b[0m\u001b[0;36m1\u001b[0m\u001b[0;34m]\u001b[0m\u001b[0;34m)\u001b[0m\u001b[0;34m\u001b[0m\u001b[0m\n",
      "\u001b[0;31mValueError\u001b[0m: empty separator"
     ]
    }
   ],
   "source": [
    "for item in re.findall(r\"\\w+ \\d\",test):\n",
    "    x=item.split(\"\")\n",
    "    print(x[0])\n",
    "    print(x[1])"
   ]
  },
  {
   "cell_type": "code",
   "execution_count": null,
   "metadata": {
    "collapsed": false
   },
   "outputs": [],
   "source": [
    "test=\"one 1 two 2 three 3 four 4 five 5\"\n",
    "re.findall(r\"(\\w+) (\\d)\",test)"
   ]
  },
  {
   "cell_type": "code",
   "execution_count": null,
   "metadata": {
    "collapsed": true
   },
   "outputs": [],
   "source": [
    "all_subjects = open(\"enronsubjects.txt\").read()"
   ]
  },
  {
   "cell_type": "code",
   "execution_count": null,
   "metadata": {
    "collapsed": false
   },
   "outputs": [],
   "source": [
    "for item in re.findall(r\"(\\d{3})-(\\d{3})-(\\d{4})\", all_subjects):\n",
    "    print item[0]"
   ]
  },
  {
   "cell_type": "code",
   "execution_count": null,
   "metadata": {
    "collapsed": false
   },
   "outputs": [],
   "source": [
    "[item[0] for item in re.findall(r\"(\\d{3})-(\\d{3})-(\\d{4})\", all_subjects)]"
   ]
  },
  {
   "cell_type": "markdown",
   "metadata": {},
   "source": [
    "### monetary amounts in the subject lines\n",
    "match something like $10 m, k, b"
   ]
  },
  {
   "cell_type": "code",
   "execution_count": null,
   "metadata": {
    "collapsed": false
   },
   "outputs": [],
   "source": [
    "re.findall(r\"\\$(\\d+) ?(\\w+)\", all_subjects)"
   ]
  },
  {
   "cell_type": "code",
   "execution_count": null,
   "metadata": {
    "collapsed": false
   },
   "outputs": [],
   "source": [
    "vals=[]\n",
    "for item in re.findall(r\"\\$(\\d+) ?([mMbBkK])\", all_subjects):\n",
    "    multiplier=item[1].lower()\n",
    "    number_val=int(item[0])\n",
    "    if multiplier=='k':\n",
    "        number_val *= 1000\n",
    "    elif multiplier=='m':\n",
    "        number_val *= 1000000\n",
    "    elif multiplier=='b':\n",
    "        number_val *= 1000000000\n",
    "    vals.append(number_val)\n",
    "sum(vals)\n",
    "    "
   ]
  },
  {
   "cell_type": "markdown",
   "metadata": {},
   "source": [
    "### substitution with regular expressions"
   ]
  },
  {
   "cell_type": "code",
   "execution_count": null,
   "metadata": {
    "collapsed": true
   },
   "outputs": [],
   "source": [
    "message = \"this is a test, this is only a test\""
   ]
  },
  {
   "cell_type": "code",
   "execution_count": null,
   "metadata": {
    "collapsed": false
   },
   "outputs": [],
   "source": [
    "message.replace(\"this\",\"that\").replace(\"test\",\"walrus\") #.replace() replace part of a string"
   ]
  },
  {
   "cell_type": "code",
   "execution_count": null,
   "metadata": {
    "collapsed": false
   },
   "outputs": [],
   "source": [
    "re.findall(r\"\\d{3}-\\d{3}-\\d{4}\", all_subjects)"
   ]
  },
  {
   "cell_type": "code",
   "execution_count": null,
   "metadata": {
    "collapsed": false
   },
   "outputs": [],
   "source": [
    "message=\"This is a test; this is only a test.\"\n",
    "re.sub(r\"[Tt]his\", \"that\", message) #.sub():substitute a pattern"
   ]
  },
  {
   "cell_type": "code",
   "execution_count": null,
   "metadata": {
    "collapsed": false
   },
   "outputs": [],
   "source": [
    "re.sub(r\"\\b\\w+\\b\", \"WALRUS\", message)"
   ]
  },
  {
   "cell_type": "code",
   "execution_count": null,
   "metadata": {
    "collapsed": true
   },
   "outputs": [],
   "source": [
    "anon = re.sub(r\"\\d{3}-\\d{3}-\\d{4}\", \"555-555-5555\", all_subjects)"
   ]
  },
  {
   "cell_type": "code",
   "execution_count": null,
   "metadata": {
    "collapsed": false
   },
   "outputs": [],
   "source": [
    "re.findall(r\".{,20}\\d{3}-\\d{3}-\\d{4}.{,20}\",anon)"
   ]
  },
  {
   "cell_type": "code",
   "execution_count": null,
   "metadata": {
    "collapsed": false
   },
   "outputs": [],
   "source": [
    "anon = re.sub(r\"(\\d{3}-\\d{3}-\\d{4}\", r\"\\1-\\2-XXXX\", all_subjects)"
   ]
  },
  {
   "cell_type": "markdown",
   "metadata": {},
   "source": [
    "## HTML to SQL"
   ]
  },
  {
   "cell_type": "code",
   "execution_count": 32,
   "metadata": {
    "collapsed": false
   },
   "outputs": [
    {
     "data": {
      "text/plain": [
       "('/var/folders/zh/j6d1c6bx17jcmkyybqlcnjlm0000gn/T/tmpb_7h3mb2',\n",
       " <http.client.HTTPMessage at 0x1132d2400>)"
      ]
     },
     "execution_count": 32,
     "metadata": {},
     "output_type": "execute_result"
    }
   ],
   "source": [
    "from urllib.request import urlretrieve\n",
    "urlretrieve(\"https://raw.githubusercontent.com/ledeprogram/data-and-databases/master/menupages-morningside-heights.html\")"
   ]
  },
  {
   "cell_type": "code",
   "execution_count": null,
   "metadata": {
    "collapsed": false
   },
   "outputs": [],
   "source": [
    "#urlretrieve(url, filename)"
   ]
  },
  {
   "cell_type": "markdown",
   "metadata": {},
   "source": [
    "store:\n",
    "* restaurant name\n",
    "* price ($\n",
    "* cuisine\n",
    "\n",
    "research phase:\n",
    "* every restaurant has a <tr> that is a child of the <table> tag with class search-results\n",
    "* restaurants are in <td> tags with class name-address\n",
    "* restaurant names are in an <a> tag inside that <td> tag\n",
    "* restaurant price in a span inside a <td> tag with class price\n",
    "* the cuisine of the restaurant is in a <td> tag with no class, the fifth <td> tag that is a child of the restaurant's <tr>'\n",
    "\n",
    "targets:\n",
    "* list of dictionaries\n",
    "   [ \n",
    "      {'name':\"Brad's, 'price': 1,'cuisine':['coffee']}, \n",
    "      {'name':\"Cafe Nana\", 'price':0, 'cuisines':['Middle Eastern','Kosher']},\n",
    "      ...\n",
    "   ]"
   ]
  },
  {
   "cell_type": "code",
   "execution_count": 33,
   "metadata": {
    "collapsed": true
   },
   "outputs": [],
   "source": [
    "from bs4 import BeautifulSoup"
   ]
  },
  {
   "cell_type": "code",
   "execution_count": 34,
   "metadata": {
    "collapsed": true
   },
   "outputs": [],
   "source": [
    "raw_html = open(\"menupages-morningside-heights.html\").read()\n",
    "soup = BeautifulSoup(raw_html, \"html.parser\")"
   ]
  },
  {
   "cell_type": "code",
   "execution_count": 35,
   "metadata": {
    "collapsed": false
   },
   "outputs": [
    {
     "name": "stdout",
     "output_type": "stream",
     "text": [
      "Milano Market\n",
      "Massawa\n",
      "China Place\n",
      "Subsconscious\n",
      "Famous Famiglia\n",
      "Kitchenette\n",
      "V & T Pizza\n",
      "New Aroma\n",
      "Peking Garden\n",
      "Tom's Restaurant\n",
      "Pisticci\n",
      "Deluxe\n",
      "Toast\n",
      "Tom's Delicious Pizza\n",
      "West Place\n",
      "Che' Bella Pizza\n",
      "Ajanta\n",
      "Panino Sportivo Roma\n",
      "Max Soha\n",
      "Strokos Pizza\n",
      "Camille's\n",
      "Amsterdam Restaurant\n",
      "Nussbaum & Wu\n",
      "Amir's Grill\n",
      "M2M - Morning To Midnight\n",
      "The Mill\n",
      "Le Monde\n",
      "Melba's\n",
      "Chuck E Cheese's\n",
      "Haagen-Dazs\n",
      "Oren's\n",
      "Dinosaur Bar-B-Que\n",
      "Symposium Greek Restaurant\n",
      "Koronet Pizza\n",
      "The Heights Bar & Grill\n",
      "Cafe Nana\n",
      "Hamilton Deli\n",
      "Community Food & Juice\n",
      "Haakon's Hall\n",
      "El Porton\n",
      "Brad's\n",
      "Mel's Burger Bar\n",
      "Bettolona\n",
      "Five Guys\n",
      "Nikko\n",
      "Falafel on Broadway\n",
      "Sushi Sushi\n",
      "Insomnia Cookies\n",
      "Cafe Amrita\n",
      "Pinkberry\n",
      "Artopolis Espresso Cafe\n",
      "Max Caffe\n",
      "Chipotle\n",
      "Chokolat Patisserie\n",
      "Chokolat Patisserie\n",
      "Joe's G-H Deli\n",
      "Joe the Art of Coffee\n",
      "Levain Bakery\n",
      "Silvana\n",
      "Bier International\n",
      "Vegenation\n",
      "Flat Top\n",
      "Kuro Kuma\n",
      "Vinateria\n",
      "Henan Cart\n",
      "Vine\n",
      "El Paso Truck\n",
      "Mama's Fried Chicken and Pizza\n",
      "Chapati House\n",
      "Dig Inn Seasonal Market\n",
      "Uncle Luoyang\n",
      "Pita Grill\n",
      "Kissaten Jin\n",
      "Serengeti Teas & Spices\n",
      "Lighthouse Fish Market & Restaurant\n",
      "Lolo's Seafood Shack\n",
      "Harmony\n",
      "Bernheim & Schwartz\n",
      "BTH (By The Hudson)\n",
      "Empanadas Monumental\n",
      "Friedman's\n",
      "176 Presbyterian Deli\n",
      "Nacho Mama's\n",
      "Streetbird Rotisserie\n",
      "Colum Chinese Restaurant\n",
      "Flacoz Tacoz\n",
      "sweetgreen\n",
      "La Salle Dumpling Room\n"
     ]
    }
   ],
   "source": [
    "#just the name\n",
    "search_table=soup.find(\"table\", {'class':'search-results'})\n",
    "table_body=search_table.find('tbody')\n",
    "for tr_tag in table_body.find_all('tr'):\n",
    "    name_address_tag = tr_tag.find('td', {'class':'name-address'})\n",
    "    a_tag = name_address_tag.find('a')\n",
    "    print(a_tag.string)"
   ]
  },
  {
   "cell_type": "code",
   "execution_count": 36,
   "metadata": {
    "collapsed": false
   },
   "outputs": [
    {
     "name": "stdout",
     "output_type": "stream",
     "text": [
      "Milano Market 2\n",
      "Massawa 0\n",
      "China Place 0\n",
      "Subsconscious 0\n",
      "Famous Famiglia 0\n",
      "Kitchenette 0\n",
      "V & T Pizza 0\n",
      "New Aroma 1\n",
      "Peking Garden 1\n",
      "Tom's Restaurant 1\n",
      "Pisticci 1\n",
      "Deluxe 1\n",
      "Toast 2\n",
      "Tom's Delicious Pizza 2\n",
      "West Place 1\n",
      "Che' Bella Pizza 0\n",
      "Ajanta 0\n",
      "Panino Sportivo Roma 2\n",
      "Max Soha 2\n",
      "Strokos Pizza 3\n",
      "Camille's 1\n",
      "Amsterdam Restaurant 1\n",
      "Nussbaum & Wu 0\n",
      "Amir's Grill 1\n",
      "M2M - Morning To Midnight 1\n",
      "The Mill 2\n",
      "Le Monde 1\n",
      "Melba's 1\n",
      "Chuck E Cheese's 0\n",
      "Haagen-Dazs 1\n",
      "Oren's 0\n",
      "Dinosaur Bar-B-Que 3\n",
      "Symposium Greek Restaurant 0\n",
      "Koronet Pizza 1\n",
      "The Heights Bar & Grill 1\n",
      "Cafe Nana 0\n",
      "Hamilton Deli 0\n",
      "Community Food & Juice 0\n",
      "Haakon's Hall 0\n",
      "El Porton 0\n",
      "Brad's 1\n",
      "Mel's Burger Bar 2\n",
      "Bettolona 1\n",
      "Five Guys 1\n",
      "Nikko 2\n",
      "Falafel on Broadway 1\n",
      "Sushi Sushi 1\n",
      "Insomnia Cookies 1\n",
      "Cafe Amrita 1\n",
      "Pinkberry 2\n",
      "Artopolis Espresso Cafe 1\n",
      "Max Caffe 2\n",
      "Chipotle 1\n",
      "Chokolat Patisserie 5\n",
      "Chokolat Patisserie 1\n",
      "Joe's G-H Deli 2\n",
      "Joe the Art of Coffee 1\n",
      "Levain Bakery 2\n",
      "Silvana 1\n",
      "Bier International 1\n",
      "Vegenation 1\n",
      "Flat Top 4\n",
      "Kuro Kuma 1\n",
      "Vinateria 2\n",
      "Henan Cart 1\n",
      "Vine 2\n",
      "El Paso Truck 1\n",
      "Mama's Fried Chicken and Pizza 1\n",
      "Chapati House 2\n",
      "Dig Inn Seasonal Market 1\n",
      "Uncle Luoyang 1\n",
      "Pita Grill 2\n",
      "Kissaten Jin 1\n",
      "Serengeti Teas & Spices 2\n",
      "Lighthouse Fish Market & Restaurant 3\n",
      "Lolo's Seafood Shack 2\n",
      "Harmony 1\n",
      "Bernheim & Schwartz 2\n",
      "BTH (By The Hudson) 3\n",
      "Empanadas Monumental 0\n",
      "Friedman's 0\n",
      "176 Presbyterian Deli 0\n",
      "Nacho Mama's 0\n",
      "Streetbird Rotisserie 0\n",
      "Colum Chinese Restaurant 0\n",
      "Flacoz Tacoz 0\n",
      "sweetgreen 0\n",
      "La Salle Dumpling Room 0\n"
     ]
    }
   ],
   "source": [
    "search_table=soup.find(\"table\", {'class':'search-results'})\n",
    "table_body=search_table.find('tbody')\n",
    "for tr_tag in table_body.find_all('tr'):\n",
    "    # get the restaurant name from the a inside a td\n",
    "    name_address_tag = tr_tag.find('td', {'class':'name-address'})\n",
    "    a_tag = name_address_tag.find('a')\n",
    "    restaurant_name=a_tag.string\n",
    "    #get the price from the span if present\n",
    "    price_tag = tr_tag.find('td', {'class':'price'})\n",
    "    price_span_tag = price_tag.find('span')\n",
    "    if price_span_tag:\n",
    "        price=int(price_span_tag.string)\n",
    "    else:\n",
    "        price=0\n",
    "    print(restaurant_name, price)"
   ]
  },
  {
   "cell_type": "code",
   "execution_count": 37,
   "metadata": {
    "collapsed": true
   },
   "outputs": [],
   "source": [
    "def get_name(tag):\n",
    "    return\"TEST RESTAURANT\"\n",
    "def get_price(tag):\n",
    "    return\"999999\""
   ]
  },
  {
   "cell_type": "code",
   "execution_count": 38,
   "metadata": {
    "collapsed": false
   },
   "outputs": [
    {
     "name": "stdout",
     "output_type": "stream",
     "text": [
      "TEST RESTAURANT 999999\n",
      "TEST RESTAURANT 999999\n",
      "TEST RESTAURANT 999999\n",
      "TEST RESTAURANT 999999\n",
      "TEST RESTAURANT 999999\n",
      "TEST RESTAURANT 999999\n",
      "TEST RESTAURANT 999999\n",
      "TEST RESTAURANT 999999\n",
      "TEST RESTAURANT 999999\n",
      "TEST RESTAURANT 999999\n",
      "TEST RESTAURANT 999999\n",
      "TEST RESTAURANT 999999\n",
      "TEST RESTAURANT 999999\n",
      "TEST RESTAURANT 999999\n",
      "TEST RESTAURANT 999999\n",
      "TEST RESTAURANT 999999\n",
      "TEST RESTAURANT 999999\n",
      "TEST RESTAURANT 999999\n",
      "TEST RESTAURANT 999999\n",
      "TEST RESTAURANT 999999\n",
      "TEST RESTAURANT 999999\n",
      "TEST RESTAURANT 999999\n",
      "TEST RESTAURANT 999999\n",
      "TEST RESTAURANT 999999\n",
      "TEST RESTAURANT 999999\n",
      "TEST RESTAURANT 999999\n",
      "TEST RESTAURANT 999999\n",
      "TEST RESTAURANT 999999\n",
      "TEST RESTAURANT 999999\n",
      "TEST RESTAURANT 999999\n",
      "TEST RESTAURANT 999999\n",
      "TEST RESTAURANT 999999\n",
      "TEST RESTAURANT 999999\n",
      "TEST RESTAURANT 999999\n",
      "TEST RESTAURANT 999999\n",
      "TEST RESTAURANT 999999\n",
      "TEST RESTAURANT 999999\n",
      "TEST RESTAURANT 999999\n",
      "TEST RESTAURANT 999999\n",
      "TEST RESTAURANT 999999\n",
      "TEST RESTAURANT 999999\n",
      "TEST RESTAURANT 999999\n",
      "TEST RESTAURANT 999999\n",
      "TEST RESTAURANT 999999\n",
      "TEST RESTAURANT 999999\n",
      "TEST RESTAURANT 999999\n",
      "TEST RESTAURANT 999999\n",
      "TEST RESTAURANT 999999\n",
      "TEST RESTAURANT 999999\n",
      "TEST RESTAURANT 999999\n",
      "TEST RESTAURANT 999999\n",
      "TEST RESTAURANT 999999\n",
      "TEST RESTAURANT 999999\n",
      "TEST RESTAURANT 999999\n",
      "TEST RESTAURANT 999999\n",
      "TEST RESTAURANT 999999\n",
      "TEST RESTAURANT 999999\n",
      "TEST RESTAURANT 999999\n",
      "TEST RESTAURANT 999999\n",
      "TEST RESTAURANT 999999\n",
      "TEST RESTAURANT 999999\n",
      "TEST RESTAURANT 999999\n",
      "TEST RESTAURANT 999999\n",
      "TEST RESTAURANT 999999\n",
      "TEST RESTAURANT 999999\n",
      "TEST RESTAURANT 999999\n",
      "TEST RESTAURANT 999999\n",
      "TEST RESTAURANT 999999\n",
      "TEST RESTAURANT 999999\n",
      "TEST RESTAURANT 999999\n",
      "TEST RESTAURANT 999999\n",
      "TEST RESTAURANT 999999\n",
      "TEST RESTAURANT 999999\n",
      "TEST RESTAURANT 999999\n",
      "TEST RESTAURANT 999999\n",
      "TEST RESTAURANT 999999\n",
      "TEST RESTAURANT 999999\n",
      "TEST RESTAURANT 999999\n",
      "TEST RESTAURANT 999999\n",
      "TEST RESTAURANT 999999\n",
      "TEST RESTAURANT 999999\n",
      "TEST RESTAURANT 999999\n",
      "TEST RESTAURANT 999999\n",
      "TEST RESTAURANT 999999\n",
      "TEST RESTAURANT 999999\n",
      "TEST RESTAURANT 999999\n",
      "TEST RESTAURANT 999999\n",
      "TEST RESTAURANT 999999\n"
     ]
    }
   ],
   "source": [
    "search_table=soup.find(\"table\", {'class':'search-results'})\n",
    "table_body=search_table.find('tbody')\n",
    "for tr_tag in table_body.find_all('tr'):\n",
    "    restaurant_name = get_name(tr_tag)\n",
    "    price = get_price(tr_tag)\n",
    "    print(restaurant_name, price)"
   ]
  },
  {
   "cell_type": "code",
   "execution_count": 39,
   "metadata": {
    "collapsed": true
   },
   "outputs": [],
   "source": [
    "def get_name(tr_tag):\n",
    "    name_address_tag = tr_tag.find('td', {'class':'name-address'})\n",
    "    a_tag = name_address_tag.find('a')\n",
    "    restaurant_name=a_tag.string\n",
    "    return restaurant_name\n",
    "def get_price(tr_tag):\n",
    "    price_tag = tr_tag.find('td', {'class':'price'})\n",
    "    price_span_tag = price_tag.find('span')\n",
    "    if price_span_tag:\n",
    "        price=int(price_span_tag.string)\n",
    "    else:\n",
    "        price=0\n",
    "    return price\n",
    "def get_cuisines(tr_tag):\n",
    "    all_td_tags=tr_tag.find_all('td')\n",
    "    cuisine_tag = all_td_tags[4]\n",
    "    print(cuisine_tag)\n",
    "    cuisines = cuisine_tag.string\n",
    "    if cuisines:\n",
    "        cuisines_list= cuisines.split(\", \")\n",
    "    else:\n",
    "        cuisine_list=[]\n",
    "    return cuisines_list"
   ]
  },
  {
   "cell_type": "code",
   "execution_count": 40,
   "metadata": {
    "collapsed": false
   },
   "outputs": [
    {
     "name": "stdout",
     "output_type": "stream",
     "text": [
      "<td>deli, sandwiches</td>\n",
      "<td>ethiopian, african</td>\n",
      "<td>chinese, japanese, sushi</td>\n",
      "<td>cheese-steaks, deli, sandwiches, salads</td>\n",
      "<td>italian, pizza</td>\n",
      "<td>bakery-pastries, american, desserts</td>\n",
      "<td>italian, pizza</td>\n",
      "<td>chinese</td>\n",
      "<td>chinese</td>\n",
      "<td>diner</td>\n",
      "<td>italian</td>\n",
      "<td>diner, american</td>\n",
      "<td>american, bar-food</td>\n",
      "<td>italian, pizza</td>\n",
      "<td>chinese</td>\n",
      "<td>italian, pizza</td>\n",
      "<td>indian</td>\n",
      "<td>italian, coffee-tea, sandwiches</td>\n",
      "<td>italian</td>\n",
      "<td>deli, pizza, sandwiches, chicken</td>\n",
      "<td>american</td>\n",
      "<td>american-new, tapas</td>\n",
      "<td>deli, sandwiches, bagels, salads</td>\n",
      "<td>middle-eastern</td>\n",
      "<td>japanese, sushi, deli, sandwiches</td>\n",
      "<td>korean</td>\n",
      "<td>french, bistro</td>\n",
      "<td>american-new, soul-food</td>\n",
      "<td>pizza, american</td>\n",
      "<td>desserts</td>\n",
      "<td>coffee-tea, sandwiches</td>\n",
      "<td>barbecue, soul-food</td>\n",
      "<td>greek, vegetarian</td>\n",
      "<td>pizza</td>\n",
      "<td>southwestern, tapas, bar-food</td>\n",
      "<td>middle-eastern, kosher</td>\n",
      "<td>deli, sandwiches</td>\n",
      "<td>american-new, smoothies-juices, vegetarian, healthy, localorganic</td>\n",
      "<td>american, scandinavian</td>\n",
      "<td>mexican</td>\n",
      "<td>coffee-tea</td>\n",
      "<td>burgers, bar-food</td>\n",
      "<td>italian, pizza, localorganic</td>\n",
      "<td>burgers, hot-dogs</td>\n",
      "<td>chinese, japanese, sushi, teahouses</td>\n",
      "<td>middle-eastern</td>\n",
      "<td>japanese, sushi</td>\n",
      "<td>bakery-pastries, desserts</td>\n",
      "<td>coffee-tea, sandwiches</td>\n",
      "<td>desserts</td>\n",
      "<td>coffee-tea, sandwiches, crepes</td>\n",
      "<td>coffee-tea, sandwiches</td>\n",
      "<td>mexican</td>\n",
      "<td>bakery-pastries, desserts</td>\n",
      "<td>bakery-pastries, coffee-tea, desserts</td>\n",
      "<td>deli, sandwiches</td>\n",
      "<td>coffee-tea</td>\n",
      "<td>bakery-pastries, desserts</td>\n",
      "<td>middle-eastern, vegetarian</td>\n",
      "<td>german, eclectic, bar-food</td>\n",
      "<td>indian, vegetarian</td>\n",
      "<td>american-new, bistro</td>\n",
      "<td>coffee-tea</td>\n",
      "<td>american-new</td>\n",
      "<td>chinese</td>\n",
      "<td>japanese, sushi, thai</td>\n",
      "<td>mexican</td>\n",
      "<td>pizza, chicken</td>\n",
      "<td>indian</td>\n",
      "<td>american, localorganic</td>\n",
      "<td>chinese</td>\n",
      "<td>middle-eastern</td>\n",
      "<td>japanese</td>\n",
      "<td>coffee-tea, teahouses</td>\n",
      "<td>seafood, wings, fish--chips</td>\n",
      "<td>seafood</td>\n",
      "<td>sandwiches, salads, teahouses</td>\n",
      "<td>american, gastropub</td>\n",
      "<td>american-new</td>\n",
      "<td></td>\n"
     ]
    },
    {
     "ename": "UnboundLocalError",
     "evalue": "local variable 'cuisines_list' referenced before assignment",
     "output_type": "error",
     "traceback": [
      "\u001b[0;31m---------------------------------------------------------------------------\u001b[0m",
      "\u001b[0;31mUnboundLocalError\u001b[0m                         Traceback (most recent call last)",
      "\u001b[0;32m<ipython-input-40-df443e7e8843>\u001b[0m in \u001b[0;36m<module>\u001b[0;34m()\u001b[0m\n\u001b[1;32m      5\u001b[0m     \u001b[0mrestaurant_name\u001b[0m \u001b[0;34m=\u001b[0m \u001b[0mget_name\u001b[0m\u001b[0;34m(\u001b[0m\u001b[0mtr_tag\u001b[0m\u001b[0;34m)\u001b[0m\u001b[0;34m\u001b[0m\u001b[0m\n\u001b[1;32m      6\u001b[0m     \u001b[0mprice\u001b[0m \u001b[0;34m=\u001b[0m \u001b[0mget_price\u001b[0m\u001b[0;34m(\u001b[0m\u001b[0mtr_tag\u001b[0m\u001b[0;34m)\u001b[0m\u001b[0;34m\u001b[0m\u001b[0m\n\u001b[0;32m----> 7\u001b[0;31m     \u001b[0mcuisines\u001b[0m\u001b[0;34m=\u001b[0m\u001b[0mget_cuisines\u001b[0m\u001b[0;34m(\u001b[0m\u001b[0mtr_tag\u001b[0m\u001b[0;34m)\u001b[0m\u001b[0;34m\u001b[0m\u001b[0m\n\u001b[0m\u001b[1;32m      8\u001b[0m     \u001b[0mrest_dict\u001b[0m \u001b[0;34m=\u001b[0m \u001b[0;34m{\u001b[0m\u001b[0;34m'name'\u001b[0m\u001b[0;34m:\u001b[0m\u001b[0mrestaurant_name\u001b[0m\u001b[0;34m,\u001b[0m \u001b[0;34m'price'\u001b[0m\u001b[0;34m:\u001b[0m\u001b[0mprice\u001b[0m\u001b[0;34m,\u001b[0m \u001b[0;34m'cuisines'\u001b[0m\u001b[0;34m:\u001b[0m\u001b[0mcuisines\u001b[0m\u001b[0;34m}\u001b[0m\u001b[0;34m\u001b[0m\u001b[0m\n\u001b[1;32m      9\u001b[0m     \u001b[0mrestaurants\u001b[0m\u001b[0;34m.\u001b[0m\u001b[0mappend\u001b[0m\u001b[0;34m(\u001b[0m\u001b[0mrest_dict\u001b[0m\u001b[0;34m)\u001b[0m\u001b[0;34m\u001b[0m\u001b[0m\n",
      "\u001b[0;32m<ipython-input-39-3591eccc826a>\u001b[0m in \u001b[0;36mget_cuisines\u001b[0;34m(tr_tag)\u001b[0m\n\u001b[1;32m     21\u001b[0m     \u001b[0;32melse\u001b[0m\u001b[0;34m:\u001b[0m\u001b[0;34m\u001b[0m\u001b[0m\n\u001b[1;32m     22\u001b[0m         \u001b[0mcuisine_list\u001b[0m\u001b[0;34m=\u001b[0m\u001b[0;34m[\u001b[0m\u001b[0;34m]\u001b[0m\u001b[0;34m\u001b[0m\u001b[0m\n\u001b[0;32m---> 23\u001b[0;31m     \u001b[0;32mreturn\u001b[0m \u001b[0mcuisines_list\u001b[0m\u001b[0;34m\u001b[0m\u001b[0m\n\u001b[0m",
      "\u001b[0;31mUnboundLocalError\u001b[0m: local variable 'cuisines_list' referenced before assignment"
     ]
    }
   ],
   "source": [
    "restaurants=[]\n",
    "search_table=soup.find(\"table\", {'class':'search-results'})\n",
    "table_body=search_table.find('tbody')\n",
    "for tr_tag in table_body.find_all('tr'):\n",
    "    restaurant_name = get_name(tr_tag)\n",
    "    price = get_price(tr_tag)\n",
    "    cuisines=get_cuisines(tr_tag)\n",
    "    rest_dict = {'name':restaurant_name, 'price':price, 'cuisines':cuisines}\n",
    "    restaurants.append(rest_dict)\n",
    "restaurants"
   ]
  },
  {
   "cell_type": "code",
   "execution_count": 41,
   "metadata": {
    "collapsed": false
   },
   "outputs": [],
   "source": [
    "import pandas as pd\n",
    "df = pd.DataFrame(restaurants)"
   ]
  },
  {
   "cell_type": "code",
   "execution_count": 42,
   "metadata": {
    "collapsed": false
   },
   "outputs": [
    {
     "data": {
      "text/html": [
       "<div>\n",
       "<table border=\"1\" class=\"dataframe\">\n",
       "  <thead>\n",
       "    <tr style=\"text-align: right;\">\n",
       "      <th></th>\n",
       "      <th>cuisines</th>\n",
       "      <th>name</th>\n",
       "      <th>price</th>\n",
       "    </tr>\n",
       "  </thead>\n",
       "  <tbody>\n",
       "    <tr>\n",
       "      <th>19</th>\n",
       "      <td>[deli, pizza, sandwiches, chicken]</td>\n",
       "      <td>Strokos Pizza</td>\n",
       "      <td>3</td>\n",
       "    </tr>\n",
       "    <tr>\n",
       "      <th>31</th>\n",
       "      <td>[barbecue, soul-food]</td>\n",
       "      <td>Dinosaur Bar-B-Que</td>\n",
       "      <td>3</td>\n",
       "    </tr>\n",
       "    <tr>\n",
       "      <th>53</th>\n",
       "      <td>[bakery-pastries, desserts]</td>\n",
       "      <td>Chokolat Patisserie</td>\n",
       "      <td>5</td>\n",
       "    </tr>\n",
       "    <tr>\n",
       "      <th>61</th>\n",
       "      <td>[american-new, bistro]</td>\n",
       "      <td>Flat Top</td>\n",
       "      <td>4</td>\n",
       "    </tr>\n",
       "    <tr>\n",
       "      <th>74</th>\n",
       "      <td>[seafood, wings, fish--chips]</td>\n",
       "      <td>Lighthouse Fish Market &amp; Restaurant</td>\n",
       "      <td>3</td>\n",
       "    </tr>\n",
       "    <tr>\n",
       "      <th>78</th>\n",
       "      <td>[american-new]</td>\n",
       "      <td>BTH (By The Hudson)</td>\n",
       "      <td>3</td>\n",
       "    </tr>\n",
       "  </tbody>\n",
       "</table>\n",
       "</div>"
      ],
      "text/plain": [
       "                              cuisines                                 name  \\\n",
       "19  [deli, pizza, sandwiches, chicken]                        Strokos Pizza   \n",
       "31               [barbecue, soul-food]                   Dinosaur Bar-B-Que   \n",
       "53         [bakery-pastries, desserts]                  Chokolat Patisserie   \n",
       "61              [american-new, bistro]                             Flat Top   \n",
       "74       [seafood, wings, fish--chips]  Lighthouse Fish Market & Restaurant   \n",
       "78                      [american-new]                  BTH (By The Hudson)   \n",
       "\n",
       "    price  \n",
       "19      3  \n",
       "31      3  \n",
       "53      5  \n",
       "61      4  \n",
       "74      3  \n",
       "78      3  "
      ]
     },
     "execution_count": 42,
     "metadata": {},
     "output_type": "execute_result"
    }
   ],
   "source": [
    "df[df['price'] >2]"
   ]
  },
  {
   "cell_type": "markdown",
   "metadata": {},
   "source": [
    "## Putting this stuff into SQL\n",
    "\n",
    "* \"schema\" -> desiging the tables\n",
    "* what table(s) do we need?\n",
    "* what should those tables have in them? (columns and data types)\n",
    "\n",
    "* data normalization normal form\n",
    "\n",
    "* entities\n",
    "\n",
    "* restaurant name, price, list of cuisines\n",
    "* which cuisines a restaurant is associated with\n",
    "\n",
    "restaurant table:\n",
    "*'id' (unique integer identifying the restaurant)\n",
    "*'name'(string with the restaurant's name)\n",
    "*'price'(integer that corresponds to the number of dollar signs)\n",
    "\n",
    "cuisine table:\n",
    "* 'restaurant_id' (number associated with restaurant)\n",
    "* 'kind' (string that identifies the cuisine type itself)\n",
    "...\n",
    "\n",
    "sample entry from restaurant table\n",
    "restaurant_id: 4\n",
    "name: Brad's\n",
    "price:1\n",
    "...\n",
    "...\n",
    "sameple entry from cuisine table\n",
    "restaurant_id: 4\n",
    "kind: coffee-tea\n",
    "\n",
    "restaurant_id: 4\n",
    "kind: seafood\n",
    "...\n",
    "select restaurant.restaurant_id\n",
    "from restaurant join cuisine on restaurant.restaurant_id=cuisine.restaurant_id\n",
    "\n",
    "\"set up ohase\"-> creating database and creating tables \"one time\"->psql\n",
    "\"working with data phase\"-> inserting records, selecting stuff->python"
   ]
  },
  {
   "cell_type": "markdown",
   "metadata": {},
   "source": [
    "sql_data_types like\n",
    "* int_Integer\n",
    "*varvhar(n) string with length n\n",
    "* numeric number/decimal\n",
    "* \"serial\"-> ubteger that is automatically assigned"
   ]
  },
  {
   "cell_type": "markdown",
   "metadata": {},
   "source": [
    "### connect to the database"
   ]
  },
  {
   "cell_type": "code",
   "execution_count": 43,
   "metadata": {
    "collapsed": true
   },
   "outputs": [],
   "source": [
    "import pg8000\n",
    "conn= pg8000.connect(database=\"menupages\")"
   ]
  },
  {
   "cell_type": "code",
   "execution_count": 44,
   "metadata": {
    "collapsed": false
   },
   "outputs": [
    {
     "data": {
      "text/plain": [
       "pg8000.core.Connection"
      ]
     },
     "execution_count": 44,
     "metadata": {},
     "output_type": "execute_result"
    }
   ],
   "source": [
    "type(conn)"
   ]
  },
  {
   "cell_type": "code",
   "execution_count": 63,
   "metadata": {
    "collapsed": true
   },
   "outputs": [],
   "source": [
    "conn.rollback() #execyte this whever you make a SQL problem"
   ]
  },
  {
   "cell_type": "code",
   "execution_count": 46,
   "metadata": {
    "collapsed": true
   },
   "outputs": [],
   "source": [
    "cursor = conn.cursor()"
   ]
  },
  {
   "cell_type": "markdown",
   "metadata": {},
   "source": [
    "cursor object:\n",
    "\n",
    "*.execute()<- execute a SQL statement\n",
    "*.fetchone()<- fetches the first record of the results of a statement(as a list)\n",
    "*.fetchall()<- returns ALL the rows of the results of a statement(as a list)"
   ]
  },
  {
   "cell_type": "code",
   "execution_count": 47,
   "metadata": {
    "collapsed": true
   },
   "outputs": [],
   "source": [
    "cursor.execute(\"INSERT INTO restaurant(name,price) VALUES('Good Food Place',3)\")\n",
    "conn.commit()"
   ]
  },
  {
   "cell_type": "code",
   "execution_count": 48,
   "metadata": {
    "collapsed": false
   },
   "outputs": [
    {
     "name": "stdout",
     "output_type": "stream",
     "text": [
      "[4, 'Panino Sportivo Roma', 2]\n",
      "[5, 'Good Food Place', 3]\n"
     ]
    }
   ],
   "source": [
    "cursor.execute(\"SELECT * FROM restaurant\")\n",
    "for item in cursor.fetchall():\n",
    "    print(item)"
   ]
  },
  {
   "cell_type": "code",
   "execution_count": 52,
   "metadata": {
    "collapsed": false
   },
   "outputs": [],
   "source": [
    "cursor.execute(\n",
    "   \"INSERT INTO restaurant(name,price) VALUES('Palace of Vegan Nosh',3) RETURNING id\")\n",
    "results= cursor.fetchone() #return a list\n",
    "conn.commit()"
   ]
  },
  {
   "cell_type": "code",
   "execution_count": 53,
   "metadata": {
    "collapsed": true
   },
   "outputs": [],
   "source": [
    "rowid=results[0]"
   ]
  },
  {
   "cell_type": "code",
   "execution_count": 54,
   "metadata": {
    "collapsed": false
   },
   "outputs": [
    {
     "data": {
      "text/plain": [
       "6"
      ]
     },
     "execution_count": 54,
     "metadata": {},
     "output_type": "execute_result"
    }
   ],
   "source": [
    "rowid"
   ]
  },
  {
   "cell_type": "markdown",
   "metadata": {},
   "source": [
    "### quoting and parameters in SQL"
   ]
  },
  {
   "cell_type": "code",
   "execution_count": 55,
   "metadata": {
    "collapsed": false
   },
   "outputs": [
    {
     "ename": "ProgrammingError",
     "evalue": "('ERROR', '42601', 'syntax error at or near \"s\"', '50', 'scan.l', '1081', 'scanner_yyerror', '', '')",
     "output_type": "error",
     "traceback": [
      "\u001b[0;31m---------------------------------------------------------------------------\u001b[0m",
      "\u001b[0;31mKeyError\u001b[0m                                  Traceback (most recent call last)",
      "\u001b[0;32m/usr/local/lib/python3.5/site-packages/pg8000/core.py\u001b[0m in \u001b[0;36mexecute\u001b[0;34m(self, cursor, operation, vals)\u001b[0m\n\u001b[1;32m   1896\u001b[0m         \u001b[0;32mtry\u001b[0m\u001b[0;34m:\u001b[0m\u001b[0;34m\u001b[0m\u001b[0m\n\u001b[0;32m-> 1897\u001b[0;31m             \u001b[0mps\u001b[0m \u001b[0;34m=\u001b[0m \u001b[0mcache\u001b[0m\u001b[0;34m[\u001b[0m\u001b[0;34m'ps'\u001b[0m\u001b[0;34m]\u001b[0m\u001b[0;34m[\u001b[0m\u001b[0mkey\u001b[0m\u001b[0;34m]\u001b[0m\u001b[0;34m\u001b[0m\u001b[0m\n\u001b[0m\u001b[1;32m   1898\u001b[0m             \u001b[0mcursor\u001b[0m\u001b[0;34m.\u001b[0m\u001b[0mps\u001b[0m \u001b[0;34m=\u001b[0m \u001b[0mps\u001b[0m\u001b[0;34m\u001b[0m\u001b[0m\n",
      "\u001b[0;31mKeyError\u001b[0m: (\"INSERT INTO restaurant(name,price) VALUES ('Brad's', 1) RETURNING id\", ())",
      "\nDuring handling of the above exception, another exception occurred:\n",
      "\u001b[0;31mProgrammingError\u001b[0m                          Traceback (most recent call last)",
      "\u001b[0;32m<ipython-input-55-432bd528a0a3>\u001b[0m in \u001b[0;36m<module>\u001b[0;34m()\u001b[0m\n\u001b[1;32m      1\u001b[0m cursor.execute(\n\u001b[0;32m----> 2\u001b[0;31m  \"INSERT INTO restaurant(name,price) VALUES ('Brad's', 1) RETURNING id\")\n\u001b[0m\u001b[1;32m      3\u001b[0m \u001b[0mrowid\u001b[0m\u001b[0;34m=\u001b[0m\u001b[0mcursor\u001b[0m\u001b[0;34m.\u001b[0m\u001b[0mfetchone\u001b[0m\u001b[0;34m(\u001b[0m\u001b[0;34m)\u001b[0m\u001b[0;34m[\u001b[0m\u001b[0;36m0\u001b[0m\u001b[0;34m]\u001b[0m\u001b[0;34m\u001b[0m\u001b[0m\n\u001b[1;32m      4\u001b[0m \u001b[0mconn\u001b[0m\u001b[0;34m.\u001b[0m\u001b[0mcommit\u001b[0m\u001b[0;34m(\u001b[0m\u001b[0;34m)\u001b[0m\u001b[0;34m\u001b[0m\u001b[0m\n",
      "\u001b[0;32m/usr/local/lib/python3.5/site-packages/pg8000/core.py\u001b[0m in \u001b[0;36mexecute\u001b[0;34m(self, operation, args, stream)\u001b[0m\n\u001b[1;32m    905\u001b[0m                 \u001b[0;32mif\u001b[0m \u001b[0;32mnot\u001b[0m \u001b[0mself\u001b[0m\u001b[0;34m.\u001b[0m\u001b[0m_c\u001b[0m\u001b[0;34m.\u001b[0m\u001b[0min_transaction\u001b[0m \u001b[0;32mand\u001b[0m \u001b[0;32mnot\u001b[0m \u001b[0mself\u001b[0m\u001b[0;34m.\u001b[0m\u001b[0m_c\u001b[0m\u001b[0;34m.\u001b[0m\u001b[0mautocommit\u001b[0m\u001b[0;34m:\u001b[0m\u001b[0;34m\u001b[0m\u001b[0m\n\u001b[1;32m    906\u001b[0m                     \u001b[0mself\u001b[0m\u001b[0;34m.\u001b[0m\u001b[0m_c\u001b[0m\u001b[0;34m.\u001b[0m\u001b[0mexecute\u001b[0m\u001b[0;34m(\u001b[0m\u001b[0mself\u001b[0m\u001b[0;34m,\u001b[0m \u001b[0;34m\"begin transaction\"\u001b[0m\u001b[0;34m,\u001b[0m \u001b[0;32mNone\u001b[0m\u001b[0;34m)\u001b[0m\u001b[0;34m\u001b[0m\u001b[0m\n\u001b[0;32m--> 907\u001b[0;31m                 \u001b[0mself\u001b[0m\u001b[0;34m.\u001b[0m\u001b[0m_c\u001b[0m\u001b[0;34m.\u001b[0m\u001b[0mexecute\u001b[0m\u001b[0;34m(\u001b[0m\u001b[0mself\u001b[0m\u001b[0;34m,\u001b[0m \u001b[0moperation\u001b[0m\u001b[0;34m,\u001b[0m \u001b[0margs\u001b[0m\u001b[0;34m)\u001b[0m\u001b[0;34m\u001b[0m\u001b[0m\n\u001b[0m\u001b[1;32m    908\u001b[0m         \u001b[0;32mexcept\u001b[0m \u001b[0mAttributeError\u001b[0m \u001b[0;32mas\u001b[0m \u001b[0me\u001b[0m\u001b[0;34m:\u001b[0m\u001b[0;34m\u001b[0m\u001b[0m\n\u001b[1;32m    909\u001b[0m             \u001b[0;32mif\u001b[0m \u001b[0mself\u001b[0m\u001b[0;34m.\u001b[0m\u001b[0m_c\u001b[0m \u001b[0;32mis\u001b[0m \u001b[0;32mNone\u001b[0m\u001b[0;34m:\u001b[0m\u001b[0;34m\u001b[0m\u001b[0m\n",
      "\u001b[0;32m/usr/local/lib/python3.5/site-packages/pg8000/core.py\u001b[0m in \u001b[0;36mexecute\u001b[0;34m(self, cursor, operation, vals)\u001b[0m\n\u001b[1;32m   1944\u001b[0m                 \u001b[0;32mraise\u001b[0m \u001b[0mOperationalError\u001b[0m\u001b[0;34m(\u001b[0m\u001b[0mstr\u001b[0m\u001b[0;34m(\u001b[0m\u001b[0me\u001b[0m\u001b[0;34m)\u001b[0m\u001b[0;34m)\u001b[0m\u001b[0;34m\u001b[0m\u001b[0m\n\u001b[1;32m   1945\u001b[0m \u001b[0;34m\u001b[0m\u001b[0m\n\u001b[0;32m-> 1946\u001b[0;31m             \u001b[0mself\u001b[0m\u001b[0;34m.\u001b[0m\u001b[0mhandle_messages\u001b[0m\u001b[0;34m(\u001b[0m\u001b[0mcursor\u001b[0m\u001b[0;34m)\u001b[0m\u001b[0;34m\u001b[0m\u001b[0m\n\u001b[0m\u001b[1;32m   1947\u001b[0m \u001b[0;34m\u001b[0m\u001b[0m\n\u001b[1;32m   1948\u001b[0m             \u001b[0;31m# We've got row_desc that allows us to identify what we're\u001b[0m\u001b[0;34m\u001b[0m\u001b[0;34m\u001b[0m\u001b[0m\n",
      "\u001b[0;32m/usr/local/lib/python3.5/site-packages/pg8000/core.py\u001b[0m in \u001b[0;36mhandle_messages\u001b[0;34m(self, cursor)\u001b[0m\n\u001b[1;32m   2092\u001b[0m \u001b[0;34m\u001b[0m\u001b[0m\n\u001b[1;32m   2093\u001b[0m         \u001b[0;32mif\u001b[0m \u001b[0mself\u001b[0m\u001b[0;34m.\u001b[0m\u001b[0merror\u001b[0m \u001b[0;32mis\u001b[0m \u001b[0;32mnot\u001b[0m \u001b[0;32mNone\u001b[0m\u001b[0;34m:\u001b[0m\u001b[0;34m\u001b[0m\u001b[0m\n\u001b[0;32m-> 2094\u001b[0;31m             \u001b[0;32mraise\u001b[0m \u001b[0mself\u001b[0m\u001b[0;34m.\u001b[0m\u001b[0merror\u001b[0m\u001b[0;34m\u001b[0m\u001b[0m\n\u001b[0m\u001b[1;32m   2095\u001b[0m \u001b[0;34m\u001b[0m\u001b[0m\n\u001b[1;32m   2096\u001b[0m     \u001b[0;31m# Byte1('C') - Identifies the message as a close command.\u001b[0m\u001b[0;34m\u001b[0m\u001b[0;34m\u001b[0m\u001b[0m\n",
      "\u001b[0;31mProgrammingError\u001b[0m: ('ERROR', '42601', 'syntax error at or near \"s\"', '50', 'scan.l', '1081', 'scanner_yyerror', '', '')"
     ]
    }
   ],
   "source": [
    "#will not work:\n",
    "cursor.execute(\n",
    " \"INSERT INTO restaurant(name,price) VALUES ('Brad's', 1) RETURNING id\")\n",
    "rowid=cursor.fetchone()[0]\n",
    "conn.commit()"
   ]
  },
  {
   "cell_type": "code",
   "execution_count": 56,
   "metadata": {
    "collapsed": true
   },
   "outputs": [],
   "source": [
    "#SQL Injection attack:\n",
    "restaurant = \"'Restaurant'); DELETE FROM restaurant;\""
   ]
  },
  {
   "cell_type": "markdown",
   "metadata": {},
   "source": [
    "string in python -> \"quote\" \"escape\"-> valid sql statement\n",
    "very weird and difficult and arcane"
   ]
  },
  {
   "cell_type": "code",
   "execution_count": 64,
   "metadata": {
    "collapsed": false
   },
   "outputs": [],
   "source": [
    "rest_insert = \"INSERT INTO restaurant(name, price) VALUES (%s, %s)\" #%S placeholder\n",
    "cursor.execute(rest_insert, [\"Brad's\", 1])\n",
    "# pg8000 does the work: \"INSERT INTO restaurant (name,price) VALUES ('Brad\\'s',1)\"\n",
    "conn.commit()"
   ]
  },
  {
   "cell_type": "markdown",
   "metadata": {},
   "source": [
    "### Insert a restaurant and its cuisines"
   ]
  },
  {
   "cell_type": "code",
   "execution_count": 65,
   "metadata": {
    "collapsed": true
   },
   "outputs": [],
   "source": [
    "cursor.execute(\"INSERT INTO restaurant(name, price) VALUES(%s, %s) RETURNING id\",[\"Test Restaurant\",2])\n",
    "rowid=cursor.fetchone()[0]\n",
    "conn.commit()"
   ]
  },
  {
   "cell_type": "code",
   "execution_count": 66,
   "metadata": {
    "collapsed": false
   },
   "outputs": [
    {
     "data": {
      "text/plain": [
       "8"
      ]
     },
     "execution_count": 66,
     "metadata": {},
     "output_type": "execute_result"
    }
   ],
   "source": [
    "rowid"
   ]
  },
  {
   "cell_type": "code",
   "execution_count": 67,
   "metadata": {
    "collapsed": true
   },
   "outputs": [],
   "source": [
    "# let's say Test Restaurant serves fondue and casseroles\n",
    "cuisine_insert = \"INSERT INTO cuisine(restaurant_id, kind) VALUES (%s, %s)\"\n",
    "cursor.execute(cuisine_insert, [rowid, \"fondue\"])\n",
    "cursor.execute(cuisine_insert, [rowid,\"casseroles\"])\n",
    "conn.commit()"
   ]
  },
  {
   "cell_type": "code",
   "execution_count": null,
   "metadata": {
    "collapsed": true
   },
   "outputs": [],
   "source": [
    "### Insert Many restaurants"
   ]
  },
  {
   "cell_type": "code",
   "execution_count": 68,
   "metadata": {
    "collapsed": false
   },
   "outputs": [
    {
     "data": {
      "text/plain": [
       "[{'cuisines': ['deli', 'sandwiches'], 'name': 'Milano Market', 'price': 2},\n",
       " {'cuisines': ['ethiopian', 'african'], 'name': 'Massawa', 'price': 0},\n",
       " {'cuisines': ['chinese', 'japanese', 'sushi'],\n",
       "  'name': 'China Place',\n",
       "  'price': 0},\n",
       " {'cuisines': ['cheese-steaks', 'deli', 'sandwiches', 'salads'],\n",
       "  'name': 'Subsconscious',\n",
       "  'price': 0},\n",
       " {'cuisines': ['italian', 'pizza'], 'name': 'Famous Famiglia', 'price': 0},\n",
       " {'cuisines': ['bakery-pastries', 'american', 'desserts'],\n",
       "  'name': 'Kitchenette',\n",
       "  'price': 0},\n",
       " {'cuisines': ['italian', 'pizza'], 'name': 'V & T Pizza', 'price': 0},\n",
       " {'cuisines': ['chinese'], 'name': 'New Aroma', 'price': 1},\n",
       " {'cuisines': ['chinese'], 'name': 'Peking Garden', 'price': 1},\n",
       " {'cuisines': ['diner'], 'name': \"Tom's Restaurant\", 'price': 1},\n",
       " {'cuisines': ['italian'], 'name': 'Pisticci', 'price': 1},\n",
       " {'cuisines': ['diner', 'american'], 'name': 'Deluxe', 'price': 1},\n",
       " {'cuisines': ['american', 'bar-food'], 'name': 'Toast', 'price': 2},\n",
       " {'cuisines': ['italian', 'pizza'],\n",
       "  'name': \"Tom's Delicious Pizza\",\n",
       "  'price': 2},\n",
       " {'cuisines': ['chinese'], 'name': 'West Place', 'price': 1},\n",
       " {'cuisines': ['italian', 'pizza'], 'name': \"Che' Bella Pizza\", 'price': 0},\n",
       " {'cuisines': ['indian'], 'name': 'Ajanta', 'price': 0},\n",
       " {'cuisines': ['italian', 'coffee-tea', 'sandwiches'],\n",
       "  'name': 'Panino Sportivo Roma',\n",
       "  'price': 2},\n",
       " {'cuisines': ['italian'], 'name': 'Max Soha', 'price': 2},\n",
       " {'cuisines': ['deli', 'pizza', 'sandwiches', 'chicken'],\n",
       "  'name': 'Strokos Pizza',\n",
       "  'price': 3},\n",
       " {'cuisines': ['american'], 'name': \"Camille's\", 'price': 1},\n",
       " {'cuisines': ['american-new', 'tapas'],\n",
       "  'name': 'Amsterdam Restaurant',\n",
       "  'price': 1},\n",
       " {'cuisines': ['deli', 'sandwiches', 'bagels', 'salads'],\n",
       "  'name': 'Nussbaum & Wu',\n",
       "  'price': 0},\n",
       " {'cuisines': ['middle-eastern'], 'name': \"Amir's Grill\", 'price': 1},\n",
       " {'cuisines': ['japanese', 'sushi', 'deli', 'sandwiches'],\n",
       "  'name': 'M2M - Morning To Midnight',\n",
       "  'price': 1},\n",
       " {'cuisines': ['korean'], 'name': 'The Mill', 'price': 2},\n",
       " {'cuisines': ['french', 'bistro'], 'name': 'Le Monde', 'price': 1},\n",
       " {'cuisines': ['american-new', 'soul-food'], 'name': \"Melba's\", 'price': 1},\n",
       " {'cuisines': ['pizza', 'american'], 'name': \"Chuck E Cheese's\", 'price': 0},\n",
       " {'cuisines': ['desserts'], 'name': 'Haagen-Dazs', 'price': 1},\n",
       " {'cuisines': ['coffee-tea', 'sandwiches'], 'name': \"Oren's\", 'price': 0},\n",
       " {'cuisines': ['barbecue', 'soul-food'],\n",
       "  'name': 'Dinosaur Bar-B-Que',\n",
       "  'price': 3},\n",
       " {'cuisines': ['greek', 'vegetarian'],\n",
       "  'name': 'Symposium Greek Restaurant',\n",
       "  'price': 0},\n",
       " {'cuisines': ['pizza'], 'name': 'Koronet Pizza', 'price': 1},\n",
       " {'cuisines': ['southwestern', 'tapas', 'bar-food'],\n",
       "  'name': 'The Heights Bar & Grill',\n",
       "  'price': 1},\n",
       " {'cuisines': ['middle-eastern', 'kosher'], 'name': 'Cafe Nana', 'price': 0},\n",
       " {'cuisines': ['deli', 'sandwiches'], 'name': 'Hamilton Deli', 'price': 0},\n",
       " {'cuisines': ['american-new',\n",
       "   'smoothies-juices',\n",
       "   'vegetarian',\n",
       "   'healthy',\n",
       "   'localorganic'],\n",
       "  'name': 'Community Food & Juice',\n",
       "  'price': 0},\n",
       " {'cuisines': ['american', 'scandinavian'],\n",
       "  'name': \"Haakon's Hall\",\n",
       "  'price': 0},\n",
       " {'cuisines': ['mexican'], 'name': 'El Porton', 'price': 0},\n",
       " {'cuisines': ['coffee-tea'], 'name': \"Brad's\", 'price': 1},\n",
       " {'cuisines': ['burgers', 'bar-food'], 'name': \"Mel's Burger Bar\", 'price': 2},\n",
       " {'cuisines': ['italian', 'pizza', 'localorganic'],\n",
       "  'name': 'Bettolona',\n",
       "  'price': 1},\n",
       " {'cuisines': ['burgers', 'hot-dogs'], 'name': 'Five Guys', 'price': 1},\n",
       " {'cuisines': ['chinese', 'japanese', 'sushi', 'teahouses'],\n",
       "  'name': 'Nikko',\n",
       "  'price': 2},\n",
       " {'cuisines': ['middle-eastern'], 'name': 'Falafel on Broadway', 'price': 1},\n",
       " {'cuisines': ['japanese', 'sushi'], 'name': 'Sushi Sushi', 'price': 1},\n",
       " {'cuisines': ['bakery-pastries', 'desserts'],\n",
       "  'name': 'Insomnia Cookies',\n",
       "  'price': 1},\n",
       " {'cuisines': ['coffee-tea', 'sandwiches'], 'name': 'Cafe Amrita', 'price': 1},\n",
       " {'cuisines': ['desserts'], 'name': 'Pinkberry', 'price': 2},\n",
       " {'cuisines': ['coffee-tea', 'sandwiches', 'crepes'],\n",
       "  'name': 'Artopolis Espresso Cafe',\n",
       "  'price': 1},\n",
       " {'cuisines': ['coffee-tea', 'sandwiches'], 'name': 'Max Caffe', 'price': 2},\n",
       " {'cuisines': ['mexican'], 'name': 'Chipotle', 'price': 1},\n",
       " {'cuisines': ['bakery-pastries', 'desserts'],\n",
       "  'name': 'Chokolat Patisserie',\n",
       "  'price': 5},\n",
       " {'cuisines': ['bakery-pastries', 'coffee-tea', 'desserts'],\n",
       "  'name': 'Chokolat Patisserie',\n",
       "  'price': 1},\n",
       " {'cuisines': ['deli', 'sandwiches'], 'name': \"Joe's G-H Deli\", 'price': 2},\n",
       " {'cuisines': ['coffee-tea'], 'name': 'Joe the Art of Coffee', 'price': 1},\n",
       " {'cuisines': ['bakery-pastries', 'desserts'],\n",
       "  'name': 'Levain Bakery',\n",
       "  'price': 2},\n",
       " {'cuisines': ['middle-eastern', 'vegetarian'], 'name': 'Silvana', 'price': 1},\n",
       " {'cuisines': ['german', 'eclectic', 'bar-food'],\n",
       "  'name': 'Bier International',\n",
       "  'price': 1},\n",
       " {'cuisines': ['indian', 'vegetarian'], 'name': 'Vegenation', 'price': 1},\n",
       " {'cuisines': ['american-new', 'bistro'], 'name': 'Flat Top', 'price': 4},\n",
       " {'cuisines': ['coffee-tea'], 'name': 'Kuro Kuma', 'price': 1},\n",
       " {'cuisines': ['american-new'], 'name': 'Vinateria', 'price': 2},\n",
       " {'cuisines': ['chinese'], 'name': 'Henan Cart', 'price': 1},\n",
       " {'cuisines': ['japanese', 'sushi', 'thai'], 'name': 'Vine', 'price': 2},\n",
       " {'cuisines': ['mexican'], 'name': 'El Paso Truck', 'price': 1},\n",
       " {'cuisines': ['pizza', 'chicken'],\n",
       "  'name': \"Mama's Fried Chicken and Pizza\",\n",
       "  'price': 1},\n",
       " {'cuisines': ['indian'], 'name': 'Chapati House', 'price': 2},\n",
       " {'cuisines': ['american', 'localorganic'],\n",
       "  'name': 'Dig Inn Seasonal Market',\n",
       "  'price': 1},\n",
       " {'cuisines': ['chinese'], 'name': 'Uncle Luoyang', 'price': 1},\n",
       " {'cuisines': ['middle-eastern'], 'name': 'Pita Grill', 'price': 2},\n",
       " {'cuisines': ['japanese'], 'name': 'Kissaten Jin', 'price': 1},\n",
       " {'cuisines': ['coffee-tea', 'teahouses'],\n",
       "  'name': 'Serengeti Teas & Spices',\n",
       "  'price': 2},\n",
       " {'cuisines': ['seafood', 'wings', 'fish--chips'],\n",
       "  'name': 'Lighthouse Fish Market & Restaurant',\n",
       "  'price': 3},\n",
       " {'cuisines': ['seafood'], 'name': \"Lolo's Seafood Shack\", 'price': 2},\n",
       " {'cuisines': ['sandwiches', 'salads', 'teahouses'],\n",
       "  'name': 'Harmony',\n",
       "  'price': 1},\n",
       " {'cuisines': ['american', 'gastropub'],\n",
       "  'name': 'Bernheim & Schwartz',\n",
       "  'price': 2},\n",
       " {'cuisines': ['american-new'], 'name': 'BTH (By The Hudson)', 'price': 3}]"
      ]
     },
     "execution_count": 68,
     "metadata": {},
     "output_type": "execute_result"
    }
   ],
   "source": [
    "restaurants"
   ]
  },
  {
   "cell_type": "code",
   "execution_count": 73,
   "metadata": {
    "collapsed": false
   },
   "outputs": [
    {
     "ename": "NotSupportedError",
     "evalue": "type <class 'bs4.element.NavigableString'>not mapped to pg type",
     "output_type": "error",
     "traceback": [
      "\u001b[0;31m---------------------------------------------------------------------------\u001b[0m",
      "\u001b[0;31mKeyError\u001b[0m                                  Traceback (most recent call last)",
      "\u001b[0;32m/usr/local/lib/python3.5/site-packages/pg8000/core.py\u001b[0m in \u001b[0;36mmake_params\u001b[0;34m(self, values)\u001b[0m\n\u001b[1;32m   1854\u001b[0m             \u001b[0;32mtry\u001b[0m\u001b[0;34m:\u001b[0m\u001b[0;34m\u001b[0m\u001b[0m\n\u001b[0;32m-> 1855\u001b[0;31m                 \u001b[0mparams\u001b[0m\u001b[0;34m.\u001b[0m\u001b[0mappend\u001b[0m\u001b[0;34m(\u001b[0m\u001b[0mself\u001b[0m\u001b[0;34m.\u001b[0m\u001b[0mpy_types\u001b[0m\u001b[0;34m[\u001b[0m\u001b[0mtyp\u001b[0m\u001b[0;34m]\u001b[0m\u001b[0;34m)\u001b[0m\u001b[0;34m\u001b[0m\u001b[0m\n\u001b[0m\u001b[1;32m   1856\u001b[0m             \u001b[0;32mexcept\u001b[0m \u001b[0mKeyError\u001b[0m\u001b[0;34m:\u001b[0m\u001b[0;34m\u001b[0m\u001b[0m\n",
      "\u001b[0;31mKeyError\u001b[0m: <class 'bs4.element.NavigableString'>",
      "\nDuring handling of the above exception, another exception occurred:\n",
      "\u001b[0;31mKeyError\u001b[0m                                  Traceback (most recent call last)",
      "\u001b[0;32m/usr/local/lib/python3.5/site-packages/pg8000/core.py\u001b[0m in \u001b[0;36mmake_params\u001b[0;34m(self, values)\u001b[0m\n\u001b[1;32m   1857\u001b[0m                 \u001b[0;32mtry\u001b[0m\u001b[0;34m:\u001b[0m\u001b[0;34m\u001b[0m\u001b[0m\n\u001b[0;32m-> 1858\u001b[0;31m                     \u001b[0mparams\u001b[0m\u001b[0;34m.\u001b[0m\u001b[0mappend\u001b[0m\u001b[0;34m(\u001b[0m\u001b[0mself\u001b[0m\u001b[0;34m.\u001b[0m\u001b[0minspect_funcs\u001b[0m\u001b[0;34m[\u001b[0m\u001b[0mtyp\u001b[0m\u001b[0;34m]\u001b[0m\u001b[0;34m(\u001b[0m\u001b[0mvalue\u001b[0m\u001b[0;34m)\u001b[0m\u001b[0;34m)\u001b[0m\u001b[0;34m\u001b[0m\u001b[0m\n\u001b[0m\u001b[1;32m   1859\u001b[0m                 \u001b[0;32mexcept\u001b[0m \u001b[0mKeyError\u001b[0m \u001b[0;32mas\u001b[0m \u001b[0me\u001b[0m\u001b[0;34m:\u001b[0m\u001b[0;34m\u001b[0m\u001b[0m\n",
      "\u001b[0;31mKeyError\u001b[0m: <class 'bs4.element.NavigableString'>",
      "\nDuring handling of the above exception, another exception occurred:\n",
      "\u001b[0;31mNotSupportedError\u001b[0m                         Traceback (most recent call last)",
      "\u001b[0;32m<ipython-input-73-8ae20aaa97d8>\u001b[0m in \u001b[0;36m<module>\u001b[0;34m()\u001b[0m\n\u001b[1;32m      2\u001b[0m \u001b[0mrest_insert\u001b[0m \u001b[0;34m=\u001b[0m \u001b[0;34m\"INSERT INTO restaurant(name,price)VALUES(%s,%s)\"\u001b[0m\u001b[0;34m\u001b[0m\u001b[0m\n\u001b[1;32m      3\u001b[0m \u001b[0;32mfor\u001b[0m \u001b[0mitem\u001b[0m \u001b[0;32min\u001b[0m \u001b[0mrestaurants\u001b[0m\u001b[0;34m:\u001b[0m\u001b[0;34m\u001b[0m\u001b[0m\n\u001b[0;32m----> 4\u001b[0;31m     \u001b[0mcursor\u001b[0m\u001b[0;34m.\u001b[0m\u001b[0mexecute\u001b[0m\u001b[0;34m(\u001b[0m\u001b[0mrest_insert\u001b[0m\u001b[0;34m,\u001b[0m \u001b[0;34m[\u001b[0m\u001b[0mitem\u001b[0m\u001b[0;34m[\u001b[0m\u001b[0;34m'name'\u001b[0m\u001b[0;34m]\u001b[0m\u001b[0;34m,\u001b[0m \u001b[0mitem\u001b[0m\u001b[0;34m[\u001b[0m\u001b[0;34m'price'\u001b[0m\u001b[0;34m]\u001b[0m\u001b[0;34m]\u001b[0m\u001b[0;34m)\u001b[0m\u001b[0;34m\u001b[0m\u001b[0m\n\u001b[0m\u001b[1;32m      5\u001b[0m \u001b[0mconn\u001b[0m\u001b[0;34m.\u001b[0m\u001b[0mcommit\u001b[0m\u001b[0;34m(\u001b[0m\u001b[0;34m)\u001b[0m\u001b[0;34m\u001b[0m\u001b[0m\n",
      "\u001b[0;32m/usr/local/lib/python3.5/site-packages/pg8000/core.py\u001b[0m in \u001b[0;36mexecute\u001b[0;34m(self, operation, args, stream)\u001b[0m\n\u001b[1;32m    905\u001b[0m                 \u001b[0;32mif\u001b[0m \u001b[0;32mnot\u001b[0m \u001b[0mself\u001b[0m\u001b[0;34m.\u001b[0m\u001b[0m_c\u001b[0m\u001b[0;34m.\u001b[0m\u001b[0min_transaction\u001b[0m \u001b[0;32mand\u001b[0m \u001b[0;32mnot\u001b[0m \u001b[0mself\u001b[0m\u001b[0;34m.\u001b[0m\u001b[0m_c\u001b[0m\u001b[0;34m.\u001b[0m\u001b[0mautocommit\u001b[0m\u001b[0;34m:\u001b[0m\u001b[0;34m\u001b[0m\u001b[0m\n\u001b[1;32m    906\u001b[0m                     \u001b[0mself\u001b[0m\u001b[0;34m.\u001b[0m\u001b[0m_c\u001b[0m\u001b[0;34m.\u001b[0m\u001b[0mexecute\u001b[0m\u001b[0;34m(\u001b[0m\u001b[0mself\u001b[0m\u001b[0;34m,\u001b[0m \u001b[0;34m\"begin transaction\"\u001b[0m\u001b[0;34m,\u001b[0m \u001b[0;32mNone\u001b[0m\u001b[0;34m)\u001b[0m\u001b[0;34m\u001b[0m\u001b[0m\n\u001b[0;32m--> 907\u001b[0;31m                 \u001b[0mself\u001b[0m\u001b[0;34m.\u001b[0m\u001b[0m_c\u001b[0m\u001b[0;34m.\u001b[0m\u001b[0mexecute\u001b[0m\u001b[0;34m(\u001b[0m\u001b[0mself\u001b[0m\u001b[0;34m,\u001b[0m \u001b[0moperation\u001b[0m\u001b[0;34m,\u001b[0m \u001b[0margs\u001b[0m\u001b[0;34m)\u001b[0m\u001b[0;34m\u001b[0m\u001b[0m\n\u001b[0m\u001b[1;32m    908\u001b[0m         \u001b[0;32mexcept\u001b[0m \u001b[0mAttributeError\u001b[0m \u001b[0;32mas\u001b[0m \u001b[0me\u001b[0m\u001b[0;34m:\u001b[0m\u001b[0;34m\u001b[0m\u001b[0m\n\u001b[1;32m    909\u001b[0m             \u001b[0;32mif\u001b[0m \u001b[0mself\u001b[0m\u001b[0;34m.\u001b[0m\u001b[0m_c\u001b[0m \u001b[0;32mis\u001b[0m \u001b[0;32mNone\u001b[0m\u001b[0;34m:\u001b[0m\u001b[0;34m\u001b[0m\u001b[0m\n",
      "\u001b[0;32m/usr/local/lib/python3.5/site-packages/pg8000/core.py\u001b[0m in \u001b[0;36mexecute\u001b[0;34m(self, cursor, operation, vals)\u001b[0m\n\u001b[1;32m   1891\u001b[0m \u001b[0;34m\u001b[0m\u001b[0m\n\u001b[1;32m   1892\u001b[0m         \u001b[0margs\u001b[0m \u001b[0;34m=\u001b[0m \u001b[0mmake_args\u001b[0m\u001b[0;34m(\u001b[0m\u001b[0mvals\u001b[0m\u001b[0;34m)\u001b[0m\u001b[0;34m\u001b[0m\u001b[0m\n\u001b[0;32m-> 1893\u001b[0;31m         \u001b[0mparams\u001b[0m \u001b[0;34m=\u001b[0m \u001b[0mself\u001b[0m\u001b[0;34m.\u001b[0m\u001b[0mmake_params\u001b[0m\u001b[0;34m(\u001b[0m\u001b[0margs\u001b[0m\u001b[0;34m)\u001b[0m\u001b[0;34m\u001b[0m\u001b[0m\n\u001b[0m\u001b[1;32m   1894\u001b[0m         \u001b[0mkey\u001b[0m \u001b[0;34m=\u001b[0m \u001b[0moperation\u001b[0m\u001b[0;34m,\u001b[0m \u001b[0mparams\u001b[0m\u001b[0;34m\u001b[0m\u001b[0m\n\u001b[1;32m   1895\u001b[0m \u001b[0;34m\u001b[0m\u001b[0m\n",
      "\u001b[0;32m/usr/local/lib/python3.5/site-packages/pg8000/core.py\u001b[0m in \u001b[0;36mmake_params\u001b[0;34m(self, values)\u001b[0m\n\u001b[1;32m   1859\u001b[0m                 \u001b[0;32mexcept\u001b[0m \u001b[0mKeyError\u001b[0m \u001b[0;32mas\u001b[0m \u001b[0me\u001b[0m\u001b[0;34m:\u001b[0m\u001b[0;34m\u001b[0m\u001b[0m\n\u001b[1;32m   1860\u001b[0m                     raise NotSupportedError(\n\u001b[0;32m-> 1861\u001b[0;31m                         \"type \" + str(e) + \"not mapped to pg type\")\n\u001b[0m\u001b[1;32m   1862\u001b[0m         \u001b[0;32mreturn\u001b[0m \u001b[0mtuple\u001b[0m\u001b[0;34m(\u001b[0m\u001b[0mparams\u001b[0m\u001b[0;34m)\u001b[0m\u001b[0;34m\u001b[0m\u001b[0m\n\u001b[1;32m   1863\u001b[0m \u001b[0;34m\u001b[0m\u001b[0m\n",
      "\u001b[0;31mNotSupportedError\u001b[0m: type <class 'bs4.element.NavigableString'>not mapped to pg type"
     ]
    }
   ],
   "source": [
    "#error\n",
    "rest_insert = \"INSERT INTO restaurant(name,price)VALUES(%s,%s)\"\n",
    "for item in restaurants:\n",
    "    cursor.execute(rest_insert, [item['name'], item['price']])\n",
    "conn.commit()"
   ]
  },
  {
   "cell_type": "code",
   "execution_count": 70,
   "metadata": {
    "collapsed": false
   },
   "outputs": [
    {
     "data": {
      "text/plain": [
       "{'cuisines': ['deli', 'sandwiches'], 'name': 'Milano Market', 'price': 2}"
      ]
     },
     "execution_count": 70,
     "metadata": {},
     "output_type": "execute_result"
    }
   ],
   "source": [
    "first=restaurants[0]\n",
    "first"
   ]
  },
  {
   "cell_type": "code",
   "execution_count": 71,
   "metadata": {
    "collapsed": false
   },
   "outputs": [
    {
     "data": {
      "text/plain": [
       "bs4.element.NavigableString"
      ]
     },
     "execution_count": 71,
     "metadata": {},
     "output_type": "execute_result"
    }
   ],
   "source": [
    "type(first['name'])"
   ]
  },
  {
   "cell_type": "markdown",
   "metadata": {},
   "source": [
    "so what happened? Why isn't this just a string?\n",
    "\n",
    "whenver you use the .string attribute of a Beatufil Soup tag object, the type of that value is bs4.element.NavigableString\n",
    "\n",
    "fortunately, there's an esay fix:'str(val)' to convert that value into a string use str(value)"
   ]
  },
  {
   "cell_type": "code",
   "execution_count": 72,
   "metadata": {
    "collapsed": true
   },
   "outputs": [],
   "source": [
    "rest_insert = \"INSERT INTO restaurant(name,price)VALUES(%s,%s)\"\n",
    "for item in restaurants:\n",
    "    cursor.execute(rest_insert, [str(item['name']), item['price']])\n",
    "conn.commit()"
   ]
  },
  {
   "cell_type": "code",
   "execution_count": null,
   "metadata": {
    "collapsed": true
   },
   "outputs": [],
   "source": [
    "# restaurants\n",
    "for item in restaurants\n",
    "sql to insert a restaurant\n",
    "commit()\n",
    "\n",
    "step2: for rest in rest: \n",
    "for cuisine in cuisine\n",
    "sql to insert"
   ]
  },
  {
   "cell_type": "markdown",
   "metadata": {},
   "source": [
    "### inserting both restaurants and their cuisines"
   ]
  },
  {
   "cell_type": "code",
   "execution_count": 76,
   "metadata": {
    "collapsed": false
   },
   "outputs": [
    {
     "name": "stdout",
     "output_type": "stream",
     "text": [
      "inserting restaurant Milano Market\n",
      " -inserting cuisine deli\n",
      " -inserting cuisine sandwiches\n",
      "inserting restaurant Massawa\n",
      " -inserting cuisine ethiopian\n",
      " -inserting cuisine african\n",
      "inserting restaurant China Place\n",
      " -inserting cuisine chinese\n",
      " -inserting cuisine japanese\n",
      " -inserting cuisine sushi\n",
      "inserting restaurant Subsconscious\n",
      " -inserting cuisine cheese-steaks\n",
      " -inserting cuisine deli\n",
      " -inserting cuisine sandwiches\n",
      " -inserting cuisine salads\n",
      "inserting restaurant Famous Famiglia\n",
      " -inserting cuisine italian\n",
      " -inserting cuisine pizza\n",
      "inserting restaurant Kitchenette\n",
      " -inserting cuisine bakery-pastries\n",
      " -inserting cuisine american\n",
      " -inserting cuisine desserts\n",
      "inserting restaurant V & T Pizza\n",
      " -inserting cuisine italian\n",
      " -inserting cuisine pizza\n",
      "inserting restaurant New Aroma\n",
      " -inserting cuisine chinese\n",
      "inserting restaurant Peking Garden\n",
      " -inserting cuisine chinese\n",
      "inserting restaurant Tom's Restaurant\n",
      " -inserting cuisine diner\n",
      "inserting restaurant Pisticci\n",
      " -inserting cuisine italian\n",
      "inserting restaurant Deluxe\n",
      " -inserting cuisine diner\n",
      " -inserting cuisine american\n",
      "inserting restaurant Toast\n",
      " -inserting cuisine american\n",
      " -inserting cuisine bar-food\n",
      "inserting restaurant Tom's Delicious Pizza\n",
      " -inserting cuisine italian\n",
      " -inserting cuisine pizza\n",
      "inserting restaurant West Place\n",
      " -inserting cuisine chinese\n",
      "inserting restaurant Che' Bella Pizza\n",
      " -inserting cuisine italian\n",
      " -inserting cuisine pizza\n",
      "inserting restaurant Ajanta\n",
      " -inserting cuisine indian\n",
      "inserting restaurant Panino Sportivo Roma\n",
      " -inserting cuisine italian\n",
      " -inserting cuisine coffee-tea\n",
      " -inserting cuisine sandwiches\n",
      "inserting restaurant Max Soha\n",
      " -inserting cuisine italian\n",
      "inserting restaurant Strokos Pizza\n",
      " -inserting cuisine deli\n",
      " -inserting cuisine pizza\n",
      " -inserting cuisine sandwiches\n",
      " -inserting cuisine chicken\n",
      "inserting restaurant Camille's\n",
      " -inserting cuisine american\n",
      "inserting restaurant Amsterdam Restaurant\n",
      " -inserting cuisine american-new\n",
      " -inserting cuisine tapas\n",
      "inserting restaurant Nussbaum & Wu\n",
      " -inserting cuisine deli\n",
      " -inserting cuisine sandwiches\n",
      " -inserting cuisine bagels\n",
      " -inserting cuisine salads\n",
      "inserting restaurant Amir's Grill\n",
      " -inserting cuisine middle-eastern\n",
      "inserting restaurant M2M - Morning To Midnight\n",
      " -inserting cuisine japanese\n",
      " -inserting cuisine sushi\n",
      " -inserting cuisine deli\n",
      " -inserting cuisine sandwiches\n",
      "inserting restaurant The Mill\n",
      " -inserting cuisine korean\n",
      "inserting restaurant Le Monde\n",
      " -inserting cuisine french\n",
      " -inserting cuisine bistro\n",
      "inserting restaurant Melba's\n",
      " -inserting cuisine american-new\n",
      " -inserting cuisine soul-food\n",
      "inserting restaurant Chuck E Cheese's\n",
      " -inserting cuisine pizza\n",
      " -inserting cuisine american\n",
      "inserting restaurant Haagen-Dazs\n",
      " -inserting cuisine desserts\n",
      "inserting restaurant Oren's\n",
      " -inserting cuisine coffee-tea\n",
      " -inserting cuisine sandwiches\n",
      "inserting restaurant Dinosaur Bar-B-Que\n",
      " -inserting cuisine barbecue\n",
      " -inserting cuisine soul-food\n",
      "inserting restaurant Symposium Greek Restaurant\n",
      " -inserting cuisine greek\n",
      " -inserting cuisine vegetarian\n",
      "inserting restaurant Koronet Pizza\n",
      " -inserting cuisine pizza\n",
      "inserting restaurant The Heights Bar & Grill\n",
      " -inserting cuisine southwestern\n",
      " -inserting cuisine tapas\n",
      " -inserting cuisine bar-food\n",
      "inserting restaurant Cafe Nana\n",
      " -inserting cuisine middle-eastern\n",
      " -inserting cuisine kosher\n",
      "inserting restaurant Hamilton Deli\n",
      " -inserting cuisine deli\n",
      " -inserting cuisine sandwiches\n",
      "inserting restaurant Community Food & Juice\n",
      " -inserting cuisine american-new\n",
      " -inserting cuisine smoothies-juices\n",
      " -inserting cuisine vegetarian\n",
      " -inserting cuisine healthy\n",
      " -inserting cuisine localorganic\n",
      "inserting restaurant Haakon's Hall\n",
      " -inserting cuisine american\n",
      " -inserting cuisine scandinavian\n",
      "inserting restaurant El Porton\n",
      " -inserting cuisine mexican\n",
      "inserting restaurant Brad's\n",
      " -inserting cuisine coffee-tea\n",
      "inserting restaurant Mel's Burger Bar\n",
      " -inserting cuisine burgers\n",
      " -inserting cuisine bar-food\n",
      "inserting restaurant Bettolona\n",
      " -inserting cuisine italian\n",
      " -inserting cuisine pizza\n",
      " -inserting cuisine localorganic\n",
      "inserting restaurant Five Guys\n",
      " -inserting cuisine burgers\n",
      " -inserting cuisine hot-dogs\n",
      "inserting restaurant Nikko\n",
      " -inserting cuisine chinese\n",
      " -inserting cuisine japanese\n",
      " -inserting cuisine sushi\n",
      " -inserting cuisine teahouses\n",
      "inserting restaurant Falafel on Broadway\n",
      " -inserting cuisine middle-eastern\n",
      "inserting restaurant Sushi Sushi\n",
      " -inserting cuisine japanese\n",
      " -inserting cuisine sushi\n",
      "inserting restaurant Insomnia Cookies\n",
      " -inserting cuisine bakery-pastries\n",
      " -inserting cuisine desserts\n",
      "inserting restaurant Cafe Amrita\n",
      " -inserting cuisine coffee-tea\n",
      " -inserting cuisine sandwiches\n",
      "inserting restaurant Pinkberry\n",
      " -inserting cuisine desserts\n",
      "inserting restaurant Artopolis Espresso Cafe\n",
      " -inserting cuisine coffee-tea\n",
      " -inserting cuisine sandwiches\n",
      " -inserting cuisine crepes\n",
      "inserting restaurant Max Caffe\n",
      " -inserting cuisine coffee-tea\n",
      " -inserting cuisine sandwiches\n",
      "inserting restaurant Chipotle\n",
      " -inserting cuisine mexican\n",
      "inserting restaurant Chokolat Patisserie\n",
      " -inserting cuisine bakery-pastries\n",
      " -inserting cuisine desserts\n",
      "inserting restaurant Chokolat Patisserie\n",
      " -inserting cuisine bakery-pastries\n",
      " -inserting cuisine coffee-tea\n",
      " -inserting cuisine desserts\n",
      "inserting restaurant Joe's G-H Deli\n",
      " -inserting cuisine deli\n",
      " -inserting cuisine sandwiches\n",
      "inserting restaurant Joe the Art of Coffee\n",
      " -inserting cuisine coffee-tea\n",
      "inserting restaurant Levain Bakery\n",
      " -inserting cuisine bakery-pastries\n",
      " -inserting cuisine desserts\n",
      "inserting restaurant Silvana\n",
      " -inserting cuisine middle-eastern\n",
      " -inserting cuisine vegetarian\n",
      "inserting restaurant Bier International\n",
      " -inserting cuisine german\n",
      " -inserting cuisine eclectic\n",
      " -inserting cuisine bar-food\n",
      "inserting restaurant Vegenation\n",
      " -inserting cuisine indian\n",
      " -inserting cuisine vegetarian\n",
      "inserting restaurant Flat Top\n",
      " -inserting cuisine american-new\n",
      " -inserting cuisine bistro\n",
      "inserting restaurant Kuro Kuma\n",
      " -inserting cuisine coffee-tea\n",
      "inserting restaurant Vinateria\n",
      " -inserting cuisine american-new\n",
      "inserting restaurant Henan Cart\n",
      " -inserting cuisine chinese\n",
      "inserting restaurant Vine\n",
      " -inserting cuisine japanese\n",
      " -inserting cuisine sushi\n",
      " -inserting cuisine thai\n",
      "inserting restaurant El Paso Truck\n",
      " -inserting cuisine mexican\n",
      "inserting restaurant Mama's Fried Chicken and Pizza\n",
      " -inserting cuisine pizza\n",
      " -inserting cuisine chicken\n",
      "inserting restaurant Chapati House\n",
      " -inserting cuisine indian\n",
      "inserting restaurant Dig Inn Seasonal Market\n",
      " -inserting cuisine american\n",
      " -inserting cuisine localorganic\n",
      "inserting restaurant Uncle Luoyang\n",
      " -inserting cuisine chinese\n",
      "inserting restaurant Pita Grill\n",
      " -inserting cuisine middle-eastern\n",
      "inserting restaurant Kissaten Jin\n",
      " -inserting cuisine japanese\n",
      "inserting restaurant Serengeti Teas & Spices\n",
      " -inserting cuisine coffee-tea\n",
      " -inserting cuisine teahouses\n",
      "inserting restaurant Lighthouse Fish Market & Restaurant\n",
      " -inserting cuisine seafood\n",
      " -inserting cuisine wings\n",
      " -inserting cuisine fish--chips\n",
      "inserting restaurant Lolo's Seafood Shack\n",
      " -inserting cuisine seafood\n",
      "inserting restaurant Harmony\n",
      " -inserting cuisine sandwiches\n",
      " -inserting cuisine salads\n",
      " -inserting cuisine teahouses\n",
      "inserting restaurant Bernheim & Schwartz\n",
      " -inserting cuisine american\n",
      " -inserting cuisine gastropub\n",
      "inserting restaurant BTH (By The Hudson)\n",
      " -inserting cuisine american-new\n"
     ]
    }
   ],
   "source": [
    "rest_insert=\"INSERT INTO restaurant(name,price)VALUES(%s,%s) RETURNING id\"\n",
    "cuisine_insert=\"INSERT INTO CUISINE(restaurant_id, kind)VALUES(%s,%s)\"\n",
    "for item in restaurants:\n",
    "    #insert restaurant, RETURNING id\n",
    "    print(\"inserting restaurant\", item['name'])\n",
    "    cursor.execute(rest_insert, [str(item['name']), item['price']])\n",
    "    rowid=cursor.fetchone()[0]\n",
    "    for cuisine in item['cuisines']:\n",
    "        print(\" -inserting cuisine\",cuisine)\n",
    "        cursor.execute(cuisine_insert, [rowid, str(cuisine)])\n",
    "        #insert restaurant\n",
    "conn.commit()"
   ]
  },
  {
   "cell_type": "code",
   "execution_count": null,
   "metadata": {
    "collapsed": true
   },
   "outputs": [],
   "source": []
  }
 ],
 "metadata": {
  "kernelspec": {
   "display_name": "Python 3",
   "language": "python",
   "name": "python3"
  },
  "language_info": {
   "codemirror_mode": {
    "name": "ipython",
    "version": 3
   },
   "file_extension": ".py",
   "mimetype": "text/x-python",
   "name": "python",
   "nbconvert_exporter": "python",
   "pygments_lexer": "ipython3",
   "version": "3.5.1"
  }
 },
 "nbformat": 4,
 "nbformat_minor": 0
}
