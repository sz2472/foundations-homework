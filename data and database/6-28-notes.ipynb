{
 "cells": [
  {
   "cell_type": "markdown",
   "metadata": {},
   "source": [
    "## Writing web applications"
   ]
  },
  {
   "cell_type": "code",
   "execution_count": 1,
   "metadata": {
    "collapsed": false
   },
   "outputs": [
    {
     "name": "stdout",
     "output_type": "stream",
     "text": [
      "Collecting Flask\n",
      "  Downloading Flask-0.11.1-py2.py3-none-any.whl (80kB)\n",
      "\u001b[K    100% |████████████████████████████████| 81kB 3.5MB/s \n",
      "\u001b[?25hCollecting itsdangerous>=0.21 (from Flask)\n",
      "  Downloading itsdangerous-0.24.tar.gz (46kB)\n",
      "\u001b[K    100% |████████████████████████████████| 51kB 7.0MB/s \n",
      "\u001b[?25hRequirement already satisfied (use --upgrade to upgrade): Jinja2>=2.4 in /usr/local/lib/python3.5/site-packages (from Flask)\n",
      "Collecting Werkzeug>=0.7 (from Flask)\n",
      "  Downloading Werkzeug-0.11.10-py2.py3-none-any.whl (306kB)\n",
      "\u001b[K    100% |████████████████████████████████| 307kB 2.3MB/s \n",
      "\u001b[?25hCollecting click>=2.0 (from Flask)\n",
      "  Downloading click-6.6.tar.gz (283kB)\n",
      "\u001b[K    100% |████████████████████████████████| 286kB 2.3MB/s \n",
      "\u001b[?25hRequirement already satisfied (use --upgrade to upgrade): MarkupSafe in /usr/local/lib/python3.5/site-packages (from Jinja2>=2.4->Flask)\n",
      "Building wheels for collected packages: itsdangerous, click\n",
      "  Running setup.py bdist_wheel for itsdangerous ... \u001b[?25l-\b \b\\\b \bdone\n",
      "\u001b[?25h  Stored in directory: /Users/xiaoshuyao/Library/Caches/pip/wheels/fc/a8/66/24d655233c757e178d45dea2de22a04c6d92766abfb741129a\n",
      "  Running setup.py bdist_wheel for click ... \u001b[?25l-\b \b\\\b \bdone\n",
      "\u001b[?25h  Stored in directory: /Users/xiaoshuyao/Library/Caches/pip/wheels/b0/6d/8c/cf5ca1146e48bc7914748bfb1dbf3a40a440b8b4f4f0d952dd\n",
      "Successfully built itsdangerous click\n",
      "Installing collected packages: itsdangerous, Werkzeug, click, Flask\n",
      "Successfully installed Flask-0.11.1 Werkzeug-0.11.10 click-6.6 itsdangerous-0.24\n"
     ]
    }
   ],
   "source": [
    "!pip3 install Flask"
   ]
  },
  {
   "cell_type": "code",
   "execution_count": 8,
   "metadata": {
    "collapsed": true
   },
   "outputs": [],
   "source": [
    "from flask import Flask\n",
    "app = Flask(__name__)\n",
    "\n",
    "@app.route(\"/blah\")\n",
    "def hello():\n",
    "    return \"Hello, world!\"\n",
    "\n",
    "@app.route(\"/hello\")\n",
    "def fun_response_yay():\n",
    "    return \"you went to the path /Hello, congratulations!\"\n",
    "\n",
    "@app.route(\"/\")\n",
    "def index_resource():\n",
    "    return \"welcomt to example server.\"\n",
    "\n",
    "app.run()"
   ]
  },
  {
   "cell_type": "code",
   "execution_count": 9,
   "metadata": {
    "collapsed": false
   },
   "outputs": [
    {
     "ename": "SyntaxError",
     "evalue": "invalid syntax (<ipython-input-9-ff173b8f3055>, line 1)",
     "output_type": "error",
     "traceback": [
      "\u001b[0;36m  File \u001b[0;32m\"<ipython-input-9-ff173b8f3055>\"\u001b[0;36m, line \u001b[0;32m1\u001b[0m\n\u001b[0;31m    localhost = 127.0.0.1\u001b[0m\n\u001b[0m                      ^\u001b[0m\n\u001b[0;31mSyntaxError\u001b[0m\u001b[0;31m:\u001b[0m invalid syntax\n"
     ]
    }
   ],
   "source": [
    "localhost = 127.0.0.1"
   ]
  },
  {
   "cell_type": "code",
   "execution_count": 10,
   "metadata": {
    "collapsed": false
   },
   "outputs": [
    {
     "data": {
      "text/plain": [
       "'htommam'"
      ]
     },
     "execution_count": 10,
     "metadata": {},
     "output_type": "execute_result"
    }
   ],
   "source": [
    "''.join(reversed(\"mammoth\"))"
   ]
  },
  {
   "cell_type": "code",
   "execution_count": 11,
   "metadata": {
    "collapsed": false
   },
   "outputs": [
    {
     "data": {
      "text/plain": [
       "'pupils'"
      ]
     },
     "execution_count": 11,
     "metadata": {},
     "output_type": "execute_result"
    }
   ],
   "source": [
    "''.join(list(reversed(\"slipup\")))"
   ]
  },
  {
   "cell_type": "code",
   "execution_count": 14,
   "metadata": {
    "collapsed": false
   },
   "outputs": [],
   "source": [
    "from flask import Flask,request\n",
    "app = Flask(__name__)\n",
    "\n",
    "@app.route(\"/reverse\")\n",
    "def reverser():\n",
    "    word = request.args.get('word',None)\n",
    "    if word:\n",
    "        word_in_reverse = ''.join(reversed(word))\n",
    "        return word_in_reverse\n",
    "    else:\n",
    "        return(\"you did not use the API correctly\")\n",
    "\n",
    "app.run()"
   ]
  },
  {
   "cell_type": "code",
   "execution_count": 17,
   "metadata": {
    "collapsed": false
   },
   "outputs": [],
   "source": [
    "x = {'orange':6, 'apples':4, 'durians':2}"
   ]
  },
  {
   "cell_type": "code",
   "execution_count": 18,
   "metadata": {
    "collapsed": true
   },
   "outputs": [],
   "source": [
    "if \"passionfruit\" in x:\n",
    "    print(x['passionfruit'])"
   ]
  },
  {
   "cell_type": "code",
   "execution_count": 19,
   "metadata": {
    "collapsed": false
   },
   "outputs": [
    {
     "data": {
      "text/plain": [
       "0"
      ]
     },
     "execution_count": 19,
     "metadata": {},
     "output_type": "execute_result"
    }
   ],
   "source": [
    "x.get('passionfruit',0)"
   ]
  },
  {
   "cell_type": "code",
   "execution_count": 20,
   "metadata": {
    "collapsed": false
   },
   "outputs": [
    {
     "data": {
      "text/plain": [
       "4"
      ]
     },
     "execution_count": 20,
     "metadata": {},
     "output_type": "execute_result"
    }
   ],
   "source": [
    "x.get('apples',0)"
   ]
  },
  {
   "cell_type": "markdown",
   "metadata": {},
   "source": [
    "### a more interesting hello world\n",
    "\n",
    "    request: http://localhost:5000/greeting?to_greet=galaxy\n",
    "    response: Hello, galaxy!\n",
    "    \n",
    "#### addtionally: choose a random greeting\n",
    "    ['hello','hi','howdy','hey','sup']\n",
    "   "
   ]
  },
  {
   "cell_type": "code",
   "execution_count": 21,
   "metadata": {
    "collapsed": true
   },
   "outputs": [],
   "source": [
    "import random"
   ]
  },
  {
   "cell_type": "code",
   "execution_count": 23,
   "metadata": {
    "collapsed": false
   },
   "outputs": [
    {
     "data": {
      "text/plain": [
       "16"
      ]
     },
     "execution_count": 23,
     "metadata": {},
     "output_type": "execute_result"
    }
   ],
   "source": [
    "random.randrange(1, 21)"
   ]
  },
  {
   "cell_type": "code",
   "execution_count": 24,
   "metadata": {
    "collapsed": false
   },
   "outputs": [
    {
     "data": {
      "text/plain": [
       "0.3173983790764362"
      ]
     },
     "execution_count": 24,
     "metadata": {},
     "output_type": "execute_result"
    }
   ],
   "source": [
    "random.uniform(0,1)"
   ]
  },
  {
   "cell_type": "code",
   "execution_count": 25,
   "metadata": {
    "collapsed": false
   },
   "outputs": [
    {
     "data": {
      "text/plain": [
       "'howdy'"
      ]
     },
     "execution_count": 25,
     "metadata": {},
     "output_type": "execute_result"
    }
   ],
   "source": [
    "random.choice(['hello','hi','howdy','hey','sup'])"
   ]
  },
  {
   "cell_type": "code",
   "execution_count": null,
   "metadata": {
    "collapsed": false
   },
   "outputs": [],
   "source": [
    "from flask import Flask,request\n",
    "app = Flask(__name__)\n",
    "\n",
    "greets = ['hello','hi','howdy','hey','sup']\n",
    "punc = ['!','!!','?',\".\",\".....\"]\n",
    "\n",
    "@app.route(\"/greeting\")\n",
    "def greet_generator():\n",
    "    thing = request.args['to_greet']\n",
    "    greeting = random.choice(greets) + \" \" + thing + random.choice(punc)\n",
    "    return greeting\n",
    "app.run()"
   ]
  },
  {
   "cell_type": "code",
   "execution_count": null,
   "metadata": {
    "collapsed": true
   },
   "outputs": [],
   "source": []
  }
 ],
 "metadata": {
  "kernelspec": {
   "display_name": "Python 3",
   "language": "python",
   "name": "python3"
  },
  "language_info": {
   "codemirror_mode": {
    "name": "ipython",
    "version": 3
   },
   "file_extension": ".py",
   "mimetype": "text/x-python",
   "name": "python",
   "nbconvert_exporter": "python",
   "pygments_lexer": "ipython3",
   "version": "3.5.1"
  }
 },
 "nbformat": 4,
 "nbformat_minor": 0
}
