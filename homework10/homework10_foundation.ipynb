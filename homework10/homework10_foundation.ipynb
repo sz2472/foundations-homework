{
 "cells": [
  {
   "cell_type": "code",
   "execution_count": 1,
   "metadata": {
    "collapsed": true
   },
   "outputs": [],
   "source": [
    "import requests"
   ]
  },
  {
   "cell_type": "code",
   "execution_count": 2,
   "metadata": {
    "collapsed": false
   },
   "outputs": [],
   "source": [
    "response = requests.get(\"https://api.forecast.io/forecast/94bc3fa3628bfad686b10e7054c67f71/40.7141667, -74.0063889\")"
   ]
  },
  {
   "cell_type": "code",
   "execution_count": 3,
   "metadata": {
    "collapsed": true
   },
   "outputs": [],
   "source": [
    "data = response.json()"
   ]
  },
  {
   "cell_type": "markdown",
   "metadata": {},
   "source": [
    "Forecasts Part One: Getting data \n",
    "\n",
    "Using the Dark Sky Forecast API at https://developer.forecast.io/, generate a sentence that describes the weather that day.\n",
    "\n",
    "Right now it is TEMPERATURE degrees out and SUMMARY. Today will be TEMP_FEELING with a high of HIGH_TEMP and a low of LOW_TEMP. RAIN_WARNING.\n",
    "\n",
    "TEMPERATURE is the current temperature\n",
    "SUMMARY is what it currently looks like (partly cloudy, etc - it's \"summary\" in the dictionary). Lowercase, please.\n",
    "TEMP_FEELING is whether it will be hot, warm, cold, or moderate. You will probably use HIGH_TEMP and your own thoughts and feelings to determine this.\n",
    "HIGH_TEMP is the high temperature for the day.\n",
    "LOW_TEMP is the low temperature for the day.\n",
    "RAIN_WARNING is something like \"bring your umbrella!\" if it is going to rain at some point during the day.\n",
    "\n",
    "You can take a look at the documentation, but \"current\" contains the current conditions and the first element of \"daily\" is for the current day.\n"
   ]
  },
  {
   "cell_type": "code",
   "execution_count": 4,
   "metadata": {
    "collapsed": false
   },
   "outputs": [
    {
     "name": "stdout",
     "output_type": "stream",
     "text": [
      "{'latitude': 40.7141667, 'flags': {'units': 'us', 'sources': ['darksky', 'lamp', 'gfs', 'cmc', 'nam', 'rap', 'rtma', 'sref', 'fnmoc', 'isd', 'nwspa', 'madis', 'nearest-precip'], 'isd-stations': ['725033-94728', '725060-94728', '725060-99999', '997271-99999', '999999-94706'], 'lamp-stations': ['KBLM', 'KCDW', 'KEWR', 'KFRG', 'KHPN', 'KJFK', 'KLGA', 'KMMU', 'KNYC', 'KSMQ', 'KTEB'], 'darksky-stations': ['KDIX'], 'madis-stations': ['AU015', 'BATN6', 'C1099', 'C9714', 'D0486', 'D3216', 'D6004', 'D9152', 'E0405', 'E1296', 'E2876', 'KNYC', 'KTEB', 'NJ12', 'NJ65', 'ROBN4']}, 'daily': {'icon': 'rain', 'summary': 'Rain today through Saturday, with temperatures falling to 82°F on Sunday.', 'data': [{'apparentTemperatureMax': 89.87, 'humidity': 0.76, 'apparentTemperatureMin': 69.53, 'temperatureMinTime': 1467698400, 'ozone': 302.93, 'temperatureMin': 69.53, 'time': 1467691200, 'precipProbability': 0.66, 'windBearing': 259, 'moonPhase': 0.05, 'precipType': 'rain', 'dewPoint': 68.6, 'visibility': 7.73, 'precipIntensityMaxTime': 1467698400, 'icon': 'rain', 'precipIntensityMax': 0.0915, 'windSpeed': 2.12, 'cloudCover': 0.55, 'temperatureMax': 86.23, 'precipIntensity': 0.0203, 'pressure': 1008.86, 'sunriseTime': 1467711130, 'apparentTemperatureMaxTime': 1467752400, 'temperatureMaxTime': 1467752400, 'summary': 'Rain in the morning.', 'sunsetTime': 1467765086, 'apparentTemperatureMinTime': 1467698400}, {'apparentTemperatureMax': 94.71, 'humidity': 0.64, 'apparentTemperatureMin': 73.29, 'temperatureMinTime': 1467795600, 'ozone': 293.93, 'temperatureMin': 73.29, 'time': 1467777600, 'precipProbability': 0, 'windBearing': 232, 'moonPhase': 0.08, 'dewPoint': 67.9, 'visibility': 9.97, 'icon': 'partly-cloudy-day', 'precipIntensityMax': 0, 'sunriseTime': 1467797567, 'cloudCover': 0.2, 'temperatureMax': 90.15, 'precipIntensity': 0, 'pressure': 1011, 'windSpeed': 2.91, 'apparentTemperatureMaxTime': 1467835200, 'temperatureMaxTime': 1467835200, 'summary': 'Partly cloudy in the morning.', 'sunsetTime': 1467851468, 'apparentTemperatureMinTime': 1467795600}, {'apparentTemperatureMax': 97.73, 'humidity': 0.73, 'apparentTemperatureMin': 73.73, 'temperatureMinTime': 1467882000, 'ozone': 295.01, 'temperatureMin': 73.73, 'time': 1467864000, 'precipProbability': 0.7, 'windBearing': 175, 'moonPhase': 0.11, 'precipType': 'rain', 'dewPoint': 71.64, 'visibility': 10, 'precipIntensityMaxTime': 1467925200, 'icon': 'rain', 'precipIntensityMax': 0.1398, 'windSpeed': 5.13, 'cloudCover': 0.32, 'temperatureMax': 89.78, 'precipIntensity': 0.0212, 'pressure': 1009.36, 'sunriseTime': 1467884004, 'apparentTemperatureMaxTime': 1467914400, 'temperatureMaxTime': 1467914400, 'summary': 'Rain starting in the afternoon.', 'sunsetTime': 1467937849, 'apparentTemperatureMinTime': 1467882000}, {'apparentTemperatureMax': 94.16, 'humidity': 0.8, 'apparentTemperatureMin': 74.11, 'temperatureMinTime': 1467975600, 'ozone': 300.76, 'temperatureMin': 74.11, 'time': 1467950400, 'precipProbability': 0.53, 'windBearing': 167, 'moonPhase': 0.15, 'precipType': 'rain', 'dewPoint': 72.61, 'visibility': 10, 'precipIntensityMaxTime': 1467979200, 'icon': 'rain', 'precipIntensityMax': 0.0234, 'windSpeed': 3.02, 'cloudCover': 0.59, 'temperatureMax': 85.79, 'precipIntensity': 0.0086, 'pressure': 1007.17, 'sunriseTime': 1467970443, 'apparentTemperatureMaxTime': 1468011600, 'temperatureMaxTime': 1468011600, 'summary': 'Light rain in the morning and afternoon.', 'sunsetTime': 1468024228, 'apparentTemperatureMinTime': 1467975600}, {'apparentTemperatureMax': 88.78, 'humidity': 0.76, 'apparentTemperatureMin': 73.23, 'temperatureMinTime': 1468062000, 'ozone': 305.18, 'temperatureMin': 73.23, 'time': 1468036800, 'precipProbability': 0.55, 'windBearing': 242, 'moonPhase': 0.18, 'precipType': 'rain', 'dewPoint': 70.43, 'precipIntensityMaxTime': 1468054800, 'icon': 'rain', 'precipIntensityMax': 0.0279, 'windSpeed': 10.44, 'cloudCover': 0.36, 'temperatureMax': 84.85, 'precipIntensity': 0.0081, 'pressure': 1005.93, 'sunriseTime': 1468056884, 'apparentTemperatureMaxTime': 1468094400, 'temperatureMaxTime': 1468094400, 'summary': 'Light rain in the morning.', 'sunsetTime': 1468110605, 'apparentTemperatureMinTime': 1468062000}, {'apparentTemperatureMax': 83.43, 'humidity': 0.66, 'apparentTemperatureMin': 70.37, 'temperatureMinTime': 1468152000, 'ozone': 332.27, 'temperatureMin': 70.37, 'time': 1468123200, 'precipProbability': 0.02, 'windBearing': 280, 'moonPhase': 0.21, 'precipType': 'rain', 'dewPoint': 62.89, 'precipIntensityMaxTime': 1468123200, 'icon': 'wind', 'precipIntensityMax': 0.0011, 'windSpeed': 14.96, 'cloudCover': 0, 'temperatureMax': 81.82, 'precipIntensity': 0.0007, 'pressure': 1008.81, 'sunriseTime': 1468143325, 'apparentTemperatureMaxTime': 1468188000, 'temperatureMaxTime': 1468188000, 'summary': 'Breezy in the morning.', 'sunsetTime': 1468196980, 'apparentTemperatureMinTime': 1468152000}, {'apparentTemperatureMax': 84.27, 'humidity': 0.61, 'apparentTemperatureMin': 69.09, 'temperatureMinTime': 1468234800, 'ozone': 329.39, 'temperatureMin': 69.09, 'time': 1468209600, 'precipProbability': 0, 'windBearing': 286, 'moonPhase': 0.24, 'dewPoint': 61.32, 'icon': 'clear-day', 'precipIntensityMax': 0, 'sunriseTime': 1468229768, 'cloudCover': 0, 'temperatureMax': 82.81, 'precipIntensity': 0, 'pressure': 1015.03, 'windSpeed': 9.59, 'apparentTemperatureMaxTime': 1468274400, 'temperatureMaxTime': 1468274400, 'summary': 'Clear throughout the day.', 'sunsetTime': 1468283353, 'apparentTemperatureMinTime': 1468234800}, {'apparentTemperatureMax': 84.75, 'humidity': 0.56, 'apparentTemperatureMin': 69.14, 'temperatureMinTime': 1468321200, 'ozone': 311.37, 'temperatureMin': 69.14, 'time': 1468296000, 'precipProbability': 0, 'windBearing': 308, 'moonPhase': 0.27, 'dewPoint': 60, 'icon': 'partly-cloudy-day', 'precipIntensityMax': 0, 'sunriseTime': 1468316211, 'cloudCover': 0.11, 'temperatureMax': 83.93, 'precipIntensity': 0, 'pressure': 1016.84, 'windSpeed': 8.11, 'apparentTemperatureMaxTime': 1468357200, 'temperatureMaxTime': 1468357200, 'summary': 'Partly cloudy starting in the afternoon, continuing until evening.', 'sunsetTime': 1468369724, 'apparentTemperatureMinTime': 1468321200}]}, 'longitude': -74.0063889, 'minutely': {'icon': 'partly-cloudy-day', 'summary': 'Partly cloudy for the hour.', 'data': [{'time': 1467745680, 'precipIntensity': 0, 'precipProbability': 0}, {'time': 1467745740, 'precipIntensity': 0, 'precipProbability': 0}, {'time': 1467745800, 'precipIntensity': 0, 'precipProbability': 0}, {'time': 1467745860, 'precipIntensity': 0, 'precipProbability': 0}, {'time': 1467745920, 'precipIntensity': 0, 'precipProbability': 0}, {'time': 1467745980, 'precipIntensity': 0, 'precipProbability': 0}, {'time': 1467746040, 'precipIntensity': 0, 'precipProbability': 0}, {'time': 1467746100, 'precipIntensity': 0, 'precipProbability': 0}, {'time': 1467746160, 'precipIntensity': 0, 'precipProbability': 0}, {'time': 1467746220, 'precipIntensity': 0, 'precipProbability': 0}, {'time': 1467746280, 'precipIntensity': 0, 'precipProbability': 0}, {'time': 1467746340, 'precipIntensity': 0, 'precipProbability': 0}, {'time': 1467746400, 'precipIntensity': 0, 'precipProbability': 0}, {'time': 1467746460, 'precipIntensity': 0, 'precipProbability': 0}, {'time': 1467746520, 'precipIntensity': 0, 'precipProbability': 0}, {'time': 1467746580, 'precipIntensity': 0, 'precipProbability': 0}, {'time': 1467746640, 'precipIntensity': 0, 'precipProbability': 0}, {'time': 1467746700, 'precipIntensity': 0, 'precipProbability': 0}, {'time': 1467746760, 'precipIntensity': 0, 'precipProbability': 0}, {'time': 1467746820, 'precipIntensity': 0, 'precipProbability': 0}, {'time': 1467746880, 'precipIntensity': 0, 'precipProbability': 0}, {'time': 1467746940, 'precipIntensity': 0, 'precipProbability': 0}, {'time': 1467747000, 'precipIntensity': 0, 'precipProbability': 0}, {'time': 1467747060, 'precipIntensity': 0, 'precipProbability': 0}, {'time': 1467747120, 'precipIntensity': 0, 'precipProbability': 0}, {'time': 1467747180, 'precipIntensity': 0, 'precipProbability': 0}, {'time': 1467747240, 'precipIntensity': 0, 'precipProbability': 0}, {'time': 1467747300, 'precipIntensity': 0, 'precipProbability': 0}, {'time': 1467747360, 'precipIntensity': 0, 'precipProbability': 0}, {'time': 1467747420, 'precipIntensity': 0, 'precipProbability': 0}, {'time': 1467747480, 'precipIntensity': 0, 'precipProbability': 0}, {'time': 1467747540, 'precipIntensity': 0, 'precipProbability': 0}, {'time': 1467747600, 'precipIntensity': 0, 'precipProbability': 0}, {'time': 1467747660, 'precipIntensity': 0, 'precipProbability': 0}, {'time': 1467747720, 'precipIntensity': 0, 'precipProbability': 0}, {'time': 1467747780, 'precipIntensity': 0, 'precipProbability': 0}, {'time': 1467747840, 'precipIntensity': 0, 'precipProbability': 0}, {'time': 1467747900, 'precipIntensity': 0, 'precipProbability': 0}, {'time': 1467747960, 'precipIntensity': 0, 'precipProbability': 0}, {'time': 1467748020, 'precipIntensity': 0, 'precipProbability': 0}, {'time': 1467748080, 'precipIntensity': 0, 'precipProbability': 0}, {'time': 1467748140, 'precipIntensity': 0, 'precipProbability': 0}, {'time': 1467748200, 'precipIntensity': 0, 'precipProbability': 0}, {'time': 1467748260, 'precipIntensity': 0, 'precipProbability': 0}, {'time': 1467748320, 'precipIntensity': 0, 'precipProbability': 0}, {'time': 1467748380, 'precipIntensity': 0, 'precipProbability': 0}, {'time': 1467748440, 'precipIntensity': 0, 'precipProbability': 0}, {'time': 1467748500, 'precipIntensity': 0, 'precipProbability': 0}, {'time': 1467748560, 'precipIntensity': 0, 'precipProbability': 0}, {'time': 1467748620, 'precipIntensity': 0, 'precipProbability': 0}, {'time': 1467748680, 'precipIntensity': 0, 'precipProbability': 0}, {'time': 1467748740, 'precipType': 'rain', 'precipIntensity': 0.0065, 'precipProbability': 0.01, 'precipIntensityError': 0.0036}, {'time': 1467748800, 'precipType': 'rain', 'precipIntensity': 0.0062, 'precipProbability': 0.01, 'precipIntensityError': 0.0035}, {'time': 1467748860, 'precipType': 'rain', 'precipIntensity': 0.006, 'precipProbability': 0.01, 'precipIntensityError': 0.0034}, {'time': 1467748920, 'precipType': 'rain', 'precipIntensity': 0.0061, 'precipProbability': 0.01, 'precipIntensityError': 0.0035}, {'time': 1467748980, 'precipType': 'rain', 'precipIntensity': 0.0059, 'precipProbability': 0.01, 'precipIntensityError': 0.0035}, {'time': 1467749040, 'precipIntensity': 0, 'precipProbability': 0}, {'time': 1467749100, 'precipIntensity': 0, 'precipProbability': 0}, {'time': 1467749160, 'precipType': 'rain', 'precipIntensity': 0.0061, 'precipProbability': 0.01, 'precipIntensityError': 0.0034}, {'time': 1467749220, 'precipType': 'rain', 'precipIntensity': 0.006, 'precipProbability': 0.01, 'precipIntensityError': 0.0034}, {'time': 1467749280, 'precipIntensity': 0, 'precipProbability': 0}]}, 'currently': {'humidity': 0.6, 'icon': 'partly-cloudy-day', 'windSpeed': 3.1, 'cloudCover': 0.36, 'ozone': 315.76, 'precipIntensity': 0, 'pressure': 1007.69, 'summary': 'Partly Cloudy', 'time': 1467745701, 'nearestStormDistance': 108, 'precipProbability': 0, 'windBearing': 292, 'apparentTemperature': 89.04, 'dewPoint': 69.49, 'temperature': 84.84, 'visibility': 10, 'nearestStormBearing': 290}, 'offset': -4, 'hourly': {'icon': 'partly-cloudy-day', 'summary': 'Partly cloudy tomorrow morning.', 'data': [{'humidity': 0.61, 'icon': 'partly-cloudy-day', 'ozone': 316.26, 'cloudCover': 0.35, 'dewPoint': 69.65, 'precipIntensity': 0, 'pressure': 1007.71, 'windBearing': 294, 'time': 1467745200, 'windSpeed': 2.87, 'summary': 'Partly Cloudy', 'apparentTemperature': 89.05, 'precipProbability': 0, 'temperature': 84.77, 'visibility': 10}, {'humidity': 0.57, 'icon': 'partly-cloudy-day', 'ozone': 312.69, 'cloudCover': 0.39, 'dewPoint': 68.49, 'precipIntensity': 0.0024, 'precipProbability': 0.01, 'pressure': 1007.56, 'windBearing': 283, 'time': 1467748800, 'windSpeed': 4.59, 'summary': 'Partly Cloudy', 'apparentTemperature': 88.95, 'precipType': 'rain', 'temperature': 85.3, 'visibility': 10}, {'humidity': 0.55, 'icon': 'partly-cloudy-day', 'ozone': 309.49, 'cloudCover': 0.4, 'dewPoint': 68.28, 'precipIntensity': 0.0021, 'precipProbability': 0.05, 'pressure': 1007.54, 'windBearing': 276, 'time': 1467752400, 'windSpeed': 4.63, 'summary': 'Partly Cloudy', 'apparentTemperature': 89.87, 'precipType': 'rain', 'temperature': 86.23, 'visibility': 10}, {'humidity': 0.55, 'icon': 'partly-cloudy-day', 'ozone': 307.27, 'cloudCover': 0.3, 'dewPoint': 68.06, 'precipIntensity': 0, 'pressure': 1007.67, 'windBearing': 269, 'time': 1467756000, 'windSpeed': 4.56, 'summary': 'Partly Cloudy', 'apparentTemperature': 89.58, 'precipProbability': 0, 'temperature': 86.09, 'visibility': 10}, {'humidity': 0.56, 'icon': 'clear-day', 'ozone': 305.43, 'cloudCover': 0.22, 'dewPoint': 67.92, 'precipIntensity': 0, 'pressure': 1007.92, 'windBearing': 261, 'time': 1467759600, 'windSpeed': 3.98, 'summary': 'Clear', 'apparentTemperature': 88.74, 'precipProbability': 0, 'temperature': 85.41, 'visibility': 10}, {'humidity': 0.58, 'icon': 'clear-day', 'ozone': 303.86, 'cloudCover': 0.16, 'dewPoint': 67.67, 'precipIntensity': 0, 'pressure': 1008.24, 'windBearing': 246, 'time': 1467763200, 'windSpeed': 3.33, 'summary': 'Clear', 'apparentTemperature': 86.81, 'precipProbability': 0, 'temperature': 83.8, 'visibility': 10}, {'humidity': 0.61, 'icon': 'clear-night', 'ozone': 302.67, 'cloudCover': 0.11, 'dewPoint': 67.48, 'precipIntensity': 0, 'pressure': 1008.7, 'windBearing': 237, 'time': 1467766800, 'windSpeed': 3.17, 'summary': 'Clear', 'apparentTemperature': 84.93, 'precipProbability': 0, 'temperature': 82.18, 'visibility': 10}, {'humidity': 0.64, 'icon': 'clear-night', 'ozone': 301.76, 'cloudCover': 0.09, 'dewPoint': 67.53, 'precipIntensity': 0, 'pressure': 1009.26, 'windBearing': 251, 'time': 1467770400, 'windSpeed': 2.98, 'summary': 'Clear', 'apparentTemperature': 83.5, 'precipProbability': 0, 'temperature': 80.9, 'visibility': 10}, {'humidity': 0.66, 'icon': 'clear-night', 'ozone': 300.69, 'cloudCover': 0.1, 'dewPoint': 67.42, 'precipIntensity': 0, 'pressure': 1009.73, 'windBearing': 260, 'time': 1467774000, 'windSpeed': 3.56, 'summary': 'Clear', 'apparentTemperature': 79.77, 'precipProbability': 0, 'temperature': 79.77, 'visibility': 10}, {'humidity': 0.68, 'icon': 'clear-night', 'ozone': 299.12, 'cloudCover': 0.12, 'dewPoint': 67.29, 'precipIntensity': 0, 'pressure': 1010.02, 'windBearing': 266, 'time': 1467777600, 'windSpeed': 3.65, 'summary': 'Clear', 'apparentTemperature': 78.73, 'precipProbability': 0, 'temperature': 78.73, 'visibility': 10}, {'humidity': 0.7, 'icon': 'clear-night', 'ozone': 297.38, 'cloudCover': 0.11, 'dewPoint': 66.98, 'precipIntensity': 0, 'pressure': 1010.22, 'windBearing': 266, 'time': 1467781200, 'windSpeed': 3.25, 'summary': 'Clear', 'apparentTemperature': 77.7, 'precipProbability': 0, 'temperature': 77.7, 'visibility': 10}, {'humidity': 0.72, 'icon': 'clear-night', 'ozone': 295.99, 'cloudCover': 0.15, 'dewPoint': 66.74, 'precipIntensity': 0, 'pressure': 1010.41, 'windBearing': 272, 'time': 1467784800, 'windSpeed': 3.12, 'summary': 'Clear', 'apparentTemperature': 76.54, 'precipProbability': 0, 'temperature': 76.54, 'visibility': 9.99}, {'humidity': 0.74, 'icon': 'clear-night', 'ozone': 295.18, 'cloudCover': 0.19, 'dewPoint': 66.16, 'precipIntensity': 0, 'pressure': 1010.54, 'windBearing': 284, 'time': 1467788400, 'windSpeed': 3.14, 'summary': 'Clear', 'apparentTemperature': 75.19, 'precipProbability': 0, 'temperature': 75.19, 'visibility': 9.97}, {'humidity': 0.75, 'icon': 'clear-night', 'ozone': 294.73, 'cloudCover': 0.2, 'dewPoint': 65.61, 'precipIntensity': 0, 'pressure': 1010.66, 'windBearing': 291, 'time': 1467792000, 'windSpeed': 3.25, 'summary': 'Clear', 'apparentTemperature': 73.98, 'precipProbability': 0, 'temperature': 73.98, 'visibility': 9.89}, {'humidity': 0.76, 'icon': 'clear-night', 'ozone': 294.39, 'cloudCover': 0.21, 'dewPoint': 65.11, 'precipIntensity': 0, 'pressure': 1010.87, 'windBearing': 292, 'time': 1467795600, 'windSpeed': 3.06, 'summary': 'Clear', 'apparentTemperature': 73.29, 'precipProbability': 0, 'temperature': 73.29, 'visibility': 9.76}, {'humidity': 0.75, 'icon': 'partly-cloudy-day', 'ozone': 294.09, 'cloudCover': 0.26, 'dewPoint': 65.44, 'precipIntensity': 0, 'pressure': 1011.31, 'windBearing': 307, 'time': 1467799200, 'windSpeed': 3.07, 'summary': 'Partly Cloudy', 'apparentTemperature': 73.71, 'precipProbability': 0, 'temperature': 73.71, 'visibility': 9.77}, {'humidity': 0.7, 'icon': 'partly-cloudy-day', 'ozone': 293.91, 'cloudCover': 0.26, 'dewPoint': 65.75, 'precipIntensity': 0, 'pressure': 1011.85, 'windBearing': 319, 'time': 1467802800, 'windSpeed': 3.58, 'summary': 'Partly Cloudy', 'apparentTemperature': 76.06, 'precipProbability': 0, 'temperature': 76.06, 'visibility': 9.99}, {'humidity': 0.68, 'icon': 'partly-cloudy-day', 'ozone': 293.83, 'cloudCover': 0.27, 'dewPoint': 66.47, 'precipIntensity': 0, 'pressure': 1012.23, 'windBearing': 311, 'time': 1467806400, 'windSpeed': 2.94, 'summary': 'Partly Cloudy', 'apparentTemperature': 77.7, 'precipProbability': 0, 'temperature': 77.7, 'visibility': 9.99}, {'humidity': 0.65, 'icon': 'partly-cloudy-day', 'ozone': 293.97, 'cloudCover': 0.27, 'dewPoint': 66.71, 'precipIntensity': 0, 'pressure': 1012.33, 'windBearing': 309, 'time': 1467810000, 'windSpeed': 2.82, 'summary': 'Partly Cloudy', 'apparentTemperature': 79.55, 'precipProbability': 0, 'temperature': 79.55, 'visibility': 10}, {'humidity': 0.6, 'icon': 'partly-cloudy-day', 'ozone': 294.22, 'cloudCover': 0.26, 'dewPoint': 66.63, 'precipIntensity': 0, 'pressure': 1012.26, 'windBearing': 305, 'time': 1467813600, 'windSpeed': 2.57, 'summary': 'Partly Cloudy', 'apparentTemperature': 84.3, 'precipProbability': 0, 'temperature': 81.91, 'visibility': 10}, {'humidity': 0.56, 'icon': 'partly-cloudy-day', 'ozone': 294.17, 'cloudCover': 0.28, 'dewPoint': 66.36, 'precipIntensity': 0, 'pressure': 1012.13, 'windBearing': 275, 'time': 1467817200, 'windSpeed': 2.41, 'summary': 'Partly Cloudy', 'apparentTemperature': 86.24, 'precipProbability': 0, 'temperature': 83.86, 'visibility': 10}, {'humidity': 0.52, 'icon': 'clear-day', 'ozone': 293.53, 'cloudCover': 0.24, 'dewPoint': 66.54, 'precipIntensity': 0, 'pressure': 1011.96, 'windBearing': 245, 'time': 1467820800, 'windSpeed': 2.98, 'summary': 'Clear', 'apparentTemperature': 88.63, 'precipProbability': 0, 'temperature': 86.02, 'visibility': 10}, {'humidity': 0.5, 'icon': 'clear-day', 'ozone': 292.59, 'cloudCover': 0.21, 'dewPoint': 66.86, 'precipIntensity': 0, 'pressure': 1011.72, 'windBearing': 235, 'time': 1467824400, 'windSpeed': 3.91, 'summary': 'Clear', 'apparentTemperature': 90.56, 'precipProbability': 0, 'temperature': 87.64, 'visibility': 10}, {'humidity': 0.49, 'icon': 'clear-day', 'ozone': 291.89, 'cloudCover': 0.2, 'dewPoint': 67.29, 'precipIntensity': 0, 'pressure': 1011.42, 'windBearing': 227, 'time': 1467828000, 'windSpeed': 4.59, 'summary': 'Clear', 'apparentTemperature': 92.39, 'precipProbability': 0, 'temperature': 89.03, 'visibility': 10}, {'humidity': 0.49, 'icon': 'clear-day', 'ozone': 291.59, 'cloudCover': 0.14, 'dewPoint': 67.81, 'precipIntensity': 0, 'pressure': 1010.98, 'windBearing': 210, 'time': 1467831600, 'windSpeed': 4.96, 'summary': 'Clear', 'apparentTemperature': 93.14, 'precipProbability': 0, 'temperature': 89.38, 'visibility': 10}, {'humidity': 0.5, 'icon': 'clear-day', 'ozone': 291.53, 'cloudCover': 0.16, 'dewPoint': 68.74, 'precipIntensity': 0, 'pressure': 1010.48, 'windBearing': 202, 'time': 1467835200, 'windSpeed': 5.4, 'summary': 'Clear', 'apparentTemperature': 94.71, 'precipProbability': 0, 'temperature': 90.15, 'visibility': 10}, {'humidity': 0.51, 'icon': 'clear-day', 'ozone': 291.66, 'cloudCover': 0.19, 'dewPoint': 69.24, 'precipIntensity': 0, 'pressure': 1010.11, 'windBearing': 196, 'time': 1467838800, 'windSpeed': 5.73, 'summary': 'Clear', 'apparentTemperature': 94.6, 'precipProbability': 0, 'temperature': 89.72, 'visibility': 10}, {'humidity': 0.55, 'icon': 'clear-day', 'ozone': 292.05, 'cloudCover': 0.19, 'dewPoint': 69.85, 'precipIntensity': 0, 'pressure': 1009.99, 'windBearing': 193, 'time': 1467842400, 'windSpeed': 5.92, 'summary': 'Clear', 'apparentTemperature': 93.41, 'precipProbability': 0, 'temperature': 88.32, 'visibility': 10}, {'humidity': 0.59, 'icon': 'clear-day', 'ozone': 292.63, 'cloudCover': 0.18, 'dewPoint': 70.42, 'precipIntensity': 0, 'pressure': 1009.99, 'windBearing': 193, 'time': 1467846000, 'windSpeed': 5.92, 'summary': 'Clear', 'apparentTemperature': 91.47, 'precipProbability': 0, 'temperature': 86.34, 'visibility': 10}, {'humidity': 0.64, 'icon': 'clear-day', 'ozone': 293.2, 'cloudCover': 0.16, 'dewPoint': 71.14, 'precipIntensity': 0, 'pressure': 1010.11, 'windBearing': 188, 'time': 1467849600, 'windSpeed': 6.39, 'summary': 'Clear', 'apparentTemperature': 89.71, 'precipProbability': 0, 'temperature': 84.51, 'visibility': 10}, {'humidity': 0.69, 'icon': 'clear-night', 'ozone': 293.77, 'cloudCover': 0.15, 'dewPoint': 71.7, 'precipIntensity': 0, 'pressure': 1010.42, 'windBearing': 195, 'time': 1467853200, 'windSpeed': 5.98, 'summary': 'Clear', 'apparentTemperature': 88.03, 'precipProbability': 0, 'temperature': 82.96, 'visibility': 10}, {'humidity': 0.74, 'icon': 'clear-night', 'ozone': 294.32, 'cloudCover': 0.15, 'dewPoint': 72.29, 'precipIntensity': 0, 'pressure': 1010.87, 'windBearing': 193, 'time': 1467856800, 'windSpeed': 5.46, 'summary': 'Clear', 'apparentTemperature': 86.38, 'precipProbability': 0, 'temperature': 81.58, 'visibility': 10}, {'humidity': 0.77, 'icon': 'clear-night', 'ozone': 294.56, 'cloudCover': 0.15, 'dewPoint': 72.46, 'precipIntensity': 0, 'pressure': 1011.15, 'windBearing': 191, 'time': 1467860400, 'windSpeed': 4.92, 'summary': 'Clear', 'apparentTemperature': 84.38, 'precipProbability': 0, 'temperature': 80.26, 'visibility': 10}, {'humidity': 0.79, 'icon': 'clear-night', 'ozone': 294.2, 'cloudCover': 0.17, 'dewPoint': 72.03, 'precipIntensity': 0, 'pressure': 1011, 'windBearing': 195, 'time': 1467864000, 'windSpeed': 4.15, 'summary': 'Clear', 'apparentTemperature': 78.97, 'precipProbability': 0, 'temperature': 78.97, 'visibility': 10}, {'humidity': 0.81, 'icon': 'clear-night', 'ozone': 293.53, 'cloudCover': 0.2, 'dewPoint': 71.2, 'precipIntensity': 0, 'pressure': 1010.7, 'windBearing': 205, 'time': 1467867600, 'windSpeed': 3.17, 'summary': 'Clear', 'apparentTemperature': 77.66, 'precipProbability': 0, 'temperature': 77.66, 'visibility': 10}, {'humidity': 0.81, 'icon': 'clear-night', 'ozone': 293.14, 'cloudCover': 0.24, 'dewPoint': 70.35, 'precipIntensity': 0, 'pressure': 1010.44, 'windBearing': 219, 'time': 1467871200, 'windSpeed': 2.41, 'summary': 'Clear', 'apparentTemperature': 76.45, 'precipProbability': 0, 'temperature': 76.45, 'visibility': 10}, {'humidity': 0.83, 'icon': 'partly-cloudy-night', 'ozone': 293.35, 'cloudCover': 0.28, 'dewPoint': 69.55, 'precipIntensity': 0, 'pressure': 1010.19, 'windBearing': 228, 'time': 1467874800, 'windSpeed': 2.06, 'summary': 'Partly Cloudy', 'apparentTemperature': 75.23, 'precipProbability': 0, 'temperature': 75.23, 'visibility': 10}, {'humidity': 0.83, 'icon': 'partly-cloudy-night', 'ozone': 293.84, 'cloudCover': 0.33, 'dewPoint': 68.82, 'precipIntensity': 0, 'pressure': 1009.88, 'windBearing': 232, 'time': 1467878400, 'windSpeed': 1.85, 'summary': 'Partly Cloudy', 'apparentTemperature': 74.17, 'precipProbability': 0, 'temperature': 74.17, 'visibility': 10}, {'humidity': 0.83, 'icon': 'partly-cloudy-night', 'ozone': 294.3, 'cloudCover': 0.35, 'dewPoint': 68.33, 'precipIntensity': 0, 'pressure': 1009.71, 'windBearing': 234, 'time': 1467882000, 'windSpeed': 1.8, 'summary': 'Partly Cloudy', 'apparentTemperature': 73.73, 'precipProbability': 0, 'temperature': 73.73, 'visibility': 10}, {'humidity': 0.82, 'icon': 'partly-cloudy-day', 'ozone': 294.65, 'cloudCover': 0.33, 'dewPoint': 68.69, 'precipIntensity': 0, 'pressure': 1009.85, 'windBearing': 236, 'time': 1467885600, 'windSpeed': 1.97, 'summary': 'Partly Cloudy', 'apparentTemperature': 74.67, 'precipProbability': 0, 'temperature': 74.67, 'visibility': 10}, {'humidity': 0.79, 'icon': 'partly-cloudy-day', 'ozone': 294.98, 'cloudCover': 0.27, 'dewPoint': 69.15, 'precipIntensity': 0, 'pressure': 1010.13, 'windBearing': 235, 'time': 1467889200, 'windSpeed': 2.27, 'summary': 'Partly Cloudy', 'apparentTemperature': 76.12, 'precipProbability': 0, 'temperature': 76.12, 'visibility': 10}, {'humidity': 0.76, 'icon': 'clear-day', 'ozone': 295.23, 'cloudCover': 0.24, 'dewPoint': 69.48, 'precipIntensity': 0, 'pressure': 1010.27, 'windBearing': 225, 'time': 1467892800, 'windSpeed': 2.57, 'summary': 'Clear', 'apparentTemperature': 77.75, 'precipProbability': 0, 'temperature': 77.75, 'visibility': 10}, {'humidity': 0.71, 'icon': 'partly-cloudy-day', 'ozone': 295.44, 'cloudCover': 0.25, 'dewPoint': 69.66, 'precipIntensity': 0, 'pressure': 1010.24, 'windBearing': 208, 'time': 1467896400, 'windSpeed': 3.34, 'summary': 'Partly Cloudy', 'apparentTemperature': 79.82, 'precipProbability': 0, 'temperature': 79.82, 'visibility': 10}, {'humidity': 0.66, 'icon': 'partly-cloudy-day', 'ozone': 295.57, 'cloudCover': 0.28, 'dewPoint': 69.89, 'precipIntensity': 0.0009, 'precipProbability': 0.01, 'pressure': 1010.1, 'windBearing': 196, 'time': 1467900000, 'windSpeed': 4.6, 'summary': 'Partly Cloudy', 'apparentTemperature': 86.34, 'precipType': 'rain', 'temperature': 82.44, 'visibility': 10}, {'humidity': 0.62, 'icon': 'partly-cloudy-day', 'ozone': 295.49, 'cloudCover': 0.31, 'dewPoint': 70.29, 'precipIntensity': 0.0013, 'precipProbability': 0.02, 'pressure': 1009.89, 'windBearing': 187, 'time': 1467903600, 'windSpeed': 5.84, 'summary': 'Partly Cloudy', 'apparentTemperature': 89.71, 'precipType': 'rain', 'temperature': 84.97, 'visibility': 10}, {'humidity': 0.59, 'icon': 'partly-cloudy-day', 'ozone': 294.97, 'cloudCover': 0.33, 'dewPoint': 70.95, 'precipIntensity': 0, 'pressure': 1009.62, 'windBearing': 175, 'time': 1467907200, 'windSpeed': 6.96, 'summary': 'Partly Cloudy', 'apparentTemperature': 92.77, 'precipProbability': 0, 'temperature': 87.06, 'visibility': 10}, {'humidity': 0.57, 'icon': 'partly-cloudy-day', 'ozone': 294.23, 'cloudCover': 0.35, 'dewPoint': 71.81, 'precipIntensity': 0, 'pressure': 1009.28, 'windBearing': 164, 'time': 1467910800, 'windSpeed': 8.14, 'summary': 'Partly Cloudy', 'apparentTemperature': 95.67, 'precipProbability': 0, 'temperature': 88.8, 'visibility': 10}, {'humidity': 0.57, 'icon': 'partly-cloudy-day', 'ozone': 293.73, 'cloudCover': 0.37, 'dewPoint': 72.66, 'precipIntensity': 0.0018, 'precipProbability': 0.04, 'pressure': 1008.95, 'windBearing': 159, 'time': 1467914400, 'windSpeed': 9.06, 'summary': 'Partly Cloudy', 'apparentTemperature': 97.73, 'precipType': 'rain', 'temperature': 89.78, 'visibility': 10}, {'humidity': 0.59, 'icon': 'rain', 'ozone': 293.58, 'cloudCover': 0.39, 'dewPoint': 73.07, 'precipIntensity': 0.0491, 'precipProbability': 0.61, 'pressure': 1008.6, 'windBearing': 159, 'time': 1467918000, 'windSpeed': 9.42, 'summary': 'Light Rain', 'apparentTemperature': 97.62, 'precipType': 'rain', 'temperature': 89.37, 'visibility': 10}]}, 'timezone': 'America/New_York'}\n"
     ]
    }
   ],
   "source": [
    "print(data)"
   ]
  },
  {
   "cell_type": "code",
   "execution_count": 5,
   "metadata": {
    "collapsed": false
   },
   "outputs": [
    {
     "data": {
      "text/plain": [
       "dict_keys(['latitude', 'flags', 'daily', 'longitude', 'minutely', 'currently', 'offset', 'hourly', 'timezone'])"
      ]
     },
     "execution_count": 5,
     "metadata": {},
     "output_type": "execute_result"
    }
   ],
   "source": [
    "data.keys()"
   ]
  },
  {
   "cell_type": "code",
   "execution_count": 6,
   "metadata": {
    "collapsed": false
   },
   "outputs": [
    {
     "data": {
      "text/plain": [
       "{'apparentTemperature': 89.04,\n",
       " 'cloudCover': 0.36,\n",
       " 'dewPoint': 69.49,\n",
       " 'humidity': 0.6,\n",
       " 'icon': 'partly-cloudy-day',\n",
       " 'nearestStormBearing': 290,\n",
       " 'nearestStormDistance': 108,\n",
       " 'ozone': 315.76,\n",
       " 'precipIntensity': 0,\n",
       " 'precipProbability': 0,\n",
       " 'pressure': 1007.69,\n",
       " 'summary': 'Partly Cloudy',\n",
       " 'temperature': 84.84,\n",
       " 'time': 1467745701,\n",
       " 'visibility': 10,\n",
       " 'windBearing': 292,\n",
       " 'windSpeed': 3.1}"
      ]
     },
     "execution_count": 6,
     "metadata": {},
     "output_type": "execute_result"
    }
   ],
   "source": [
    "data['currently']"
   ]
  },
  {
   "cell_type": "code",
   "execution_count": 36,
   "metadata": {
    "collapsed": false
   },
   "outputs": [],
   "source": [
    "temperature=str(data['currently']['temperature'])\n",
    "summary=data['currently']['summary']"
   ]
  },
  {
   "cell_type": "code",
   "execution_count": 8,
   "metadata": {
    "collapsed": false
   },
   "outputs": [
    {
     "data": {
      "text/plain": [
       "{'data': [{'apparentTemperatureMax': 89.87,\n",
       "   'apparentTemperatureMaxTime': 1467752400,\n",
       "   'apparentTemperatureMin': 69.53,\n",
       "   'apparentTemperatureMinTime': 1467698400,\n",
       "   'cloudCover': 0.55,\n",
       "   'dewPoint': 68.6,\n",
       "   'humidity': 0.76,\n",
       "   'icon': 'rain',\n",
       "   'moonPhase': 0.05,\n",
       "   'ozone': 302.93,\n",
       "   'precipIntensity': 0.0203,\n",
       "   'precipIntensityMax': 0.0915,\n",
       "   'precipIntensityMaxTime': 1467698400,\n",
       "   'precipProbability': 0.66,\n",
       "   'precipType': 'rain',\n",
       "   'pressure': 1008.86,\n",
       "   'summary': 'Rain in the morning.',\n",
       "   'sunriseTime': 1467711130,\n",
       "   'sunsetTime': 1467765086,\n",
       "   'temperatureMax': 86.23,\n",
       "   'temperatureMaxTime': 1467752400,\n",
       "   'temperatureMin': 69.53,\n",
       "   'temperatureMinTime': 1467698400,\n",
       "   'time': 1467691200,\n",
       "   'visibility': 7.73,\n",
       "   'windBearing': 259,\n",
       "   'windSpeed': 2.12},\n",
       "  {'apparentTemperatureMax': 94.71,\n",
       "   'apparentTemperatureMaxTime': 1467835200,\n",
       "   'apparentTemperatureMin': 73.29,\n",
       "   'apparentTemperatureMinTime': 1467795600,\n",
       "   'cloudCover': 0.2,\n",
       "   'dewPoint': 67.9,\n",
       "   'humidity': 0.64,\n",
       "   'icon': 'partly-cloudy-day',\n",
       "   'moonPhase': 0.08,\n",
       "   'ozone': 293.93,\n",
       "   'precipIntensity': 0,\n",
       "   'precipIntensityMax': 0,\n",
       "   'precipProbability': 0,\n",
       "   'pressure': 1011,\n",
       "   'summary': 'Partly cloudy in the morning.',\n",
       "   'sunriseTime': 1467797567,\n",
       "   'sunsetTime': 1467851468,\n",
       "   'temperatureMax': 90.15,\n",
       "   'temperatureMaxTime': 1467835200,\n",
       "   'temperatureMin': 73.29,\n",
       "   'temperatureMinTime': 1467795600,\n",
       "   'time': 1467777600,\n",
       "   'visibility': 9.97,\n",
       "   'windBearing': 232,\n",
       "   'windSpeed': 2.91},\n",
       "  {'apparentTemperatureMax': 97.73,\n",
       "   'apparentTemperatureMaxTime': 1467914400,\n",
       "   'apparentTemperatureMin': 73.73,\n",
       "   'apparentTemperatureMinTime': 1467882000,\n",
       "   'cloudCover': 0.32,\n",
       "   'dewPoint': 71.64,\n",
       "   'humidity': 0.73,\n",
       "   'icon': 'rain',\n",
       "   'moonPhase': 0.11,\n",
       "   'ozone': 295.01,\n",
       "   'precipIntensity': 0.0212,\n",
       "   'precipIntensityMax': 0.1398,\n",
       "   'precipIntensityMaxTime': 1467925200,\n",
       "   'precipProbability': 0.7,\n",
       "   'precipType': 'rain',\n",
       "   'pressure': 1009.36,\n",
       "   'summary': 'Rain starting in the afternoon.',\n",
       "   'sunriseTime': 1467884004,\n",
       "   'sunsetTime': 1467937849,\n",
       "   'temperatureMax': 89.78,\n",
       "   'temperatureMaxTime': 1467914400,\n",
       "   'temperatureMin': 73.73,\n",
       "   'temperatureMinTime': 1467882000,\n",
       "   'time': 1467864000,\n",
       "   'visibility': 10,\n",
       "   'windBearing': 175,\n",
       "   'windSpeed': 5.13},\n",
       "  {'apparentTemperatureMax': 94.16,\n",
       "   'apparentTemperatureMaxTime': 1468011600,\n",
       "   'apparentTemperatureMin': 74.11,\n",
       "   'apparentTemperatureMinTime': 1467975600,\n",
       "   'cloudCover': 0.59,\n",
       "   'dewPoint': 72.61,\n",
       "   'humidity': 0.8,\n",
       "   'icon': 'rain',\n",
       "   'moonPhase': 0.15,\n",
       "   'ozone': 300.76,\n",
       "   'precipIntensity': 0.0086,\n",
       "   'precipIntensityMax': 0.0234,\n",
       "   'precipIntensityMaxTime': 1467979200,\n",
       "   'precipProbability': 0.53,\n",
       "   'precipType': 'rain',\n",
       "   'pressure': 1007.17,\n",
       "   'summary': 'Light rain in the morning and afternoon.',\n",
       "   'sunriseTime': 1467970443,\n",
       "   'sunsetTime': 1468024228,\n",
       "   'temperatureMax': 85.79,\n",
       "   'temperatureMaxTime': 1468011600,\n",
       "   'temperatureMin': 74.11,\n",
       "   'temperatureMinTime': 1467975600,\n",
       "   'time': 1467950400,\n",
       "   'visibility': 10,\n",
       "   'windBearing': 167,\n",
       "   'windSpeed': 3.02},\n",
       "  {'apparentTemperatureMax': 88.78,\n",
       "   'apparentTemperatureMaxTime': 1468094400,\n",
       "   'apparentTemperatureMin': 73.23,\n",
       "   'apparentTemperatureMinTime': 1468062000,\n",
       "   'cloudCover': 0.36,\n",
       "   'dewPoint': 70.43,\n",
       "   'humidity': 0.76,\n",
       "   'icon': 'rain',\n",
       "   'moonPhase': 0.18,\n",
       "   'ozone': 305.18,\n",
       "   'precipIntensity': 0.0081,\n",
       "   'precipIntensityMax': 0.0279,\n",
       "   'precipIntensityMaxTime': 1468054800,\n",
       "   'precipProbability': 0.55,\n",
       "   'precipType': 'rain',\n",
       "   'pressure': 1005.93,\n",
       "   'summary': 'Light rain in the morning.',\n",
       "   'sunriseTime': 1468056884,\n",
       "   'sunsetTime': 1468110605,\n",
       "   'temperatureMax': 84.85,\n",
       "   'temperatureMaxTime': 1468094400,\n",
       "   'temperatureMin': 73.23,\n",
       "   'temperatureMinTime': 1468062000,\n",
       "   'time': 1468036800,\n",
       "   'windBearing': 242,\n",
       "   'windSpeed': 10.44},\n",
       "  {'apparentTemperatureMax': 83.43,\n",
       "   'apparentTemperatureMaxTime': 1468188000,\n",
       "   'apparentTemperatureMin': 70.37,\n",
       "   'apparentTemperatureMinTime': 1468152000,\n",
       "   'cloudCover': 0,\n",
       "   'dewPoint': 62.89,\n",
       "   'humidity': 0.66,\n",
       "   'icon': 'wind',\n",
       "   'moonPhase': 0.21,\n",
       "   'ozone': 332.27,\n",
       "   'precipIntensity': 0.0007,\n",
       "   'precipIntensityMax': 0.0011,\n",
       "   'precipIntensityMaxTime': 1468123200,\n",
       "   'precipProbability': 0.02,\n",
       "   'precipType': 'rain',\n",
       "   'pressure': 1008.81,\n",
       "   'summary': 'Breezy in the morning.',\n",
       "   'sunriseTime': 1468143325,\n",
       "   'sunsetTime': 1468196980,\n",
       "   'temperatureMax': 81.82,\n",
       "   'temperatureMaxTime': 1468188000,\n",
       "   'temperatureMin': 70.37,\n",
       "   'temperatureMinTime': 1468152000,\n",
       "   'time': 1468123200,\n",
       "   'windBearing': 280,\n",
       "   'windSpeed': 14.96},\n",
       "  {'apparentTemperatureMax': 84.27,\n",
       "   'apparentTemperatureMaxTime': 1468274400,\n",
       "   'apparentTemperatureMin': 69.09,\n",
       "   'apparentTemperatureMinTime': 1468234800,\n",
       "   'cloudCover': 0,\n",
       "   'dewPoint': 61.32,\n",
       "   'humidity': 0.61,\n",
       "   'icon': 'clear-day',\n",
       "   'moonPhase': 0.24,\n",
       "   'ozone': 329.39,\n",
       "   'precipIntensity': 0,\n",
       "   'precipIntensityMax': 0,\n",
       "   'precipProbability': 0,\n",
       "   'pressure': 1015.03,\n",
       "   'summary': 'Clear throughout the day.',\n",
       "   'sunriseTime': 1468229768,\n",
       "   'sunsetTime': 1468283353,\n",
       "   'temperatureMax': 82.81,\n",
       "   'temperatureMaxTime': 1468274400,\n",
       "   'temperatureMin': 69.09,\n",
       "   'temperatureMinTime': 1468234800,\n",
       "   'time': 1468209600,\n",
       "   'windBearing': 286,\n",
       "   'windSpeed': 9.59},\n",
       "  {'apparentTemperatureMax': 84.75,\n",
       "   'apparentTemperatureMaxTime': 1468357200,\n",
       "   'apparentTemperatureMin': 69.14,\n",
       "   'apparentTemperatureMinTime': 1468321200,\n",
       "   'cloudCover': 0.11,\n",
       "   'dewPoint': 60,\n",
       "   'humidity': 0.56,\n",
       "   'icon': 'partly-cloudy-day',\n",
       "   'moonPhase': 0.27,\n",
       "   'ozone': 311.37,\n",
       "   'precipIntensity': 0,\n",
       "   'precipIntensityMax': 0,\n",
       "   'precipProbability': 0,\n",
       "   'pressure': 1016.84,\n",
       "   'summary': 'Partly cloudy starting in the afternoon, continuing until evening.',\n",
       "   'sunriseTime': 1468316211,\n",
       "   'sunsetTime': 1468369724,\n",
       "   'temperatureMax': 83.93,\n",
       "   'temperatureMaxTime': 1468357200,\n",
       "   'temperatureMin': 69.14,\n",
       "   'temperatureMinTime': 1468321200,\n",
       "   'time': 1468296000,\n",
       "   'windBearing': 308,\n",
       "   'windSpeed': 8.11}],\n",
       " 'icon': 'rain',\n",
       " 'summary': 'Rain today through Saturday, with temperatures falling to 82°F on Sunday.'}"
      ]
     },
     "execution_count": 8,
     "metadata": {},
     "output_type": "execute_result"
    }
   ],
   "source": [
    "data['daily']"
   ]
  },
  {
   "cell_type": "code",
   "execution_count": 9,
   "metadata": {
    "collapsed": false
   },
   "outputs": [
    {
     "data": {
      "text/plain": [
       "dict_keys(['icon', 'summary', 'data'])"
      ]
     },
     "execution_count": 9,
     "metadata": {},
     "output_type": "execute_result"
    }
   ],
   "source": [
    "data['daily'].keys()"
   ]
  },
  {
   "cell_type": "code",
   "execution_count": 10,
   "metadata": {
    "collapsed": false
   },
   "outputs": [
    {
     "data": {
      "text/plain": [
       "[{'apparentTemperatureMax': 89.87,\n",
       "  'apparentTemperatureMaxTime': 1467752400,\n",
       "  'apparentTemperatureMin': 69.53,\n",
       "  'apparentTemperatureMinTime': 1467698400,\n",
       "  'cloudCover': 0.55,\n",
       "  'dewPoint': 68.6,\n",
       "  'humidity': 0.76,\n",
       "  'icon': 'rain',\n",
       "  'moonPhase': 0.05,\n",
       "  'ozone': 302.93,\n",
       "  'precipIntensity': 0.0203,\n",
       "  'precipIntensityMax': 0.0915,\n",
       "  'precipIntensityMaxTime': 1467698400,\n",
       "  'precipProbability': 0.66,\n",
       "  'precipType': 'rain',\n",
       "  'pressure': 1008.86,\n",
       "  'summary': 'Rain in the morning.',\n",
       "  'sunriseTime': 1467711130,\n",
       "  'sunsetTime': 1467765086,\n",
       "  'temperatureMax': 86.23,\n",
       "  'temperatureMaxTime': 1467752400,\n",
       "  'temperatureMin': 69.53,\n",
       "  'temperatureMinTime': 1467698400,\n",
       "  'time': 1467691200,\n",
       "  'visibility': 7.73,\n",
       "  'windBearing': 259,\n",
       "  'windSpeed': 2.12},\n",
       " {'apparentTemperatureMax': 94.71,\n",
       "  'apparentTemperatureMaxTime': 1467835200,\n",
       "  'apparentTemperatureMin': 73.29,\n",
       "  'apparentTemperatureMinTime': 1467795600,\n",
       "  'cloudCover': 0.2,\n",
       "  'dewPoint': 67.9,\n",
       "  'humidity': 0.64,\n",
       "  'icon': 'partly-cloudy-day',\n",
       "  'moonPhase': 0.08,\n",
       "  'ozone': 293.93,\n",
       "  'precipIntensity': 0,\n",
       "  'precipIntensityMax': 0,\n",
       "  'precipProbability': 0,\n",
       "  'pressure': 1011,\n",
       "  'summary': 'Partly cloudy in the morning.',\n",
       "  'sunriseTime': 1467797567,\n",
       "  'sunsetTime': 1467851468,\n",
       "  'temperatureMax': 90.15,\n",
       "  'temperatureMaxTime': 1467835200,\n",
       "  'temperatureMin': 73.29,\n",
       "  'temperatureMinTime': 1467795600,\n",
       "  'time': 1467777600,\n",
       "  'visibility': 9.97,\n",
       "  'windBearing': 232,\n",
       "  'windSpeed': 2.91},\n",
       " {'apparentTemperatureMax': 97.73,\n",
       "  'apparentTemperatureMaxTime': 1467914400,\n",
       "  'apparentTemperatureMin': 73.73,\n",
       "  'apparentTemperatureMinTime': 1467882000,\n",
       "  'cloudCover': 0.32,\n",
       "  'dewPoint': 71.64,\n",
       "  'humidity': 0.73,\n",
       "  'icon': 'rain',\n",
       "  'moonPhase': 0.11,\n",
       "  'ozone': 295.01,\n",
       "  'precipIntensity': 0.0212,\n",
       "  'precipIntensityMax': 0.1398,\n",
       "  'precipIntensityMaxTime': 1467925200,\n",
       "  'precipProbability': 0.7,\n",
       "  'precipType': 'rain',\n",
       "  'pressure': 1009.36,\n",
       "  'summary': 'Rain starting in the afternoon.',\n",
       "  'sunriseTime': 1467884004,\n",
       "  'sunsetTime': 1467937849,\n",
       "  'temperatureMax': 89.78,\n",
       "  'temperatureMaxTime': 1467914400,\n",
       "  'temperatureMin': 73.73,\n",
       "  'temperatureMinTime': 1467882000,\n",
       "  'time': 1467864000,\n",
       "  'visibility': 10,\n",
       "  'windBearing': 175,\n",
       "  'windSpeed': 5.13},\n",
       " {'apparentTemperatureMax': 94.16,\n",
       "  'apparentTemperatureMaxTime': 1468011600,\n",
       "  'apparentTemperatureMin': 74.11,\n",
       "  'apparentTemperatureMinTime': 1467975600,\n",
       "  'cloudCover': 0.59,\n",
       "  'dewPoint': 72.61,\n",
       "  'humidity': 0.8,\n",
       "  'icon': 'rain',\n",
       "  'moonPhase': 0.15,\n",
       "  'ozone': 300.76,\n",
       "  'precipIntensity': 0.0086,\n",
       "  'precipIntensityMax': 0.0234,\n",
       "  'precipIntensityMaxTime': 1467979200,\n",
       "  'precipProbability': 0.53,\n",
       "  'precipType': 'rain',\n",
       "  'pressure': 1007.17,\n",
       "  'summary': 'Light rain in the morning and afternoon.',\n",
       "  'sunriseTime': 1467970443,\n",
       "  'sunsetTime': 1468024228,\n",
       "  'temperatureMax': 85.79,\n",
       "  'temperatureMaxTime': 1468011600,\n",
       "  'temperatureMin': 74.11,\n",
       "  'temperatureMinTime': 1467975600,\n",
       "  'time': 1467950400,\n",
       "  'visibility': 10,\n",
       "  'windBearing': 167,\n",
       "  'windSpeed': 3.02},\n",
       " {'apparentTemperatureMax': 88.78,\n",
       "  'apparentTemperatureMaxTime': 1468094400,\n",
       "  'apparentTemperatureMin': 73.23,\n",
       "  'apparentTemperatureMinTime': 1468062000,\n",
       "  'cloudCover': 0.36,\n",
       "  'dewPoint': 70.43,\n",
       "  'humidity': 0.76,\n",
       "  'icon': 'rain',\n",
       "  'moonPhase': 0.18,\n",
       "  'ozone': 305.18,\n",
       "  'precipIntensity': 0.0081,\n",
       "  'precipIntensityMax': 0.0279,\n",
       "  'precipIntensityMaxTime': 1468054800,\n",
       "  'precipProbability': 0.55,\n",
       "  'precipType': 'rain',\n",
       "  'pressure': 1005.93,\n",
       "  'summary': 'Light rain in the morning.',\n",
       "  'sunriseTime': 1468056884,\n",
       "  'sunsetTime': 1468110605,\n",
       "  'temperatureMax': 84.85,\n",
       "  'temperatureMaxTime': 1468094400,\n",
       "  'temperatureMin': 73.23,\n",
       "  'temperatureMinTime': 1468062000,\n",
       "  'time': 1468036800,\n",
       "  'windBearing': 242,\n",
       "  'windSpeed': 10.44},\n",
       " {'apparentTemperatureMax': 83.43,\n",
       "  'apparentTemperatureMaxTime': 1468188000,\n",
       "  'apparentTemperatureMin': 70.37,\n",
       "  'apparentTemperatureMinTime': 1468152000,\n",
       "  'cloudCover': 0,\n",
       "  'dewPoint': 62.89,\n",
       "  'humidity': 0.66,\n",
       "  'icon': 'wind',\n",
       "  'moonPhase': 0.21,\n",
       "  'ozone': 332.27,\n",
       "  'precipIntensity': 0.0007,\n",
       "  'precipIntensityMax': 0.0011,\n",
       "  'precipIntensityMaxTime': 1468123200,\n",
       "  'precipProbability': 0.02,\n",
       "  'precipType': 'rain',\n",
       "  'pressure': 1008.81,\n",
       "  'summary': 'Breezy in the morning.',\n",
       "  'sunriseTime': 1468143325,\n",
       "  'sunsetTime': 1468196980,\n",
       "  'temperatureMax': 81.82,\n",
       "  'temperatureMaxTime': 1468188000,\n",
       "  'temperatureMin': 70.37,\n",
       "  'temperatureMinTime': 1468152000,\n",
       "  'time': 1468123200,\n",
       "  'windBearing': 280,\n",
       "  'windSpeed': 14.96},\n",
       " {'apparentTemperatureMax': 84.27,\n",
       "  'apparentTemperatureMaxTime': 1468274400,\n",
       "  'apparentTemperatureMin': 69.09,\n",
       "  'apparentTemperatureMinTime': 1468234800,\n",
       "  'cloudCover': 0,\n",
       "  'dewPoint': 61.32,\n",
       "  'humidity': 0.61,\n",
       "  'icon': 'clear-day',\n",
       "  'moonPhase': 0.24,\n",
       "  'ozone': 329.39,\n",
       "  'precipIntensity': 0,\n",
       "  'precipIntensityMax': 0,\n",
       "  'precipProbability': 0,\n",
       "  'pressure': 1015.03,\n",
       "  'summary': 'Clear throughout the day.',\n",
       "  'sunriseTime': 1468229768,\n",
       "  'sunsetTime': 1468283353,\n",
       "  'temperatureMax': 82.81,\n",
       "  'temperatureMaxTime': 1468274400,\n",
       "  'temperatureMin': 69.09,\n",
       "  'temperatureMinTime': 1468234800,\n",
       "  'time': 1468209600,\n",
       "  'windBearing': 286,\n",
       "  'windSpeed': 9.59},\n",
       " {'apparentTemperatureMax': 84.75,\n",
       "  'apparentTemperatureMaxTime': 1468357200,\n",
       "  'apparentTemperatureMin': 69.14,\n",
       "  'apparentTemperatureMinTime': 1468321200,\n",
       "  'cloudCover': 0.11,\n",
       "  'dewPoint': 60,\n",
       "  'humidity': 0.56,\n",
       "  'icon': 'partly-cloudy-day',\n",
       "  'moonPhase': 0.27,\n",
       "  'ozone': 311.37,\n",
       "  'precipIntensity': 0,\n",
       "  'precipIntensityMax': 0,\n",
       "  'precipProbability': 0,\n",
       "  'pressure': 1016.84,\n",
       "  'summary': 'Partly cloudy starting in the afternoon, continuing until evening.',\n",
       "  'sunriseTime': 1468316211,\n",
       "  'sunsetTime': 1468369724,\n",
       "  'temperatureMax': 83.93,\n",
       "  'temperatureMaxTime': 1468357200,\n",
       "  'temperatureMin': 69.14,\n",
       "  'temperatureMinTime': 1468321200,\n",
       "  'time': 1468296000,\n",
       "  'windBearing': 308,\n",
       "  'windSpeed': 8.11}]"
      ]
     },
     "execution_count": 10,
     "metadata": {},
     "output_type": "execute_result"
    }
   ],
   "source": [
    "data['daily']['data']"
   ]
  },
  {
   "cell_type": "markdown",
   "metadata": {},
   "source": [
    "TEMP_FEELING is whether it will be hot, warm, cold, or moderate. You will probably use HIGH_TEMP and your own thoughts and feelings to determine this."
   ]
  },
  {
   "cell_type": "code",
   "execution_count": 11,
   "metadata": {
    "collapsed": true
   },
   "outputs": [],
   "source": [
    "current_day=data['daily']['data']"
   ]
  },
  {
   "cell_type": "code",
   "execution_count": 40,
   "metadata": {
    "collapsed": true
   },
   "outputs": [],
   "source": [
    "high_temp=str(current_day[0]['temperatureMax'])\n",
    "low_temp=str(current_day[0]['temperatureMin'])"
   ]
  },
  {
   "cell_type": "code",
   "execution_count": 41,
   "metadata": {
    "collapsed": false
   },
   "outputs": [],
   "source": [
    "for temp in current_day:\n",
    "    def temp_feeling(feel):\n",
    "        if temp['temperatureMax'] >= 80:\n",
    "            return \"hot\"\n",
    "        elif temp['temperatureMax'] >=72 and temp['temperatureMax'] <79:\n",
    "            return \"warm\"\n",
    "        elif temp['temperatureMax'] >= 65 and temp['temperatureMax'] < 71:\n",
    "            return \"moderate\"\n",
    "        elif temp['temperatureMax'] <64:\n",
    "            return \"cold\"\n",
    "feel=temp_feeling(data)"
   ]
  },
  {
   "cell_type": "code",
   "execution_count": 42,
   "metadata": {
    "collapsed": true
   },
   "outputs": [],
   "source": [
    "for precip in current_day:\n",
    "    def rain_warning(rain):\n",
    "        if precip['precipIntensity'] >=0.1:\n",
    "            return \"bring your embrella!\"\n",
    "        else:\n",
    "            return\n",
    "rain=rain_warning(data)"
   ]
  },
  {
   "cell_type": "markdown",
   "metadata": {},
   "source": [
    "Right now it is TEMPERATURE degrees out and SUMMARY. Today will be TEMP_FEELING with a high of HIGH_TEMP and a low of LOW_TEMP. RAIN_WARNING."
   ]
  },
  {
   "cell_type": "code",
   "execution_count": 43,
   "metadata": {
    "collapsed": false
   },
   "outputs": [
    {
     "name": "stdout",
     "output_type": "stream",
     "text": [
      "Right now it is 84.84degrees out andPartly Cloudy. Today will behotwith a high of 86.23and a low of 69.53None\n"
     ]
    }
   ],
   "source": [
    "print(\"Right now it is \"+temperature +\"degrees out and\"+ summary+\". \"+ \"Today will be\"+ str(feel)+\"with a high of \"+high_temp+\"and a low of \"+low_temp+str(rain))"
   ]
  },
  {
   "cell_type": "markdown",
   "metadata": {},
   "source": [
    "Forecasts Part Two: Sending data\n",
    "\n",
    "Using a mailgun.com account and their API, send yourself an email every morning at 8AM telling you the above sentence. The subject line of the email should be something like \"8AM Weather forecast: January 1, 1970\""
   ]
  },
  {
   "cell_type": "code",
   "execution_count": 52,
   "metadata": {
    "collapsed": false
   },
   "outputs": [
    {
     "name": "stdout",
     "output_type": "stream",
     "text": [
      "Collecting python-dateutil\n",
      "  Using cached python_dateutil-2.5.3-py2.py3-none-any.whl\n",
      "Requirement already satisfied (use --upgrade to upgrade): six>=1.5 in /usr/local/lib/python3.5/site-packages (from python-dateutil)\n",
      "Installing collected packages: python-dateutil\n",
      "Successfully installed python-dateutil-2.5.3\n"
     ]
    }
   ],
   "source": [
    "!pip install python-dateutil"
   ]
  },
  {
   "cell_type": "code",
   "execution_count": 53,
   "metadata": {
    "collapsed": false
   },
   "outputs": [],
   "source": [
    "import dateutil\n",
    "import time,datetime\n",
    "now = time.strftime(\"%B %d, %Y\")"
   ]
  },
  {
   "cell_type": "code",
   "execution_count": 54,
   "metadata": {
    "collapsed": false
   },
   "outputs": [
    {
     "ename": "SyntaxError",
     "evalue": "invalid syntax (<ipython-input-54-6eaa99b1fc6f>, line 11)",
     "output_type": "error",
     "traceback": [
      "\u001b[0;36m  File \u001b[0;32m\"<ipython-input-54-6eaa99b1fc6f>\"\u001b[0;36m, line \u001b[0;32m11\u001b[0m\n\u001b[0;31m    print 'Status: {0}'.format(request.status_code)\u001b[0m\n\u001b[0m                      ^\u001b[0m\n\u001b[0;31mSyntaxError\u001b[0m\u001b[0;31m:\u001b[0m invalid syntax\n"
     ]
    }
   ],
   "source": [
    "key='b26c4451559d29c03a88eda7578ac5b2'\n",
    "sandbox='sandbox4f79497ef29d40889a4b2c09ba554074.mailgun.org'\n",
    "recipient='shengyingzhao916@gmail.com'\n",
    "request_url='https://api.mailgun.net/v2/{0}/messages'.format(sandbox)\n",
    "request=requests.post(request_url, auth=('api', key), data={\n",
    "    'from': 'hello@example.com',\n",
    "    'to': recipient,\n",
    "    'subject': '8AM Weather forecast: January 1, 1970',\n",
    "    'text': 'text'\n",
    "})\n",
    "print 'Status: {0}'.format(request.status_code)\n",
    "print 'Body:   {0}'.format(request.text)\n"
   ]
  },
  {
   "cell_type": "code",
   "execution_count": null,
   "metadata": {
    "collapsed": true
   },
   "outputs": [],
   "source": []
  }
 ],
 "metadata": {
  "kernelspec": {
   "display_name": "Python 3",
   "language": "python",
   "name": "python3"
  },
  "language_info": {
   "codemirror_mode": {
    "name": "ipython",
    "version": 3
   },
   "file_extension": ".py",
   "mimetype": "text/x-python",
   "name": "python",
   "nbconvert_exporter": "python",
   "pygments_lexer": "ipython3",
   "version": "3.5.1"
  }
 },
 "nbformat": 4,
 "nbformat_minor": 0
}
