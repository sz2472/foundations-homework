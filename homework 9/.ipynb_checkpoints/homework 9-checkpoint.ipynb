{
 "cells": [
  {
   "cell_type": "code",
   "execution_count": 2,
   "metadata": {
    "collapsed": true
   },
   "outputs": [],
   "source": [
    "import pandas as pd"
   ]
  },
  {
   "cell_type": "code",
   "execution_count": 3,
   "metadata": {
    "collapsed": false
   },
   "outputs": [
    {
     "name": "stdout",
     "output_type": "stream",
     "text": [
      "Requirement already satisfied (use --upgrade to upgrade): dateutils in /Users/sz2472/.virtualenvs/pandas/lib/python3.5/site-packages\n",
      "Requirement already satisfied (use --upgrade to upgrade): python-dateutil in /Users/sz2472/.virtualenvs/pandas/lib/python3.5/site-packages (from dateutils)\n",
      "Requirement already satisfied (use --upgrade to upgrade): argparse in /Users/sz2472/.virtualenvs/pandas/lib/python3.5/site-packages (from dateutils)\n",
      "Requirement already satisfied (use --upgrade to upgrade): pytz in /Users/sz2472/.virtualenvs/pandas/lib/python3.5/site-packages (from dateutils)\n",
      "Requirement already satisfied (use --upgrade to upgrade): six>=1.5 in /Users/sz2472/.virtualenvs/pandas/lib/python3.5/site-packages (from python-dateutil->dateutils)\n"
     ]
    }
   ],
   "source": [
    "!pip install dateutils"
   ]
  },
  {
   "cell_type": "code",
   "execution_count": 4,
   "metadata": {
    "collapsed": true
   },
   "outputs": [],
   "source": [
    "earthquakes_df = pd.read_csv(\"1.0_month.csv\")"
   ]
  },
  {
   "cell_type": "code",
   "execution_count": 5,
   "metadata": {
    "collapsed": true
   },
   "outputs": [],
   "source": [
    "earthquakes = earthquakes_df.to_dict('records')"
   ]
  },
  {
   "cell_type": "code",
   "execution_count": 6,
   "metadata": {
    "collapsed": false
   },
   "outputs": [
    {
     "data": {
      "text/plain": [
       "{'depth': 1.53,\n",
       " 'depthError': 0.47,\n",
       " 'dmin': 0.02576,\n",
       " 'gap': 61.0,\n",
       " 'horizontalError': 0.23,\n",
       " 'id': 'nc72653981',\n",
       " 'latitude': 38.8100014,\n",
       " 'locationSource': 'nc',\n",
       " 'longitude': -122.74033359999999,\n",
       " 'mag': 1.7,\n",
       " 'magError': 0.22,\n",
       " 'magNst': 8.0,\n",
       " 'magSource': 'nc',\n",
       " 'magType': 'md',\n",
       " 'net': 'nc',\n",
       " 'nst': 17.0,\n",
       " 'place': '2km SW of Cobb, California',\n",
       " 'rms': 0.04,\n",
       " 'status': 'automatic',\n",
       " 'time': '2016-06-21T20:23:49.160Z',\n",
       " 'type': 'earthquake',\n",
       " 'updated': '2016-06-21T20:42:01.146Z'}"
      ]
     },
     "execution_count": 6,
     "metadata": {},
     "output_type": "execute_result"
    }
   ],
   "source": [
    "earthquakes[1]"
   ]
  },
  {
   "cell_type": "markdown",
   "metadata": {},
   "source": [
    "### PART ONE: Write your few tiny functions\n",
    "*depth_to_words will describe the earthquake's depth\n",
    "*magnitude_to_words will describe the earthquake's power\n",
    "*day_in_words should be the day of the week\n",
    "*time_in_words should be \"morning\", \"afternoon\", \"evening\" or \"night\"\n",
    "*date_in_words should be \"Monthname day\", e.g. \"June 22\"\n",
    "*Any other functions as necessary"
   ]
  },
  {
   "cell_type": "code",
   "execution_count": 7,
   "metadata": {
    "collapsed": true
   },
   "outputs": [],
   "source": [
    "earthquake = {\n",
    "      'rms': '1.85',\n",
    "      'updated': '2014-06-11T05:22:21.596Z',\n",
    "      'type': 'earthquake',\n",
    "      'magType': 'mwp',\n",
    "      'longitude': '-136.6561',\n",
    "      'gap': '48',\n",
    "      'depth': '10',\n",
    "      'dmin': '0.811',\n",
    "      'mag': '5.7',\n",
    "      'time': '2014-06-04T11:58:58.200Z',\n",
    "      'latitude': '59.0001',\n",
    "      'place': '73km WSW of Haines, Alaska',\n",
    "      'net': 'us',\n",
    "      'nst': '',\n",
    "      'id': 'usc000rauc'}"
   ]
  },
  {
   "cell_type": "code",
   "execution_count": 38,
   "metadata": {
    "collapsed": false
   },
   "outputs": [
    {
     "name": "stdout",
     "output_type": "stream",
     "text": [
      "shallow\n",
      "intermediate\n",
      "deep\n",
      "deep\n",
      "shallow\n"
     ]
    }
   ],
   "source": [
    "def depth_to_words(str_depth):\n",
    "    #'depth': '10'\n",
    "    depth=int(str_depth)\n",
    "    if depth < 70:#not depth > 0\n",
    "        return \"shallow\"\n",
    "    elif depth < 300:\n",
    "        return \"intermediate\"\n",
    "    else:#not depth >300\n",
    "        return \"deep\"\n",
    "print(depth_to_words(40))\n",
    "print(depth_to_words(255))\n",
    "print(depth_to_words(600))\n",
    "print(depth_to_words(1000))\n",
    "print(depth_to_words(-1))"
   ]
  },
  {
   "cell_type": "code",
   "execution_count": null,
   "metadata": {
    "collapsed": true
   },
   "outputs": [],
   "source": [
    "#rewrite the function to accept a dictionary instead of a number"
   ]
  },
  {
   "cell_type": "code",
   "execution_count": 39,
   "metadata": {
    "collapsed": false
   },
   "outputs": [
    {
     "data": {
      "text/plain": [
       "'shallow'"
      ]
     },
     "execution_count": 39,
     "metadata": {},
     "output_type": "execute_result"
    }
   ],
   "source": [
    "def depth_to_words(earthquake):\n",
    "    depth = int(earthquake['depth'])\n",
    "    if depth < 70:\n",
    "        return \"shallow\"\n",
    "    elif depth < 300:\n",
    "        return \"intermediate\"\n",
    "    else:\n",
    "        return \"shallow\"\n",
    "\n",
    "# You would call it like this\n",
    "depth_to_words(earthquake)"
   ]
  },
  {
   "cell_type": "code",
   "execution_count": 35,
   "metadata": {
    "collapsed": false
   },
   "outputs": [
    {
     "name": "stdout",
     "output_type": "stream",
     "text": [
      "high\n"
     ]
    }
   ],
   "source": [
    "def magnitude_to_words(earthquake):\n",
    "    mag=float(earthquake['mag'])# not round number, use float()\n",
    "    if mag <3:# when do scale, only use one side, no need for >=\n",
    "        return \"minor\"\n",
    "    elif mag <5:\n",
    "        return \"intermediate\"\n",
    "    elif mag <7:\n",
    "        return \"high\"\n",
    "    elif mag <9:\n",
    "        return \"outstanding\"\n",
    "    else:\n",
    "        return \"super\"\n",
    "#print(magnitude_to_words(4))\n",
    "#print(magnitude_to_words(1))\n",
    "#print(magnitude_to_words(0.5))\n",
    "#print(magnitude_to_words(9.5))\n",
    "#print(magnitude_to_words(\"11\"))\n",
    "print(magnitude_to_words(earthquake))"
   ]
  },
  {
   "cell_type": "code",
   "execution_count": 10,
   "metadata": {
    "collapsed": false
   },
   "outputs": [
    {
     "name": "stdout",
     "output_type": "stream",
     "text": [
      "Wednesday\n"
     ]
    }
   ],
   "source": [
    "#timestring = '2014-06-04T11:58:58.200Z'\n",
    "#yourdate = dateutil.parser.parse(timestring)\n",
    "import dateutil.parser\n",
    "#when dealing with time in python, use strftime\n",
    "def day_in_words(earthquake):\n",
    "    datestring=earthquake['time']\n",
    "    eq_date=dateutil.parser.parse(datestring)\n",
    "    return eq_date.strftime('%A')\n",
    "print(day_in_words(earthquake))"
   ]
  },
  {
   "cell_type": "code",
   "execution_count": 11,
   "metadata": {
    "collapsed": false
   },
   "outputs": [
    {
     "name": "stdout",
     "output_type": "stream",
     "text": [
      "morning\n"
     ]
    }
   ],
   "source": [
    "#morning:before noon\n",
    "#afternoon: before 6\n",
    "#evening:before 9\n",
    "#.hour is going to give us the hour of the day from the object\n",
    "def time_in_words(earthquake):\n",
    "    datestring=earthquake['time']\n",
    "    eq_date=dateutil.parser.parse(datestring) #object\n",
    "    if eq_date.hour <3:\n",
    "        return \"early morning\"\n",
    "    elif eq_date.hour < 12:\n",
    "        return \"morning\"\n",
    "    elif eq_date.hour < 18:\n",
    "        return \"afternoon\"\n",
    "    else:\n",
    "        return \"night\"\n",
    "print(time_in_words(earthquake))"
   ]
  },
  {
   "cell_type": "code",
   "execution_count": 12,
   "metadata": {
    "collapsed": false
   },
   "outputs": [
    {
     "name": "stdout",
     "output_type": "stream",
     "text": [
      "June 4\n"
     ]
    }
   ],
   "source": [
    "def date_in_words(earthquake):\n",
    "    datestring=earthquake['time']\n",
    "    eq_date=dateutil.parser.parse(datestring)\n",
    "    return (eq_date.strftime('%B %-d').replace(\" 0\", \" \"))\n",
    "print(date_in_words(earthquake)) "
   ]
  },
  {
   "cell_type": "markdown",
   "metadata": {},
   "source": [
    "PART TWO: Write the eq_to_sentence function\n",
    "\n",
    "Write a function called eq_to_sentence that, when called, returns the whole sentence mentioned above, \"A DEPTH DESCRIPTION, MAGNITUDE earthquake was reported DAY TIME_OF_DAY on DATE LOCATION.\"\n",
    "\n",
    "Print out the result for the sample earthquake."
   ]
  },
  {
   "cell_type": "code",
   "execution_count": 40,
   "metadata": {
    "collapsed": false
   },
   "outputs": [
    {
     "data": {
      "text/plain": [
       "'A shallow high 5.7 earthquake was reported Wednesday morning on June 4, 73km WSW of Haines, Alaska'"
      ]
     },
     "execution_count": 40,
     "metadata": {},
     "output_type": "execute_result"
    }
   ],
   "source": [
    "#depth_to_words will describe the earthquake's depth\n",
    "#magnitude_to_words will describe the earthquake's power\n",
    "#day_in_words should be the day of the week\n",
    "#time_in_words should be \"morning\", \"afternoon\", \"evening\" or \"night\"\n",
    "#date_in_words should be \"Monthname day\", e.g. \"June 22\"\n",
    "#Any other functions as necessary\n",
    "\n",
    "depth=depth_to_words(earthquake)\n",
    "power=magnitude_to_words(earthquake)\n",
    "day=day_in_words(earthquake)\n",
    "time_of_the_day=time_in_words(earthquake)\n",
    "date=date_in_words(earthquake)\n",
    "\"A {} {} {} earthquake was reported {} {} on {}, {}\".format(depth, power,earthquake['mag'], day, time_of_the_day, date,earthquake['place'])"
   ]
  },
  {
   "cell_type": "code",
   "execution_count": 17,
   "metadata": {
    "collapsed": false
   },
   "outputs": [
    {
     "data": {
      "text/plain": [
       "str"
      ]
     },
     "execution_count": 17,
     "metadata": {},
     "output_type": "execute_result"
    }
   ],
   "source": [
    "type(earthquake['mag'])"
   ]
  },
  {
   "cell_type": "code",
   "execution_count": null,
   "metadata": {
    "collapsed": true
   },
   "outputs": [],
   "source": [
    "#when you have a dictionary, and you do format, use(** format)"
   ]
  },
  {
   "cell_type": "code",
   "execution_count": 64,
   "metadata": {
    "collapsed": false
   },
   "outputs": [
    {
     "data": {
      "text/plain": [
       "'My name is Smushface and I am a cat'"
      ]
     },
     "execution_count": 64,
     "metadata": {},
     "output_type": "execute_result"
    }
   ],
   "source": [
    "name = \"Smushface\"\n",
    "animal = \"cat\"\n",
    "\"My name is {} and I am a {}\".format(name, animal)"
   ]
  },
  {
   "cell_type": "code",
   "execution_count": 15,
   "metadata": {
    "collapsed": false
   },
   "outputs": [
    {
     "data": {
      "text/plain": [
       "'I am a cat and my name is Smushface'"
      ]
     },
     "execution_count": 15,
     "metadata": {},
     "output_type": "execute_result"
    }
   ],
   "source": [
    "animal_dictionary = {\n",
    "    'name': 'Smushface',\n",
    "    'animal': 'cat'\n",
    "}\n",
    "\"I am a {animal} and my name is {name}\".format(**animal_dictionary)"
   ]
  },
  {
   "cell_type": "code",
   "execution_count": 47,
   "metadata": {
    "collapsed": false
   },
   "outputs": [
    {
     "data": {
      "text/plain": [
       "'A shallow intermediate 3.37 earthquake was reported Tuesday night on 3km W of Cobb, California, 3.37'"
      ]
     },
     "execution_count": 47,
     "metadata": {},
     "output_type": "execute_result"
    }
   ],
   "source": [
    "def eq_to_sentence(earthquake):\n",
    "    eq_to_sentence = {\n",
    "         'depth':depth_to_words(earthquake),\n",
    "         'power':magnitude_to_words(earthquake),\n",
    "         'day':day_in_words(earthquake),\n",
    "         'time_of_the_day':time_in_words(earthquake),\n",
    "         'date':date_in_words(earthquake),\n",
    "         'location':earthquake['place'],\n",
    "         'magnitude': earthquake['mag']\n",
    "        }\n",
    "    return \"A {depth} {power} {magnitude} earthquake was reported {day} {time_of_the_day} on {location}, {magnitude}\".format(**eq_to_sentence)\n",
    "\n",
    "eq_to_sentence(earthquake)"
   ]
  },
  {
   "cell_type": "code",
   "execution_count": 72,
   "metadata": {
    "collapsed": false
   },
   "outputs": [
    {
     "data": {
      "text/html": [
       "<div>\n",
       "<table border=\"1\" class=\"dataframe\">\n",
       "  <thead>\n",
       "    <tr style=\"text-align: right;\">\n",
       "      <th></th>\n",
       "      <th>time</th>\n",
       "      <th>latitude</th>\n",
       "      <th>longitude</th>\n",
       "      <th>depth</th>\n",
       "      <th>mag</th>\n",
       "      <th>magType</th>\n",
       "      <th>nst</th>\n",
       "      <th>gap</th>\n",
       "      <th>dmin</th>\n",
       "      <th>rms</th>\n",
       "      <th>...</th>\n",
       "      <th>updated</th>\n",
       "      <th>place</th>\n",
       "      <th>type</th>\n",
       "      <th>horizontalError</th>\n",
       "      <th>depthError</th>\n",
       "      <th>magError</th>\n",
       "      <th>magNst</th>\n",
       "      <th>status</th>\n",
       "      <th>locationSource</th>\n",
       "      <th>magSource</th>\n",
       "    </tr>\n",
       "  </thead>\n",
       "  <tbody>\n",
       "    <tr>\n",
       "      <th>0</th>\n",
       "      <td>2016-06-29T12:32:33.610Z</td>\n",
       "      <td>33.921000</td>\n",
       "      <td>-116.018667</td>\n",
       "      <td>2.34</td>\n",
       "      <td>1.06</td>\n",
       "      <td>ml</td>\n",
       "      <td>18.0</td>\n",
       "      <td>115.0</td>\n",
       "      <td>0.081200</td>\n",
       "      <td>0.22</td>\n",
       "      <td>...</td>\n",
       "      <td>2016-06-29T12:36:12.811Z</td>\n",
       "      <td>25km SSE of Twentynine Palms, CA</td>\n",
       "      <td>earthquake</td>\n",
       "      <td>0.38</td>\n",
       "      <td>0.47</td>\n",
       "      <td>0.153</td>\n",
       "      <td>22.0</td>\n",
       "      <td>automatic</td>\n",
       "      <td>ci</td>\n",
       "      <td>ci</td>\n",
       "    </tr>\n",
       "    <tr>\n",
       "      <th>1</th>\n",
       "      <td>2016-06-29T12:32:03.030Z</td>\n",
       "      <td>37.630001</td>\n",
       "      <td>-118.888664</td>\n",
       "      <td>1.71</td>\n",
       "      <td>1.53</td>\n",
       "      <td>md</td>\n",
       "      <td>11.0</td>\n",
       "      <td>142.0</td>\n",
       "      <td>0.015760</td>\n",
       "      <td>0.04</td>\n",
       "      <td>...</td>\n",
       "      <td>2016-06-29T12:48:02.866Z</td>\n",
       "      <td>7km ESE of Mammoth Lakes, California</td>\n",
       "      <td>earthquake</td>\n",
       "      <td>1.01</td>\n",
       "      <td>0.88</td>\n",
       "      <td>0.320</td>\n",
       "      <td>8.0</td>\n",
       "      <td>automatic</td>\n",
       "      <td>nc</td>\n",
       "      <td>nc</td>\n",
       "    </tr>\n",
       "    <tr>\n",
       "      <th>2</th>\n",
       "      <td>2016-06-29T12:25:44.000Z</td>\n",
       "      <td>54.729200</td>\n",
       "      <td>-161.776100</td>\n",
       "      <td>46.00</td>\n",
       "      <td>4.80</td>\n",
       "      <td>ml</td>\n",
       "      <td>NaN</td>\n",
       "      <td>NaN</td>\n",
       "      <td>NaN</td>\n",
       "      <td>0.90</td>\n",
       "      <td>...</td>\n",
       "      <td>2016-06-29T13:01:51.486Z</td>\n",
       "      <td>79km SE of Cold Bay, Alaska</td>\n",
       "      <td>earthquake</td>\n",
       "      <td>0.70</td>\n",
       "      <td>0.40</td>\n",
       "      <td>NaN</td>\n",
       "      <td>NaN</td>\n",
       "      <td>reviewed</td>\n",
       "      <td>ak</td>\n",
       "      <td>ak</td>\n",
       "    </tr>\n",
       "    <tr>\n",
       "      <th>3</th>\n",
       "      <td>2016-06-29T12:12:15.500Z</td>\n",
       "      <td>35.595333</td>\n",
       "      <td>-120.747833</td>\n",
       "      <td>5.70</td>\n",
       "      <td>1.53</td>\n",
       "      <td>md</td>\n",
       "      <td>6.0</td>\n",
       "      <td>211.0</td>\n",
       "      <td>0.107400</td>\n",
       "      <td>0.03</td>\n",
       "      <td>...</td>\n",
       "      <td>2016-06-29T12:58:02.888Z</td>\n",
       "      <td>6km SW of Paso Robles, California</td>\n",
       "      <td>earthquake</td>\n",
       "      <td>2.28</td>\n",
       "      <td>6.81</td>\n",
       "      <td>0.500</td>\n",
       "      <td>2.0</td>\n",
       "      <td>automatic</td>\n",
       "      <td>nc</td>\n",
       "      <td>nc</td>\n",
       "    </tr>\n",
       "    <tr>\n",
       "      <th>4</th>\n",
       "      <td>2016-06-29T12:05:16.670Z</td>\n",
       "      <td>19.408001</td>\n",
       "      <td>-155.279159</td>\n",
       "      <td>1.64</td>\n",
       "      <td>2.11</td>\n",
       "      <td>ml</td>\n",
       "      <td>18.0</td>\n",
       "      <td>52.0</td>\n",
       "      <td>0.004342</td>\n",
       "      <td>0.14</td>\n",
       "      <td>...</td>\n",
       "      <td>2016-06-29T12:10:53.540Z</td>\n",
       "      <td>5km WSW of Volcano, Hawaii</td>\n",
       "      <td>earthquake</td>\n",
       "      <td>0.16</td>\n",
       "      <td>0.27</td>\n",
       "      <td>0.350</td>\n",
       "      <td>3.0</td>\n",
       "      <td>automatic</td>\n",
       "      <td>hv</td>\n",
       "      <td>hv</td>\n",
       "    </tr>\n",
       "  </tbody>\n",
       "</table>\n",
       "<p>5 rows × 22 columns</p>\n",
       "</div>"
      ],
      "text/plain": [
       "                       time   latitude   longitude  depth   mag magType   nst  \\\n",
       "0  2016-06-29T12:32:33.610Z  33.921000 -116.018667   2.34  1.06      ml  18.0   \n",
       "1  2016-06-29T12:32:03.030Z  37.630001 -118.888664   1.71  1.53      md  11.0   \n",
       "2  2016-06-29T12:25:44.000Z  54.729200 -161.776100  46.00  4.80      ml   NaN   \n",
       "3  2016-06-29T12:12:15.500Z  35.595333 -120.747833   5.70  1.53      md   6.0   \n",
       "4  2016-06-29T12:05:16.670Z  19.408001 -155.279159   1.64  2.11      ml  18.0   \n",
       "\n",
       "     gap      dmin   rms    ...                      updated  \\\n",
       "0  115.0  0.081200  0.22    ...     2016-06-29T12:36:12.811Z   \n",
       "1  142.0  0.015760  0.04    ...     2016-06-29T12:48:02.866Z   \n",
       "2    NaN       NaN  0.90    ...     2016-06-29T13:01:51.486Z   \n",
       "3  211.0  0.107400  0.03    ...     2016-06-29T12:58:02.888Z   \n",
       "4   52.0  0.004342  0.14    ...     2016-06-29T12:10:53.540Z   \n",
       "\n",
       "                                  place        type horizontalError  \\\n",
       "0      25km SSE of Twentynine Palms, CA  earthquake            0.38   \n",
       "1  7km ESE of Mammoth Lakes, California  earthquake            1.01   \n",
       "2           79km SE of Cold Bay, Alaska  earthquake            0.70   \n",
       "3     6km SW of Paso Robles, California  earthquake            2.28   \n",
       "4            5km WSW of Volcano, Hawaii  earthquake            0.16   \n",
       "\n",
       "  depthError  magError  magNst     status  locationSource magSource  \n",
       "0       0.47     0.153    22.0  automatic              ci        ci  \n",
       "1       0.88     0.320     8.0  automatic              nc        nc  \n",
       "2       0.40       NaN     NaN   reviewed              ak        ak  \n",
       "3       6.81     0.500     2.0  automatic              nc        nc  \n",
       "4       0.27     0.350     3.0  automatic              hv        hv  \n",
       "\n",
       "[5 rows x 22 columns]"
      ]
     },
     "execution_count": 72,
     "metadata": {},
     "output_type": "execute_result"
    }
   ],
   "source": [
    "earthquakes_df = pd.read_csv(\"http://earthquake.usgs.gov/earthquakes/feed/v1.0/summary/1.0_month.csv\")\n",
    "earthquakes_df.head()"
   ]
  },
  {
   "cell_type": "code",
   "execution_count": null,
   "metadata": {
    "collapsed": true
   },
   "outputs": [],
   "source": [
    "earthquakes = earthquakes_df.to_dict('records')"
   ]
  },
  {
   "cell_type": "markdown",
   "metadata": {},
   "source": [
    "PART THREE: Doing it in bulk\n",
    "Read in the csv of the past 30 days of 1.0+ earthquke activity from http://earthquake.usgs.gov/earthquakes/feed/v1.0/summary/1.0_month.csv (tip: read_csv works with URLs!)\n",
    "Because we haven't covered looping through pandas, use the following code to convert a pandas DataFrame into a list of dictionaries that you can loop through.\n",
    "earthquakes_df = pd.read_csv(\"1.0_month.csv\") earthquakes = earthquakes_df.to_dict('records')\n",
    "(If you really want to do it with pandas, it's for index, row in earthquakes_df.iterrows():)\n",
    "Loop through each earthquake, printing sentence descriptions for the ones that are above or equal to 4.0 on the Richter scale."
   ]
  },
  {
   "cell_type": "code",
   "execution_count": 48,
   "metadata": {
    "collapsed": false
   },
   "outputs": [
    {
     "name": "stdout",
     "output_type": "stream",
     "text": [
      "A shallow intermediate 3.37 earthquake was reported Tuesday night on 3km W of Cobb, California, 3.37\n",
      "A shallow minor 1.7 earthquake was reported Tuesday night on 2km SW of Cobb, California, 1.7\n",
      "A shallow minor 1.67 earthquake was reported Tuesday night on 5km ESE of The Geysers, California, 1.67\n",
      "A shallow minor 1.6 earthquake was reported Tuesday night on 92km N of Redoubt Volcano, Alaska, 1.6\n",
      "A shallow minor 2.0 earthquake was reported Tuesday night on 91km N of Redoubt Volcano, Alaska, 2.0\n",
      "A shallow intermediate 4.7 earthquake was reported Tuesday night on South of the Fiji Islands, 4.7\n",
      "A shallow intermediate 4.6 earthquake was reported Tuesday night on 236km WNW of Tual, Indonesia, 4.6\n",
      "A shallow minor 1.12 earthquake was reported Tuesday night on 10km NE of Indio, CA, 1.12\n",
      "A shallow minor 1.6 earthquake was reported Tuesday night on 13km SSW of La Parguera, Puerto Rico, 1.6\n",
      "A shallow high 5.2 earthquake was reported Tuesday night on Southern Mid-Atlantic Ridge, 5.2\n",
      "A shallow minor 1.88 earthquake was reported Tuesday night on 19km ESE of Anza, CA, 1.88\n",
      "A shallow minor 1.6 earthquake was reported Tuesday night on 18km W of Y, Alaska, 1.6\n",
      "A shallow minor 2.0 earthquake was reported Tuesday night on 25km S of Goldfield, Nevada, 2.0\n",
      "A shallow minor 1.43 earthquake was reported Tuesday night on 3km SW of Alhambra, CA, 1.43\n",
      "A shallow minor 1.6 earthquake was reported Tuesday afternoon on 39km SW of Talkeetna, Alaska, 1.6\n",
      "A intermediate minor 2.9 earthquake was reported Tuesday afternoon on 58km ENE of Chignik Lake, Alaska, 2.9\n",
      "A shallow high 6.3 earthquake was reported Tuesday afternoon on 68km WNW of Namatanai, Papua New Guinea, 6.3\n",
      "A shallow intermediate 3.0 earthquake was reported Tuesday afternoon on 18km WSW of Helena, Oklahoma, 3.0\n",
      "A shallow minor 1.36 earthquake was reported Tuesday afternoon on 4km SSE of Banning, CA, 1.36\n",
      "A shallow minor 1.6 earthquake was reported Tuesday afternoon on 60km NE of Talkeetna, Alaska, 1.6\n",
      "A shallow minor 1.8 earthquake was reported Tuesday afternoon on 50km N of Alamo, Nevada, 1.8\n",
      "A shallow minor 1.02 earthquake was reported Tuesday afternoon on 1km NNE of Loma Linda, CA, 1.02\n",
      "A intermediate minor 1.9 earthquake was reported Tuesday afternoon on 95km W of Willow, Alaska, 1.9\n",
      "A shallow minor 1.93 earthquake was reported Tuesday afternoon on 48km SE of Pahala, Hawaii, 1.93\n",
      "A shallow high 6.1 earthquake was reported Tuesday afternoon on Northern Mid-Atlantic Ridge, 6.1\n",
      "A shallow intermediate 4.9 earthquake was reported Tuesday afternoon on Northern Mid-Atlantic Ridge, 4.9\n",
      "A shallow intermediate 4.4 earthquake was reported Tuesday afternoon on 184km WSW of Sibolga, Indonesia, 4.4\n",
      "A shallow intermediate 4.3 earthquake was reported Tuesday afternoon on 38km N of Turkmenbasy, Turkmenistan, 4.3\n",
      "A intermediate minor 2.1 earthquake was reported Tuesday afternoon on 12km WSW of Road Town, British Virgin Islands, 2.1\n",
      "A shallow minor 1.4 earthquake was reported Tuesday afternoon on 8km SSW of Circle Hot Springs Station, Alaska, 1.4\n",
      "A intermediate minor 1.7 earthquake was reported Tuesday afternoon on 70km NNE of Redoubt Volcano, Alaska, 1.7\n",
      "A shallow minor 1.2 earthquake was reported Tuesday afternoon on 62km W of Redoubt Volcano, Alaska, 1.2\n",
      "A shallow minor 1.9 earthquake was reported Tuesday afternoon on 109km NNW of Larsen Bay, Alaska, 1.9\n",
      "A shallow intermediate 4.8 earthquake was reported Tuesday afternoon on 177km WSW of Sibolga, Indonesia, 4.8\n",
      "A intermediate minor 2.9 earthquake was reported Tuesday afternoon on 55km WSW of Stella, Puerto Rico, 2.9\n",
      "A shallow minor 1.6 earthquake was reported Tuesday afternoon on 93km N of Redoubt Volcano, Alaska, 1.6\n",
      "A shallow high 5.3 earthquake was reported Tuesday afternoon on 67km SSE of Muara Siberut, Indonesia, 5.3\n",
      "A intermediate minor 2.4 earthquake was reported Tuesday afternoon on 30km SE of Redoubt Volcano, Alaska, 2.4\n",
      "A shallow minor 1.2 earthquake was reported Tuesday afternoon on 23km W of McGrath, Alaska, 1.2\n",
      "A shallow minor 1.01 earthquake was reported Tuesday afternoon on 8km ESE of Willows, California, 1.01\n",
      "A intermediate minor 1.7 earthquake was reported Tuesday afternoon on 32km ESE of Redoubt Volcano, Alaska, 1.7\n",
      "A shallow minor 2.7 earthquake was reported Tuesday afternoon on 5km SW of Cherokee, Oklahoma, 2.7\n",
      "A shallow minor 1.2 earthquake was reported Tuesday afternoon on 131km WNW of Talkeetna, Alaska, 1.2\n",
      "A shallow minor 1.5 earthquake was reported Tuesday afternoon on 12km NE of Fritz Creek, Alaska, 1.5\n",
      "A shallow minor 1.6 earthquake was reported Tuesday afternoon on 25km N of Valdez, Alaska, 1.6\n",
      "A shallow minor 1.35 earthquake was reported Tuesday afternoon on 9km W of Cobb, California, 1.35\n",
      "A shallow minor 1.2 earthquake was reported Tuesday morning on 2km SSE of Anaheim, CA, 1.2\n",
      "A shallow high 5.3 earthquake was reported Tuesday morning on South of the Fiji Islands, 5.3\n",
      "A shallow minor 1.28 earthquake was reported Tuesday morning on 4km WNW of The Geysers, California, 1.28\n",
      "A shallow minor 1.2 earthquake was reported Tuesday morning on 81km E of Cantwell, Alaska, 1.2\n",
      "A shallow minor 1.13 earthquake was reported Tuesday morning on 16km NNW of Borrego Springs, CA, 1.13\n",
      "A shallow minor 2.6 earthquake was reported Tuesday morning on 12km ENE of Hawthorne, Nevada, 2.6\n",
      "A shallow minor 1.9 earthquake was reported Tuesday morning on 37km NE of Whittier, Alaska, 1.9\n",
      "A shallow intermediate 4.3 earthquake was reported Tuesday morning on 27km W of Pacocha, Peru, 4.3\n",
      "A shallow minor 1.3 earthquake was reported Tuesday morning on 72km NW of Valdez, Alaska, 1.3\n",
      "A shallow minor 1.2 earthquake was reported Tuesday morning on 13km NNW of Meadow Lakes, Alaska, 1.2\n",
      "A shallow minor 1.9 earthquake was reported Tuesday morning on 19km NNW of Valdez, Alaska, 1.9\n",
      "A shallow intermediate 4.7 earthquake was reported Tuesday morning on 13km S of Ndoi Island, Fiji, 4.7\n",
      "A shallow minor 1.2 earthquake was reported Tuesday morning on 109km W of Cantwell, Alaska, 1.2\n",
      "A shallow high 5.0 earthquake was reported Tuesday morning on 111km E of Kimbe, Papua New Guinea, 5.0\n",
      "A shallow minor 1.5 earthquake was reported Tuesday morning on 10km NE of Nuevo, CA, 1.5\n",
      "A shallow minor 1.9 earthquake was reported Tuesday morning on 57km NNE of Talkeetna, Alaska, 1.9\n",
      "A shallow minor 2.01 earthquake was reported Tuesday morning on 13km WNW of Helena West Side, Montana, 2.01\n",
      "A shallow minor 1.34 earthquake was reported Tuesday morning on 3km W of Cobb, California, 1.34\n",
      "A shallow minor 1.0 earthquake was reported Tuesday morning on 54km NNE of Dixon Lane-Meadow Creek, California, 1.0\n",
      "A shallow minor 1.41 earthquake was reported Tuesday morning on 3km ESE of Mammoth Lakes, California, 1.41\n",
      "A shallow high 5.2 earthquake was reported Tuesday morning on 188km WSW of L'Esperance Rock, New Zealand, 5.2\n",
      "A shallow minor 1.62 earthquake was reported Tuesday morning on 7km SW of Volcano, Hawaii, 1.62\n",
      "A shallow minor 2.1 earthquake was reported Tuesday morning on 47km N of Charlotte Amalie, U.S. Virgin Islands, 2.1\n",
      "A shallow minor 1.8 earthquake was reported Tuesday morning on 36km NNW of Sutton-Alpine, Alaska, 1.8\n",
      "A shallow minor 1.1 earthquake was reported Tuesday morning on 20km SSE of Hawthorne, Nevada, 1.1\n",
      "A shallow minor 2.5 earthquake was reported Tuesday morning on 8km SSE of Langston, Oklahoma, 2.5\n",
      "A shallow minor 2.4 earthquake was reported Tuesday morning on 92km N of Road Town, British Virgin Islands, 2.4\n",
      "A shallow minor 1.41 earthquake was reported Tuesday morning on 5km SW of Clayton, California, 1.41\n",
      "A shallow minor 1.13 earthquake was reported Tuesday morning on 15km SE of Mammoth Lakes, California, 1.13\n",
      "A shallow minor 1.3 earthquake was reported Tuesday morning on 3km SSW of Big Lake, Alaska, 1.3\n",
      "A shallow minor 1.7 earthquake was reported Tuesday morning on 33km NNE of Whittier, Alaska, 1.7\n",
      "A shallow minor 2.8 earthquake was reported Tuesday morning on 58km NNE of Larsen Bay, Alaska, 2.8\n",
      "A shallow minor 1.3 earthquake was reported Tuesday morning on 53km W of Tonopah, Nevada, 1.3\n",
      "A shallow minor 1.1 earthquake was reported Tuesday morning on 14km ESE of Fernley, Nevada, 1.1\n",
      "A shallow intermediate 3.6 earthquake was reported Tuesday morning on 26km N of Nagarkot, Nepal, 3.6\n",
      "A shallow minor 1.9 earthquake was reported Tuesday morning on 66km WSW of Willow, Alaska, 1.9\n",
      "A shallow minor 1.9 earthquake was reported Tuesday morning on 4km SSW of Aguilita, Puerto Rico, 1.9\n",
      "A shallow minor 1.88 earthquake was reported Tuesday morning on 25km E of Honaunau-Napoopoo, Hawaii, 1.88\n",
      "A intermediate high 5.2 earthquake was reported Tuesday morning on 211km NNW of Saumlaki, Indonesia, 5.2\n",
      "A shallow minor 1.6 earthquake was reported Tuesday morning on 23km NW of West Bishop, California, 1.6\n",
      "A shallow minor 1.7 earthquake was reported Tuesday morning on 109km W of Cantwell, Alaska, 1.7\n",
      "A shallow minor 2.6 earthquake was reported Tuesday morning on 83km NNW of Road Town, British Virgin Islands, 2.6\n",
      "A shallow minor 2.5 earthquake was reported Tuesday morning on 5km SW of Aguilita, Puerto Rico, 2.5\n",
      "A shallow minor 1.8 earthquake was reported Tuesday morning on 18km NE of Sterling, Alaska, 1.8\n",
      "A intermediate minor 2.3 earthquake was reported Tuesday morning on 125km N of Larsen Bay, Alaska, 2.3\n",
      "A shallow minor 1.09 earthquake was reported Tuesday morning on 3km N of Loma Linda, CA, 1.09\n",
      "A shallow minor 2.85 earthquake was reported Tuesday morning on 13km WNW of Helena West Side, Montana, 2.85\n",
      "A shallow minor 1.3 earthquake was reported Tuesday morning on 83km ENE of Cantwell, Alaska, 1.3\n",
      "A shallow minor 2.08 earthquake was reported Tuesday morning on 3km NNW of Loma Linda, CA, 2.08\n",
      "A shallow minor 1.67 earthquake was reported Tuesday morning on 22km SSE of Salton City, CA, 1.67\n",
      "A shallow minor 1.1 earthquake was reported Tuesday morning on 105km SW of Fort Yukon, Alaska, 1.1\n",
      "A shallow minor 1.98 earthquake was reported Tuesday early morning on 5km NNW of Bend, Oregon, 1.98\n",
      "A shallow intermediate 3.2 earthquake was reported Tuesday early morning on 57km W of Big Lake, Alaska, 3.2\n",
      "A shallow minor 1.5 earthquake was reported Tuesday early morning on 19km ENE of Y, Alaska, 1.5\n"
     ]
    }
   ],
   "source": [
    "#convert the dataframe into a list of dictionaries and pass them to our function, slice off the first 100\n",
    "for earthquake in earthquakes[0:100]:\n",
    "    print(eq_to_sentence(earthquake))"
   ]
  },
  {
   "cell_type": "markdown",
   "metadata": {},
   "source": [
    "PART FOUR: The other bits\n",
    "If the earthquake is anything other than an earthquake (e.g. explosion or quarry blast), print\n",
    "There was also a magnitude MAGNITUDE TYPE_OF_EVENT on DATE LOCATION.\n",
    "For example,\n",
    "There was also a magnitude 1.29 quarry blast on June 19 12km SE of Tehachapi, California.\n",
    "with TYPE_OF_EVENT being explosion, quarry blast, etc and LOCATION being 'place' - e.g. '0km N of The Geysers, California'."
   ]
  },
  {
   "cell_type": "code",
   "execution_count": 49,
   "metadata": {
    "collapsed": false
   },
   "outputs": [
    {
     "name": "stdout",
     "output_type": "stream",
     "text": [
      "There was also a magnitude 1.98 explosion at 5km NNW of Bend, Oregon\n",
      "There was also a magnitude 1.77 explosion at 2km NW of Sweet Home, Oregon\n",
      "There was also a magnitude 1.33 quarry blast at 11km E of Quarry near Portola Valley, CA\n",
      "There was also a magnitude 1.85 explosion at 2km E of Granite Falls, Washington\n",
      "There was also a magnitude 1.23 quarry blast at 13km W of Mojave, CA\n",
      "There was also a magnitude 1.77 quarry blast at 7km SSE of Home Gardens, CA\n",
      "There was also a magnitude 1.29 other event at 10km SW of Bridgeport, Washington\n",
      "There was also a magnitude 1.95 explosion at 1km SSW of Princeton, Canada\n",
      "There was also a magnitude 1.36 other event at 10km SW of Bridgeport, Washington\n",
      "There was also a magnitude 1.27 other event at 30km ESE of Sweet Home, Oregon\n",
      "There was also a magnitude 1.74 explosion at 9km S of Princeton, Canada\n",
      "There was also a magnitude 1.22 explosion at 8km E of Yacolt, Washington\n",
      "There was also a magnitude 1.99 explosion at 26km WSW of Cheney, Washington\n",
      "There was also a magnitude 1.57 explosion at 8km WNW of Junction City, Oregon\n",
      "There was also a magnitude 1.48 quarry blast at 4km SE of Home Gardens, CA\n",
      "There was also a magnitude 1.66 explosion at 14km NNW of Philomath, Oregon\n",
      "There was also a magnitude 1.85 quarry blast at 4km ENE of Butte, Montana\n",
      "There was also a magnitude 1.63 quarry blast at 0km E of Quarry near Salinas, CA\n",
      "There was also a magnitude 1.27 quarry blast at 10km NNW of Big Bear City, CA\n",
      "There was also a magnitude 1.36 quarry blast at 2km SE of Home Gardens, CA\n",
      "There was also a magnitude 1.24 quarry blast at 11km E of Quarry near Portola Valley, CA\n",
      "There was also a magnitude 1.48 quarry blast at 0km SE of Quarry near Vallejo, CA\n",
      "There was also a magnitude 1.35 explosion at 28km SW of Morton, Washington\n",
      "There was also a magnitude 1.16 quarry blast at 6km SSW of Mojave, CA\n",
      "There was also a magnitude 1.09 explosion at 28km SW of Morton, Washington\n",
      "There was also a magnitude 2.08 quarry blast at 16km SW of Kemmerer, Wyoming\n",
      "There was also a magnitude 1.15 explosion at 25km SW of Morton, Washington\n",
      "There was also a magnitude 1.3 explosion at 25km SW of Morton, Washington\n",
      "There was also a magnitude 1.07 quarry blast at 13km WNW of Searles Valley, CA\n",
      "There was also a magnitude 1.33 quarry blast at 12km WNW of Whitehall, Montana\n",
      "There was also a magnitude 2.14 explosion at 5km S of Princeton, Canada\n",
      "There was also a magnitude 1.56 quarry blast at 1km NW of Quarry near Salinas, CA\n",
      "There was also a magnitude 1.29 quarry blast at 4km SSE of Home Gardens, CA\n",
      "There was also a magnitude 1.25 quarry blast at 5km ENE of Butte, Montana\n",
      "There was also a magnitude 1.12 quarry blast at 2km SW of Quarry near San Rafael, CA\n",
      "There was also a magnitude 1.35 explosion at 14km WSW of Cashmere, Washington\n",
      "There was also a magnitude 1.1 explosion at 4km N of Fern Prairie, Washington\n",
      "There was also a magnitude 1.57 quarry blast at 46km NE of Holtville, CA\n",
      "There was also a magnitude 1.44 quarry blast at 11km E of Quarry near Portola Valley, CA\n",
      "There was also a magnitude 1.33 quarry blast at 3km SSE of Quarry near Aromas, CA\n",
      "There was also a magnitude 1.35 quarry blast at 4km ENE of Rancho San Diego, CA\n",
      "There was also a magnitude 1.03 quarry blast at 10km ESE of Coto De Caza, CA\n",
      "There was also a magnitude 1.17 quarry blast at 6km SSW of Mojave, CA\n",
      "There was also a magnitude 1.36 quarry blast at 13km SE of Tehachapi, CA\n",
      "There was also a magnitude 1.05 explosion at 5km E of Yoncalla, Oregon\n",
      "There was also a magnitude 1.11 quarry blast at 5km NNW of Boron, CA\n",
      "There was also a magnitude 1.13 explosion at 10km NNW of Philomath, Oregon\n",
      "There was also a magnitude 2.18 quarry blast at 46km NE of Holtville, CA\n",
      "There was also a magnitude 2.38 explosion at 1km WNW of Princeton, Canada\n",
      "There was also a magnitude 1.65 quarry blast at 1km W of Tijuana, B.C., MX\n",
      "There was also a magnitude 1.26 explosion at 13km S of Morton, Washington\n",
      "There was also a magnitude 1.09 quarry blast at 5km S of Mojave, CA\n",
      "There was also a magnitude 1.75 quarry blast at 5km E of Butte, Montana\n",
      "There was also a magnitude 1.53 quarry blast at 9km NNW of Big Bear Lake, CA\n",
      "There was also a magnitude 2.02 explosion at 2km NNE of Princeton, Canada\n",
      "There was also a magnitude 1.47 quarry blast at 4km SE of Home Gardens, CA\n",
      "There was also a magnitude 2.01 explosion at 9km S of Princeton, Canada\n",
      "There was also a magnitude 1.19 quarry blast at 13km SE of Tehachapi, CA\n",
      "There was also a magnitude 1.41 quarry blast at 44km NNW of Los Algodones, B.C., MX\n",
      "There was also a magnitude 1.45 quarry blast at 11km E of Quarry near Portola Valley, CA\n",
      "There was also a magnitude 1.11 quarry blast at 13km W of Mojave, CA\n",
      "There was also a magnitude 1.9 explosion at 1km S of Princeton, Canada\n",
      "There was also a magnitude 1.42 quarry blast at 7km SSW of Mojave, CA\n",
      "There was also a magnitude 1.45 quarry blast at 1km SSE of Quarry near Aromas, CA\n",
      "There was also a magnitude 1.55 quarry blast at 28km SE of Virginia City, Montana\n",
      "There was also a magnitude 1.63 explosion at 23km NNW of Baker City, Oregon\n",
      "There was also a magnitude 1.72 quarry blast at 47km NE of Holtville, CA\n",
      "There was also a magnitude 1.93 explosion at 6km SSW of Princeton, Canada\n",
      "There was also a magnitude 1.3 quarry blast at 11km E of Quarry near Portola Valley, CA\n",
      "There was also a magnitude 1.0 explosion at 16km ESE of Enumclaw, Washington\n",
      "There was also a magnitude 1.57 explosion at 5km SW of Napavine, Washington\n",
      "There was also a magnitude 1.8 quarry blast at 7km SSE of Home Gardens, CA\n",
      "There was also a magnitude 1.55 quarry blast at 0km N of Quarry near Portola Valley, CA\n",
      "There was also a magnitude 1.28 explosion at 3km E of West Side Highway, Washington\n",
      "There was also a magnitude 2.1 explosion at 1km WSW of Princeton, Canada\n",
      "There was also a magnitude 1.95 explosion at 32km E of Shady Cove, Oregon\n",
      "There was also a magnitude 1.44 quarry blast at 0km E of Quarry near Atascadero, CA\n",
      "There was also a magnitude 1.6 quarry blast at 8km W of Townsend, Montana\n",
      "There was also a magnitude 1.63 quarry blast at 43km NNW of Los Algodones, B.C., MX\n",
      "There was also a magnitude 1.35 quarry blast at 5km NNW of Boron, CA\n",
      "There was also a magnitude 1.47 quarry blast at 11km E of Quarry near Portola Valley, CA\n",
      "There was also a magnitude 1.77 quarry blast at 4km E of Butte, Montana\n",
      "There was also a magnitude 1.1 quarry blast at 2km SW of Quarry near San Rafael, CA\n",
      "There was also a magnitude 1.09 quarry blast at 13km SE of Tehachapi, CA\n",
      "There was also a magnitude 2.0 explosion at 6km SSE of Princeton, Canada\n",
      "There was also a magnitude 1.93 explosion at 3km S of Princeton, Canada\n",
      "There was also a magnitude 1.09 explosion at 5km N of Fern Prairie, Washington\n",
      "There was also a magnitude 1.76 quarry blast at 46km NNW of Los Algodones, B.C., MX\n",
      "There was also a magnitude 1.82 explosion at 0km SW of Dundee, Oregon\n",
      "There was also a magnitude 1.52 quarry blast at 4km SE of Home Gardens, CA\n",
      "There was also a magnitude 1.38 quarry blast at 13km W of Mojave, CA\n",
      "There was also a magnitude 1.84 quarry blast at 5km ENE of Butte, Montana\n",
      "There was also a magnitude 1.24 quarry blast at 2km WSW of Quarry near Clayton, CA\n",
      "There was also a magnitude 1.53 explosion at 22km NNE of Pasco, Washington\n",
      "There was also a magnitude 1.07 quarry blast at 6km ENE of Tehachapi, CA\n",
      "There was also a magnitude 1.37 quarry blast at 11km E of Quarry near Portola Valley, CA\n",
      "There was also a magnitude 2.0 explosion at 25km SW of Cheney, Washington\n",
      "There was also a magnitude 2.08 explosion at 2km NE of Coos Bay, Oregon\n",
      "There was also a magnitude 1.02 quarry blast at 3km SSE of San Marcos, CA\n",
      "There was also a magnitude 1.05 quarry blast at 6km SSW of Mojave, CA\n",
      "There was also a magnitude 1.53 quarry blast at 20km S of Quarry near Atascadero, CA\n",
      "There was also a magnitude 1.33 quarry blast at 7km ESE of Butte, Montana\n",
      "There was also a magnitude 1.35 explosion at 5km E of Buckley, Washington\n",
      "There was also a magnitude 1.34 quarry blast at 12km SE of Tehachapi, CA\n",
      "There was also a magnitude 1.56 quarry blast at 5km NNW of Boron, CA\n",
      "There was also a magnitude 1.42 explosion at 14km S of Leavenworth, Washington\n",
      "There was also a magnitude 1.34 quarry blast at 3km SSE of Home Gardens, CA\n",
      "There was also a magnitude 1.81 explosion at 12km S of Princeton, Canada\n",
      "There was also a magnitude 1.01 quarry blast at 7km E of Lebec, CA\n",
      "There was also a magnitude 1.4 quarry blast at 7km SE of Bonita, CA\n",
      "There was also a magnitude 2.3 quarry blast at 17km N of Orofino, Idaho\n",
      "There was also a magnitude 1.26 quarry blast at 4km SE of Home Gardens, CA\n",
      "There was also a magnitude 1.35 quarry blast at 6km SSE of Valley Center, CA\n",
      "There was also a magnitude 1.21 explosion at 16km W of Winston, Oregon\n",
      "There was also a magnitude 1.18 explosion at 3km E of Kelso, Washington\n",
      "There was also a magnitude 1.56 quarry blast at 8km ESE of Bonita, CA\n",
      "There was also a magnitude 1.41 quarry blast at 45km NE of Holtville, CA\n",
      "There was also a magnitude 1.23 quarry blast at 12km E of Quarry near Portola Valley, CA\n",
      "There was also a magnitude 1.57 explosion at 2km SSW of Princeton, Canada\n",
      "There was also a magnitude 1.41 quarry blast at 4km N of Norco, CA\n",
      "There was also a magnitude 2.04 quarry blast at 28km N of Orofino, Idaho\n",
      "There was also a magnitude 1.2 quarry blast at 7km SSW of Mojave, CA\n",
      "There was also a magnitude 2.23 explosion at 10km S of Princeton, Canada\n",
      "There was also a magnitude 1.66 explosion at 2km S of Princeton, Canada\n",
      "There was also a magnitude 1.84 explosion at 7km NE of Abbotsford, Canada\n",
      "There was also a magnitude 1.55 explosion at 3km SW of Drain, Oregon\n",
      "There was also a magnitude 1.2 quarry blast at 0km S of Quarry near Vallejo, CA\n",
      "There was also a magnitude 1.79 explosion at 5km SSE of Princeton, Canada\n",
      "There was also a magnitude 1.37 quarry blast at 7km SSW of Mojave, CA\n",
      "There was also a magnitude 1.48 quarry blast at 6km ESE of Butte, Montana\n",
      "There was also a magnitude 1.31 quarry blast at 11km E of Quarry near Portola Valley, CA\n",
      "There was also a magnitude 1.63 quarry blast at 46km NNW of Los Algodones, B.C., MX\n",
      "There was also a magnitude 1.57 quarry blast at 4km NNW of Boron, CA\n",
      "There was also a magnitude 1.99 explosion at 5km SSE of Princeton, Canada\n",
      "There was also a magnitude 1.96 quarry blast at 11km ESE of Santa Ynez, CA\n",
      "There was also a magnitude 1.31 quarry blast at 6km ENE of Three Forks, Montana\n",
      "There was also a magnitude 1.44 explosion at 19km SE of Cottage Grove, Oregon\n",
      "There was also a magnitude 1.08 explosion at 24km SE of Sweet Home, Oregon\n",
      "There was also a magnitude 1.94 quarry blast at 10km N of Oroville, California\n",
      "There was also a magnitude 1.08 quarry blast at 13km SE of Tehachapi, CA\n",
      "There was also a magnitude 1.13 quarry blast at 8km ENE of Lebec, CA\n",
      "There was also a magnitude 1.85 quarry blast at 4km ENE of Butte, Montana\n",
      "There was also a magnitude 1.49 quarry blast at 7km SSE of Home Gardens, CA\n",
      "There was also a magnitude 1.23 quarry blast at 10km NNW of Big Bear City, CA\n",
      "There was also a magnitude 1.03 quarry blast at 1km WSW of Quarry near Milpitas, CA\n",
      "There was also a magnitude 1.21 quarry blast at 45km NNW of Los Algodones, B.C., MX\n",
      "There was also a magnitude 1.64 explosion at 14km SE of McCleary, Washington\n",
      "There was also a magnitude 2.03 explosion at 7km S of Princeton, Canada\n",
      "There was also a magnitude 1.35 explosion at 10km SE of Graham, Washington\n",
      "There was also a magnitude 1.01 quarry blast at 14km W of Mojave, CA\n",
      "There was also a magnitude 1.08 quarry blast at 5km NE of Rancho San Diego, CA\n",
      "There was also a magnitude 1.31 quarry blast at 2km SW of Quarry near Clayton, CA\n",
      "There was also a magnitude 1.49 quarry blast at 6km NNW of Boron, CA\n",
      "There was also a magnitude 1.79 quarry blast at 46km NNW of Los Algodones, B.C., MX\n",
      "There was also a magnitude 2.55 explosion at 11km S of Agassiz, Canada\n",
      "There was also a magnitude 1.05 quarry blast at 1km WNW of Quarry near Vallejo, CA\n",
      "There was also a magnitude 1.5 quarry blast at 11km E of Quarry near Portola Valley, CA\n",
      "There was also a magnitude 1.4 quarry blast at 5km N of Lake Elsinore, CA\n",
      "There was also a magnitude 1.33 quarry blast at 7km SSW of Mojave, CA\n",
      "There was also a magnitude 1.6 explosion at 5km WNW of Junction City, Oregon\n",
      "There was also a magnitude 1.17 quarry blast at 13km SE of Tehachapi, CA\n",
      "There was also a magnitude 1.6 explosion at 4km S of Princeton, Canada\n"
     ]
    }
   ],
   "source": [
    "earthquakes = earthquakes_df.to_dict('records')\n",
    "for earthquake in earthquakes:\n",
    "    if earthquake['type'] != 'earthquake':\n",
    "        print(\"There was also a magnitude\", earthquake['mag'], earthquake['type'], \"at\", earthquake['place'])\n",
    "    else:\n",
    "        pass"
   ]
  },
  {
   "cell_type": "code",
   "execution_count": null,
   "metadata": {
    "collapsed": true
   },
   "outputs": [],
   "source": []
  }
 ],
 "metadata": {
  "kernelspec": {
   "display_name": "Python 3",
   "language": "python",
   "name": "python3"
  },
  "language_info": {
   "codemirror_mode": {
    "name": "ipython",
    "version": 3
   },
   "file_extension": ".py",
   "mimetype": "text/x-python",
   "name": "python",
   "nbconvert_exporter": "python",
   "pygments_lexer": "ipython3",
   "version": "3.5.1"
  }
 },
 "nbformat": 4,
 "nbformat_minor": 0
}
