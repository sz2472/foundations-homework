{
 "cells": [
  {
   "cell_type": "markdown",
   "metadata": {},
   "source": [
    "# The setup\n",
    "\n",
    "A lot of times when you're using pandas you're also going to use matplotlib, and when you're using matplotlib you're also going to be making inline graphics. So why not do it all at once?"
   ]
  },
  {
   "cell_type": "code",
   "execution_count": 1,
   "metadata": {
    "collapsed": true
   },
   "outputs": [],
   "source": [
    "import pandas as pd"
   ]
  },
  {
   "cell_type": "markdown",
   "metadata": {},
   "source": [
    "# The import\n",
    "\n",
    "Always name your initial dataframe `df`. Always always always. Why? Because everyone else does, and because \n",
    "\n",
    "* when you slice it and dice it into different pieces (only really rich people, only cats, only flights to Finland, etc)\n",
    "* you can give each of those names, while knowing `df` is your original dataframe."
   ]
  },
  {
   "cell_type": "code",
   "execution_count": 6,
   "metadata": {
    "collapsed": true
   },
   "outputs": [],
   "source": [
    "import matplotlib.pyplot as plt\n",
    "%matplotlib inline"
   ]
  },
  {
   "cell_type": "markdown",
   "metadata": {},
   "source": [
    "# The examining\n",
    "\n",
    "Your best friends for a quick peek are are \n",
    "\n",
    "* `df.head()` to see the first ten\n",
    "* `df.columns` to see the column names\n",
    "* `df.info()` to see more detailed info about each column\n",
    "* `df.describe()` to see summary statistics about each numeric column\n",
    "\n",
    "Once you do these few steps, you should be able to draw up a list of ten or so questions to ask your data."
   ]
  },
  {
   "cell_type": "code",
   "execution_count": 8,
   "metadata": {
    "collapsed": false
   },
   "outputs": [],
   "source": [
    "df=pd.read_excel(\"richpeople.xlsx\")"
   ]
  },
  {
   "cell_type": "code",
   "execution_count": 10,
   "metadata": {
    "collapsed": false
   },
   "outputs": [
    {
     "data": {
      "text/plain": [
       "Index(['year', 'name', 'rank', 'citizenship', 'countrycode',\n",
       "       'networthusbillion', 'selfmade', 'typeofwealth', 'gender', 'age',\n",
       "       'industry', 'IndustryAggregates', 'region', 'north',\n",
       "       'politicalconnection', 'founder', 'generationofinheritance', 'sector',\n",
       "       'company', 'companytype', 'relationshiptocompany', 'foundingdate',\n",
       "       'gdpcurrentus', 'sourceofwealth', 'notes', 'notes2', 'source',\n",
       "       'source_2', 'source_3', 'source_4'],\n",
       "      dtype='object')"
      ]
     },
     "execution_count": 10,
     "metadata": {},
     "output_type": "execute_result"
    }
   ],
   "source": [
    "df.head()\n",
    "df.columns"
   ]
  },
  {
   "cell_type": "markdown",
   "metadata": {},
   "source": [
    "# Slicing your data\n",
    "\n",
    "I made a *terrible mistake* on Monday about how I taught sub-selects (the things that are basically SQL `WHERE` statements), and it's all because of how I named my variables.\n",
    "\n",
    "We're going to take a sample of the data to work with so it looks a little cleaner - only take a few columns of the first 8. It's a complicated line, don't sweat it. Just think about the result for now."
   ]
  },
  {
   "cell_type": "code",
   "execution_count": 11,
   "metadata": {
    "collapsed": false
   },
   "outputs": [
    {
     "data": {
      "text/html": [
       "<div>\n",
       "<table border=\"1\" class=\"dataframe\">\n",
       "  <thead>\n",
       "    <tr style=\"text-align: right;\">\n",
       "      <th></th>\n",
       "      <th>name</th>\n",
       "      <th>age</th>\n",
       "      <th>gender</th>\n",
       "      <th>selfmade</th>\n",
       "      <th>networthusbillion</th>\n",
       "      <th>countrycode</th>\n",
       "      <th>rank</th>\n",
       "    </tr>\n",
       "  </thead>\n",
       "  <tbody>\n",
       "    <tr>\n",
       "      <th>284</th>\n",
       "      <td>Bill Gates</td>\n",
       "      <td>58.0</td>\n",
       "      <td>male</td>\n",
       "      <td>self-made</td>\n",
       "      <td>76.0</td>\n",
       "      <td>USA</td>\n",
       "      <td>1</td>\n",
       "    </tr>\n",
       "    <tr>\n",
       "      <th>348</th>\n",
       "      <td>Carlos Slim Helu</td>\n",
       "      <td>74.0</td>\n",
       "      <td>male</td>\n",
       "      <td>self-made</td>\n",
       "      <td>72.0</td>\n",
       "      <td>MEX</td>\n",
       "      <td>2</td>\n",
       "    </tr>\n",
       "    <tr>\n",
       "      <th>124</th>\n",
       "      <td>Amancio Ortega</td>\n",
       "      <td>77.0</td>\n",
       "      <td>male</td>\n",
       "      <td>self-made</td>\n",
       "      <td>64.0</td>\n",
       "      <td>ESP</td>\n",
       "      <td>3</td>\n",
       "    </tr>\n",
       "    <tr>\n",
       "      <th>2491</th>\n",
       "      <td>Warren Buffett</td>\n",
       "      <td>83.0</td>\n",
       "      <td>male</td>\n",
       "      <td>self-made</td>\n",
       "      <td>58.2</td>\n",
       "      <td>USA</td>\n",
       "      <td>4</td>\n",
       "    </tr>\n",
       "    <tr>\n",
       "      <th>1377</th>\n",
       "      <td>Larry Ellison</td>\n",
       "      <td>69.0</td>\n",
       "      <td>male</td>\n",
       "      <td>self-made</td>\n",
       "      <td>48.0</td>\n",
       "      <td>USA</td>\n",
       "      <td>5</td>\n",
       "    </tr>\n",
       "    <tr>\n",
       "      <th>509</th>\n",
       "      <td>David Koch</td>\n",
       "      <td>73.0</td>\n",
       "      <td>male</td>\n",
       "      <td>inherited</td>\n",
       "      <td>40.0</td>\n",
       "      <td>USA</td>\n",
       "      <td>6</td>\n",
       "    </tr>\n",
       "    <tr>\n",
       "      <th>381</th>\n",
       "      <td>Charles Koch</td>\n",
       "      <td>78.0</td>\n",
       "      <td>male</td>\n",
       "      <td>inherited</td>\n",
       "      <td>40.0</td>\n",
       "      <td>USA</td>\n",
       "      <td>6</td>\n",
       "    </tr>\n",
       "    <tr>\n",
       "      <th>2185</th>\n",
       "      <td>Sheldon Adelson</td>\n",
       "      <td>80.0</td>\n",
       "      <td>male</td>\n",
       "      <td>self-made</td>\n",
       "      <td>38.0</td>\n",
       "      <td>USA</td>\n",
       "      <td>8</td>\n",
       "    </tr>\n",
       "  </tbody>\n",
       "</table>\n",
       "</div>"
      ],
      "text/plain": [
       "                  name   age gender   selfmade  networthusbillion countrycode  \\\n",
       "284         Bill Gates  58.0   male  self-made               76.0         USA   \n",
       "348   Carlos Slim Helu  74.0   male  self-made               72.0         MEX   \n",
       "124     Amancio Ortega  77.0   male  self-made               64.0         ESP   \n",
       "2491    Warren Buffett  83.0   male  self-made               58.2         USA   \n",
       "1377     Larry Ellison  69.0   male  self-made               48.0         USA   \n",
       "509         David Koch  73.0   male  inherited               40.0         USA   \n",
       "381       Charles Koch  78.0   male  inherited               40.0         USA   \n",
       "2185   Sheldon Adelson  80.0   male  self-made               38.0         USA   \n",
       "\n",
       "      rank  \n",
       "284      1  \n",
       "348      2  \n",
       "124      3  \n",
       "2491     4  \n",
       "1377     5  \n",
       "509      6  \n",
       "381      6  \n",
       "2185     8  "
      ]
     },
     "execution_count": 11,
     "metadata": {},
     "output_type": "execute_result"
    }
   ],
   "source": [
    "recent = df[df['year'] == 2014]\n",
    "recent = recent[['name','age','gender','selfmade','networthusbillion','countrycode','rank']]\n",
    "recent = recent.sort_values(by='rank').head(8)\n",
    "recent"
   ]
  },
  {
   "cell_type": "markdown",
   "metadata": {},
   "source": [
    "Who is from the USA? There **two different things we can do**. This was a big point of confusion in class\n",
    "\n",
    "1. We can **list whether someone is from the USA or not.**\n",
    "2. Or, we can use that list to **select only the people from the USA.**\n",
    "\n",
    "Let's look at them both, then see how they're used."
   ]
  },
  {
   "cell_type": "code",
   "execution_count": 13,
   "metadata": {
    "collapsed": false
   },
   "outputs": [
    {
     "data": {
      "text/plain": [
       "284      True\n",
       "348     False\n",
       "124     False\n",
       "2491     True\n",
       "1377     True\n",
       "509      True\n",
       "381      True\n",
       "2185     True\n",
       "Name: countrycode, dtype: bool"
      ]
     },
     "execution_count": 13,
     "metadata": {},
     "output_type": "execute_result"
    }
   ],
   "source": [
    "recent['countrycode']=='USA'"
   ]
  },
  {
   "cell_type": "markdown",
   "metadata": {},
   "source": [
    "## Value counts vs. groupby"
   ]
  },
  {
   "cell_type": "markdown",
   "metadata": {},
   "source": [
    "### groupby whenever you "
   ]
  },
  {
   "cell_type": "markdown",
   "metadata": {},
   "source": [
    "This just gave us a list of `True` and `False` values.\n",
    "\n",
    "* First person? Definitely from the USA.\n",
    "* Next row? Not from the USA.\n",
    "* Third person? Not from the USA.\n",
    "* Fourth? Yes, they're from the USA.\n",
    "\n",
    "On the other hand, we can also use similar syntax to get a list of every person from the USA."
   ]
  },
  {
   "cell_type": "code",
   "execution_count": null,
   "metadata": {
    "collapsed": false
   },
   "outputs": [],
   "source": []
  },
  {
   "cell_type": "markdown",
   "metadata": {},
   "source": [
    "That one was a two-step process,\n",
    "\n",
    "1. we got a list of `True`/`False` values (are they from the USA?), then\n",
    "2. **fed that `True`/`False` list back into the dataframe.**\n",
    "\n",
    "For every row that's `True`, it let us keep the row. If it was `False`, it doesn't let us keep the row.\n",
    "\n",
    "## When to use what\n",
    "\n",
    "Let's say we wanted to select every single row that is from USA, has inherited wealth, and is in the top 10 wealthiest people in the world. If we wanted to do it all on one line, we could!"
   ]
  },
  {
   "cell_type": "code",
   "execution_count": null,
   "metadata": {
    "collapsed": false
   },
   "outputs": [],
   "source": []
  },
  {
   "cell_type": "markdown",
   "metadata": {},
   "source": [
    "That looks *super confusing*. In it we have three separate things we're testing for (a.k.a. getting True/False back)\n",
    "\n",
    "* `sample['countrycode'] == 'USA'`\n",
    "* `sample['selfmade'] == 'inherited'`\n",
    "* `sample['rank'] < 10`\n",
    "\n",
    "And we're jamming them all into `sample[blah blah]` to get back a dataframe for which all of those are true. It works, but it's ugly.\n",
    "\n",
    "Again, let's remind ourselves what a piece like that looks like, it's **just a list of True and False values**"
   ]
  },
  {
   "cell_type": "code",
   "execution_count": null,
   "metadata": {
    "collapsed": false
   },
   "outputs": [],
   "source": []
  },
  {
   "cell_type": "markdown",
   "metadata": {},
   "source": [
    "If we felt like the code we had before was a little too complicated, we could break it down into manageable, well-named pieces like this:"
   ]
  },
  {
   "cell_type": "code",
   "execution_count": null,
   "metadata": {
    "collapsed": false
   },
   "outputs": [],
   "source": []
  },
  {
   "cell_type": "markdown",
   "metadata": {},
   "source": [
    "Let's look at each individual piece.\n",
    "\n",
    "`is_american`, which is the same thing as `sample['countrycode'] == 'USA'`, is **not** a list of people. It is **not** a dataframe. It is a **list of true and false values**."
   ]
  },
  {
   "cell_type": "code",
   "execution_count": null,
   "metadata": {
    "collapsed": false
   },
   "outputs": [],
   "source": []
  },
  {
   "cell_type": "markdown",
   "metadata": {},
   "source": [
    "It's the same thing with `is_inherited` and `is_top_ten`. It's just a shortcut for me, so I don't have to type out `sample['selfmade'] == 'inherited'`. We can combine them all using `&` to get a list of `True`/`False` values in which every one of those conditions is true"
   ]
  },
  {
   "cell_type": "code",
   "execution_count": null,
   "metadata": {
    "collapsed": false
   },
   "outputs": [],
   "source": []
  },
  {
   "cell_type": "markdown",
   "metadata": {},
   "source": [
    "Which we can then feed into the dataframe"
   ]
  },
  {
   "cell_type": "code",
   "execution_count": null,
   "metadata": {
    "collapsed": false
   },
   "outputs": [],
   "source": []
  },
  {
   "cell_type": "markdown",
   "metadata": {},
   "source": [
    "So what I'm saying is, these two things are the same:\n",
    "\n",
    "### Method One: Breaking into separate readable things"
   ]
  },
  {
   "cell_type": "code",
   "execution_count": null,
   "metadata": {
    "collapsed": false
   },
   "outputs": [],
   "source": []
  },
  {
   "cell_type": "markdown",
   "metadata": {},
   "source": [
    "### Method Two: Doing it all at once"
   ]
  },
  {
   "cell_type": "code",
   "execution_count": null,
   "metadata": {
    "collapsed": false
   },
   "outputs": [],
   "source": []
  },
  {
   "cell_type": "markdown",
   "metadata": {},
   "source": [
    "### Make sure you know the difference between these two\n",
    "\n",
    "* `df['countrycode'] == 'USA'`\n",
    "* `df[df['countrycode'] == 'USA']`"
   ]
  },
  {
   "cell_type": "markdown",
   "metadata": {},
   "source": [
    "# Joining data\n",
    "\n",
    "Now, let's say we wanted to join a bunch of data together. We have a lot of countries here, right? And we'd like to know how much of their wealth is concentrated in these rich people."
   ]
  },
  {
   "cell_type": "code",
   "execution_count": 14,
   "metadata": {
    "collapsed": false
   },
   "outputs": [
    {
     "data": {
      "text/html": [
       "<div>\n",
       "<table border=\"1\" class=\"dataframe\">\n",
       "  <thead>\n",
       "    <tr style=\"text-align: right;\">\n",
       "      <th></th>\n",
       "      <th>name</th>\n",
       "      <th>countrycode</th>\n",
       "      <th>networthusbillion</th>\n",
       "    </tr>\n",
       "  </thead>\n",
       "  <tbody>\n",
       "    <tr>\n",
       "      <th>1</th>\n",
       "      <td>A. Jerrold Perenchio</td>\n",
       "      <td>USA</td>\n",
       "      <td>2.6</td>\n",
       "    </tr>\n",
       "    <tr>\n",
       "      <th>5</th>\n",
       "      <td>Abdulla Al Futtaim</td>\n",
       "      <td>ARE</td>\n",
       "      <td>2.5</td>\n",
       "    </tr>\n",
       "    <tr>\n",
       "      <th>6</th>\n",
       "      <td>Abdulla bin Ahmad Al Ghurair</td>\n",
       "      <td>ARE</td>\n",
       "      <td>4.8</td>\n",
       "    </tr>\n",
       "    <tr>\n",
       "      <th>8</th>\n",
       "      <td>Abdullah Al Rajhi</td>\n",
       "      <td>SAU</td>\n",
       "      <td>2.4</td>\n",
       "    </tr>\n",
       "    <tr>\n",
       "      <th>9</th>\n",
       "      <td>Abdulsamad Rabiu</td>\n",
       "      <td>NGA</td>\n",
       "      <td>1.2</td>\n",
       "    </tr>\n",
       "  </tbody>\n",
       "</table>\n",
       "</div>"
      ],
      "text/plain": [
       "                           name countrycode  networthusbillion\n",
       "1          A. Jerrold Perenchio         USA                2.6\n",
       "5            Abdulla Al Futtaim         ARE                2.5\n",
       "6  Abdulla bin Ahmad Al Ghurair         ARE                4.8\n",
       "8             Abdullah Al Rajhi         SAU                2.4\n",
       "9              Abdulsamad Rabiu         NGA                1.2"
      ]
     },
     "execution_count": 14,
     "metadata": {},
     "output_type": "execute_result"
    }
   ],
   "source": [
    "recent = df[df['year'] == 2014]\n",
    "recent = recent[['name','countrycode','networthusbillion']]\n",
    "recent.head()"
   ]
  },
  {
   "cell_type": "markdown",
   "metadata": {},
   "source": [
    "## What do we combine it with?\n",
    "\n",
    "I'm going to get my GDP data from [this web site](http://statisticstimes.com/economy/world-gdp-ranking.php), because... I googled GDP 2014 and it came up.\n",
    "\n",
    "We could manually say okay, so A. Jerrold Perenchio\thas 2.6 billion dollars, and USA's GDP was 17.418 trillion (17418 billion), so he's at about 0.015% of the GDP. **But we are lazy, so we want the computer to do it.** In order to do that, though, we need to **merge that information into our existing dataset.**\n",
    "\n",
    "I'm also too lazy to look up the GDP for every country, so I'm just going to pick the top ten."
   ]
  },
  {
   "cell_type": "code",
   "execution_count": 15,
   "metadata": {
    "collapsed": false
   },
   "outputs": [
    {
     "data": {
      "text/plain": [
       "[{'country': 'USA', 'gdp': 17.418},\n",
       " {'country': 'DEU', 'gdp': 3.859},\n",
       " {'country': 'CHN', 'gdp': 10.38},\n",
       " {'country': 'RUS', 'gdp': 1.857},\n",
       " {'country': 'JPN', 'gdp': 4.616},\n",
       " {'country': 'BRA', 'gdp': 2.353},\n",
       " {'country': 'HKG', 'gdp': 0.289},\n",
       " {'country': 'FRA', 'gdp': 2.846},\n",
       " {'country': 'GBR', 'gdp': 2.945},\n",
       " {'country': 'IND', 'gdp': 2.049}]"
      ]
     },
     "execution_count": 15,
     "metadata": {},
     "output_type": "execute_result"
    }
   ],
   "source": [
    "# Make a list of dictionaries\n",
    "country_gdp = [\n",
    "   { 'country': 'USA', 'gdp': 17.418 },\n",
    "   { 'country': 'DEU', 'gdp': 3.859 },\n",
    "   { 'country': 'CHN', 'gdp': 10.380 },\n",
    "   { 'country': 'RUS', 'gdp': 1.857 },\n",
    "   { 'country': 'JPN', 'gdp': 4.616 },\n",
    "   { 'country': 'BRA', 'gdp': 2.353 },\n",
    "   { 'country': 'HKG', 'gdp': 0.289 },\n",
    "   { 'country': 'FRA', 'gdp': 2.846 },\n",
    "   { 'country': 'GBR', 'gdp': 2.945 },\n",
    "   { 'country': 'IND', 'gdp': 2.049 }\n",
    "]\n",
    "country_gdp"
   ]
  },
  {
   "cell_type": "markdown",
   "metadata": {},
   "source": [
    "I'm also too lazy to find a csv that has the data I need, so **I'm going to make a dataframe out of a dictionary**. It's pretty easy."
   ]
  },
  {
   "cell_type": "code",
   "execution_count": 17,
   "metadata": {
    "collapsed": false
   },
   "outputs": [
    {
     "data": {
      "text/html": [
       "<div>\n",
       "<table border=\"1\" class=\"dataframe\">\n",
       "  <thead>\n",
       "    <tr style=\"text-align: right;\">\n",
       "      <th></th>\n",
       "      <th>country</th>\n",
       "      <th>gdp</th>\n",
       "    </tr>\n",
       "  </thead>\n",
       "  <tbody>\n",
       "    <tr>\n",
       "      <th>0</th>\n",
       "      <td>USA</td>\n",
       "      <td>17.418</td>\n",
       "    </tr>\n",
       "    <tr>\n",
       "      <th>1</th>\n",
       "      <td>DEU</td>\n",
       "      <td>3.859</td>\n",
       "    </tr>\n",
       "    <tr>\n",
       "      <th>2</th>\n",
       "      <td>CHN</td>\n",
       "      <td>10.380</td>\n",
       "    </tr>\n",
       "    <tr>\n",
       "      <th>3</th>\n",
       "      <td>RUS</td>\n",
       "      <td>1.857</td>\n",
       "    </tr>\n",
       "    <tr>\n",
       "      <th>4</th>\n",
       "      <td>JPN</td>\n",
       "      <td>4.616</td>\n",
       "    </tr>\n",
       "    <tr>\n",
       "      <th>5</th>\n",
       "      <td>BRA</td>\n",
       "      <td>2.353</td>\n",
       "    </tr>\n",
       "    <tr>\n",
       "      <th>6</th>\n",
       "      <td>HKG</td>\n",
       "      <td>0.289</td>\n",
       "    </tr>\n",
       "    <tr>\n",
       "      <th>7</th>\n",
       "      <td>FRA</td>\n",
       "      <td>2.846</td>\n",
       "    </tr>\n",
       "    <tr>\n",
       "      <th>8</th>\n",
       "      <td>GBR</td>\n",
       "      <td>2.945</td>\n",
       "    </tr>\n",
       "    <tr>\n",
       "      <th>9</th>\n",
       "      <td>IND</td>\n",
       "      <td>2.049</td>\n",
       "    </tr>\n",
       "  </tbody>\n",
       "</table>\n",
       "</div>"
      ],
      "text/plain": [
       "  country     gdp\n",
       "0     USA  17.418\n",
       "1     DEU   3.859\n",
       "2     CHN  10.380\n",
       "3     RUS   1.857\n",
       "4     JPN   4.616\n",
       "5     BRA   2.353\n",
       "6     HKG   0.289\n",
       "7     FRA   2.846\n",
       "8     GBR   2.945\n",
       "9     IND   2.049"
      ]
     },
     "execution_count": 17,
     "metadata": {},
     "output_type": "execute_result"
    }
   ],
   "source": [
    "# make a data frame\n",
    "gdp_df=pd.DataFrame(country_gdp)\n",
    "gdp_df"
   ]
  },
  {
   "cell_type": "code",
   "execution_count": 18,
   "metadata": {
    "collapsed": false
   },
   "outputs": [
    {
     "data": {
      "text/html": [
       "<div>\n",
       "<table border=\"1\" class=\"dataframe\">\n",
       "  <thead>\n",
       "    <tr style=\"text-align: right;\">\n",
       "      <th></th>\n",
       "      <th>country</th>\n",
       "      <th>gdp</th>\n",
       "      <th>billions</th>\n",
       "    </tr>\n",
       "  </thead>\n",
       "  <tbody>\n",
       "    <tr>\n",
       "      <th>0</th>\n",
       "      <td>USA</td>\n",
       "      <td>17.418</td>\n",
       "      <td>17418.0</td>\n",
       "    </tr>\n",
       "    <tr>\n",
       "      <th>1</th>\n",
       "      <td>DEU</td>\n",
       "      <td>3.859</td>\n",
       "      <td>3859.0</td>\n",
       "    </tr>\n",
       "    <tr>\n",
       "      <th>2</th>\n",
       "      <td>CHN</td>\n",
       "      <td>10.380</td>\n",
       "      <td>10380.0</td>\n",
       "    </tr>\n",
       "    <tr>\n",
       "      <th>3</th>\n",
       "      <td>RUS</td>\n",
       "      <td>1.857</td>\n",
       "      <td>1857.0</td>\n",
       "    </tr>\n",
       "    <tr>\n",
       "      <th>4</th>\n",
       "      <td>JPN</td>\n",
       "      <td>4.616</td>\n",
       "      <td>4616.0</td>\n",
       "    </tr>\n",
       "    <tr>\n",
       "      <th>5</th>\n",
       "      <td>BRA</td>\n",
       "      <td>2.353</td>\n",
       "      <td>2353.0</td>\n",
       "    </tr>\n",
       "    <tr>\n",
       "      <th>6</th>\n",
       "      <td>HKG</td>\n",
       "      <td>0.289</td>\n",
       "      <td>289.0</td>\n",
       "    </tr>\n",
       "    <tr>\n",
       "      <th>7</th>\n",
       "      <td>FRA</td>\n",
       "      <td>2.846</td>\n",
       "      <td>2846.0</td>\n",
       "    </tr>\n",
       "    <tr>\n",
       "      <th>8</th>\n",
       "      <td>GBR</td>\n",
       "      <td>2.945</td>\n",
       "      <td>2945.0</td>\n",
       "    </tr>\n",
       "    <tr>\n",
       "      <th>9</th>\n",
       "      <td>IND</td>\n",
       "      <td>2.049</td>\n",
       "      <td>2049.0</td>\n",
       "    </tr>\n",
       "  </tbody>\n",
       "</table>\n",
       "</div>"
      ],
      "text/plain": [
       "  country     gdp  billions\n",
       "0     USA  17.418   17418.0\n",
       "1     DEU   3.859    3859.0\n",
       "2     CHN  10.380   10380.0\n",
       "3     RUS   1.857    1857.0\n",
       "4     JPN   4.616    4616.0\n",
       "5     BRA   2.353    2353.0\n",
       "6     HKG   0.289     289.0\n",
       "7     FRA   2.846    2846.0\n",
       "8     GBR   2.945    2945.0\n",
       "9     IND   2.049    2049.0"
      ]
     },
     "execution_count": 18,
     "metadata": {},
     "output_type": "execute_result"
    }
   ],
   "source": [
    "gdp_df['billions'] = gdp_df['gdp']*1000\n",
    "gdp_df"
   ]
  },
  {
   "cell_type": "markdown",
   "metadata": {},
   "source": [
    "### STEP ONE: Finding a join key\n",
    "\n",
    "My favorite resource for joining data with `pandas` is [this page](http://pandas.pydata.org/pandas-docs/stable/comparison_with_sql.html#compare-with-sql-join). It compares everything to SQL JOINs, which *I* understand. You could also check out [this page](http://pandas.pydata.org/pandas-docs/stable/merging.html#database-style-dataframe-joining-merging) which I find kind of confusing.\n",
    "\n",
    "So what we need to do is **match up a column between our two dataframes.**"
   ]
  },
  {
   "cell_type": "code",
   "execution_count": 20,
   "metadata": {
    "collapsed": false
   },
   "outputs": [
    {
     "data": {
      "text/html": [
       "<div>\n",
       "<table border=\"1\" class=\"dataframe\">\n",
       "  <thead>\n",
       "    <tr style=\"text-align: right;\">\n",
       "      <th></th>\n",
       "      <th>name</th>\n",
       "      <th>countrycode</th>\n",
       "      <th>networthusbillion</th>\n",
       "    </tr>\n",
       "  </thead>\n",
       "  <tbody>\n",
       "    <tr>\n",
       "      <th>1</th>\n",
       "      <td>A. Jerrold Perenchio</td>\n",
       "      <td>USA</td>\n",
       "      <td>2.6</td>\n",
       "    </tr>\n",
       "    <tr>\n",
       "      <th>5</th>\n",
       "      <td>Abdulla Al Futtaim</td>\n",
       "      <td>ARE</td>\n",
       "      <td>2.5</td>\n",
       "    </tr>\n",
       "    <tr>\n",
       "      <th>6</th>\n",
       "      <td>Abdulla bin Ahmad Al Ghurair</td>\n",
       "      <td>ARE</td>\n",
       "      <td>4.8</td>\n",
       "    </tr>\n",
       "  </tbody>\n",
       "</table>\n",
       "</div>"
      ],
      "text/plain": [
       "                           name countrycode  networthusbillion\n",
       "1          A. Jerrold Perenchio         USA                2.6\n",
       "5            Abdulla Al Futtaim         ARE                2.5\n",
       "6  Abdulla bin Ahmad Al Ghurair         ARE                4.8"
      ]
     },
     "execution_count": 20,
     "metadata": {},
     "output_type": "execute_result"
    }
   ],
   "source": [
    "recent.head(3)"
   ]
  },
  {
   "cell_type": "code",
   "execution_count": 21,
   "metadata": {
    "collapsed": false
   },
   "outputs": [
    {
     "data": {
      "text/html": [
       "<div>\n",
       "<table border=\"1\" class=\"dataframe\">\n",
       "  <thead>\n",
       "    <tr style=\"text-align: right;\">\n",
       "      <th></th>\n",
       "      <th>country</th>\n",
       "      <th>gdp</th>\n",
       "      <th>billions</th>\n",
       "    </tr>\n",
       "  </thead>\n",
       "  <tbody>\n",
       "    <tr>\n",
       "      <th>0</th>\n",
       "      <td>USA</td>\n",
       "      <td>17.418</td>\n",
       "      <td>17418.0</td>\n",
       "    </tr>\n",
       "    <tr>\n",
       "      <th>1</th>\n",
       "      <td>DEU</td>\n",
       "      <td>3.859</td>\n",
       "      <td>3859.0</td>\n",
       "    </tr>\n",
       "    <tr>\n",
       "      <th>2</th>\n",
       "      <td>CHN</td>\n",
       "      <td>10.380</td>\n",
       "      <td>10380.0</td>\n",
       "    </tr>\n",
       "  </tbody>\n",
       "</table>\n",
       "</div>"
      ],
      "text/plain": [
       "  country     gdp  billions\n",
       "0     USA  17.418   17418.0\n",
       "1     DEU   3.859    3859.0\n",
       "2     CHN  10.380   10380.0"
      ]
     },
     "execution_count": 21,
     "metadata": {},
     "output_type": "execute_result"
    }
   ],
   "source": [
    "gdp_df.head(3)"
   ]
  },
  {
   "cell_type": "markdown",
   "metadata": {},
   "source": [
    "It looks like we're going to be matching up **`countrycode`** from `df` with **`country`** from `gdp_df`.\n",
    "\n",
    "### STEP TWO: Doing the merge\n",
    "\n",
    "You merge using **`.merge`**, and then give two parameters: \n",
    "\n",
    "* **`left_on`**, the first dataframe's column name to merge on\n",
    "* **`right_on`**, the second dataframe's column name to merge on"
   ]
  },
  {
   "cell_type": "code",
   "execution_count": null,
   "metadata": {
    "collapsed": true
   },
   "outputs": [],
   "source": [
    "# we are matching up:\n",
    "#countrycode from recent to country from gdp_df"
   ]
  },
  {
   "cell_type": "code",
   "execution_count": 24,
   "metadata": {
    "collapsed": false
   },
   "outputs": [
    {
     "data": {
      "text/html": [
       "<div>\n",
       "<table border=\"1\" class=\"dataframe\">\n",
       "  <thead>\n",
       "    <tr style=\"text-align: right;\">\n",
       "      <th></th>\n",
       "      <th>name</th>\n",
       "      <th>countrycode</th>\n",
       "      <th>networthusbillion</th>\n",
       "      <th>country</th>\n",
       "      <th>gdp</th>\n",
       "      <th>billions</th>\n",
       "    </tr>\n",
       "  </thead>\n",
       "  <tbody>\n",
       "    <tr>\n",
       "      <th>0</th>\n",
       "      <td>A. Jerrold Perenchio</td>\n",
       "      <td>USA</td>\n",
       "      <td>2.6</td>\n",
       "      <td>USA</td>\n",
       "      <td>17.418</td>\n",
       "      <td>17418.0</td>\n",
       "    </tr>\n",
       "    <tr>\n",
       "      <th>1</th>\n",
       "      <td>Abigail Johnson</td>\n",
       "      <td>USA</td>\n",
       "      <td>17.3</td>\n",
       "      <td>USA</td>\n",
       "      <td>17.418</td>\n",
       "      <td>17418.0</td>\n",
       "    </tr>\n",
       "    <tr>\n",
       "      <th>2</th>\n",
       "      <td>Aerin Lauder Zinterhofer</td>\n",
       "      <td>USA</td>\n",
       "      <td>1.1</td>\n",
       "      <td>USA</td>\n",
       "      <td>17.418</td>\n",
       "      <td>17418.0</td>\n",
       "    </tr>\n",
       "    <tr>\n",
       "      <th>3</th>\n",
       "      <td>Alan Gerry</td>\n",
       "      <td>USA</td>\n",
       "      <td>1.4</td>\n",
       "      <td>USA</td>\n",
       "      <td>17.418</td>\n",
       "      <td>17418.0</td>\n",
       "    </tr>\n",
       "    <tr>\n",
       "      <th>4</th>\n",
       "      <td>Alec Gores</td>\n",
       "      <td>USA</td>\n",
       "      <td>2.0</td>\n",
       "      <td>USA</td>\n",
       "      <td>17.418</td>\n",
       "      <td>17418.0</td>\n",
       "    </tr>\n",
       "  </tbody>\n",
       "</table>\n",
       "</div>"
      ],
      "text/plain": [
       "                       name countrycode  networthusbillion country     gdp  \\\n",
       "0      A. Jerrold Perenchio         USA                2.6     USA  17.418   \n",
       "1           Abigail Johnson         USA               17.3     USA  17.418   \n",
       "2  Aerin Lauder Zinterhofer         USA                1.1     USA  17.418   \n",
       "3                Alan Gerry         USA                1.4     USA  17.418   \n",
       "4                Alec Gores         USA                2.0     USA  17.418   \n",
       "\n",
       "   billions  \n",
       "0   17418.0  \n",
       "1   17418.0  \n",
       "2   17418.0  \n",
       "3   17418.0  \n",
       "4   17418.0  "
      ]
     },
     "execution_count": 24,
     "metadata": {},
     "output_type": "execute_result"
    }
   ],
   "source": [
    "merged=recent.merge(gdp_df, left_on=\"countrycode\", right_on=\"country\")\n",
    "merged.head()"
   ]
  },
  {
   "cell_type": "code",
   "execution_count": 25,
   "metadata": {
    "collapsed": false
   },
   "outputs": [
    {
     "data": {
      "text/plain": [
       "10"
      ]
     },
     "execution_count": 25,
     "metadata": {},
     "output_type": "execute_result"
    }
   ],
   "source": [
    "len(gdp_df) #len counts the number of columns in a table frame gdp_df"
   ]
  },
  {
   "cell_type": "code",
   "execution_count": 48,
   "metadata": {
    "collapsed": false
   },
   "outputs": [
    {
     "data": {
      "text/html": [
       "<div>\n",
       "<table border=\"1\" class=\"dataframe\">\n",
       "  <thead>\n",
       "    <tr style=\"text-align: right;\">\n",
       "      <th></th>\n",
       "      <th>country</th>\n",
       "      <th>gdp</th>\n",
       "      <th>billions</th>\n",
       "    </tr>\n",
       "  </thead>\n",
       "  <tbody>\n",
       "    <tr>\n",
       "      <th>0</th>\n",
       "      <td>USA</td>\n",
       "      <td>17.418</td>\n",
       "      <td>17418.0</td>\n",
       "    </tr>\n",
       "    <tr>\n",
       "      <th>1</th>\n",
       "      <td>DEU</td>\n",
       "      <td>3.859</td>\n",
       "      <td>3859.0</td>\n",
       "    </tr>\n",
       "    <tr>\n",
       "      <th>2</th>\n",
       "      <td>CHN</td>\n",
       "      <td>10.380</td>\n",
       "      <td>10380.0</td>\n",
       "    </tr>\n",
       "    <tr>\n",
       "      <th>3</th>\n",
       "      <td>RUS</td>\n",
       "      <td>1.857</td>\n",
       "      <td>1857.0</td>\n",
       "    </tr>\n",
       "    <tr>\n",
       "      <th>4</th>\n",
       "      <td>JPN</td>\n",
       "      <td>4.616</td>\n",
       "      <td>4616.0</td>\n",
       "    </tr>\n",
       "    <tr>\n",
       "      <th>5</th>\n",
       "      <td>BRA</td>\n",
       "      <td>2.353</td>\n",
       "      <td>2353.0</td>\n",
       "    </tr>\n",
       "    <tr>\n",
       "      <th>6</th>\n",
       "      <td>HKG</td>\n",
       "      <td>0.289</td>\n",
       "      <td>289.0</td>\n",
       "    </tr>\n",
       "    <tr>\n",
       "      <th>7</th>\n",
       "      <td>FRA</td>\n",
       "      <td>2.846</td>\n",
       "      <td>2846.0</td>\n",
       "    </tr>\n",
       "    <tr>\n",
       "      <th>8</th>\n",
       "      <td>GBR</td>\n",
       "      <td>2.945</td>\n",
       "      <td>2945.0</td>\n",
       "    </tr>\n",
       "    <tr>\n",
       "      <th>9</th>\n",
       "      <td>IND</td>\n",
       "      <td>2.049</td>\n",
       "      <td>2049.0</td>\n",
       "    </tr>\n",
       "  </tbody>\n",
       "</table>\n",
       "</div>"
      ],
      "text/plain": [
       "  country     gdp  billions\n",
       "0     USA  17.418   17418.0\n",
       "1     DEU   3.859    3859.0\n",
       "2     CHN  10.380   10380.0\n",
       "3     RUS   1.857    1857.0\n",
       "4     JPN   4.616    4616.0\n",
       "5     BRA   2.353    2353.0\n",
       "6     HKG   0.289     289.0\n",
       "7     FRA   2.846    2846.0\n",
       "8     GBR   2.945    2945.0\n",
       "9     IND   2.049    2049.0"
      ]
     },
     "execution_count": 48,
     "metadata": {},
     "output_type": "execute_result"
    }
   ],
   "source": [
    "gdp_df"
   ]
  },
  {
   "cell_type": "raw",
   "metadata": {
    "collapsed": false
   },
   "source": [
    "recent['countrycode'].describe()"
   ]
  },
  {
   "cell_type": "code",
   "execution_count": 26,
   "metadata": {
    "collapsed": false
   },
   "outputs": [
    {
     "data": {
      "text/html": [
       "<div>\n",
       "<table border=\"1\" class=\"dataframe\">\n",
       "  <thead>\n",
       "    <tr style=\"text-align: right;\">\n",
       "      <th></th>\n",
       "      <th>name</th>\n",
       "      <th>countrycode</th>\n",
       "      <th>networthusbillion</th>\n",
       "      <th>country</th>\n",
       "      <th>gdp</th>\n",
       "      <th>billions</th>\n",
       "    </tr>\n",
       "  </thead>\n",
       "  <tbody>\n",
       "  </tbody>\n",
       "</table>\n",
       "</div>"
      ],
      "text/plain": [
       "Empty DataFrame\n",
       "Columns: [name, countrycode, networthusbillion, country, gdp, billions]\n",
       "Index: []"
      ]
     },
     "execution_count": 26,
     "metadata": {},
     "output_type": "execute_result"
    }
   ],
   "source": [
    "merged[merged['countrycode']=='SAU']"
   ]
  },
  {
   "cell_type": "code",
   "execution_count": 27,
   "metadata": {
    "collapsed": false
   },
   "outputs": [
    {
     "data": {
      "text/html": [
       "<div>\n",
       "<table border=\"1\" class=\"dataframe\">\n",
       "  <thead>\n",
       "    <tr style=\"text-align: right;\">\n",
       "      <th></th>\n",
       "      <th>name</th>\n",
       "      <th>countrycode</th>\n",
       "      <th>networthusbillion</th>\n",
       "    </tr>\n",
       "  </thead>\n",
       "  <tbody>\n",
       "    <tr>\n",
       "      <th>8</th>\n",
       "      <td>Abdullah Al Rajhi</td>\n",
       "      <td>SAU</td>\n",
       "      <td>2.4</td>\n",
       "    </tr>\n",
       "    <tr>\n",
       "      <th>1711</th>\n",
       "      <td>Mohammad Al Amoudi</td>\n",
       "      <td>SAU</td>\n",
       "      <td>15.3</td>\n",
       "    </tr>\n",
       "    <tr>\n",
       "      <th>1713</th>\n",
       "      <td>Mohammed Al Issa</td>\n",
       "      <td>SAU</td>\n",
       "      <td>3.1</td>\n",
       "    </tr>\n",
       "    <tr>\n",
       "      <th>1902</th>\n",
       "      <td>Prince Alwaleed Bin Talal Alsaud</td>\n",
       "      <td>SAU</td>\n",
       "      <td>20.4</td>\n",
       "    </tr>\n",
       "    <tr>\n",
       "      <th>1903</th>\n",
       "      <td>Prince Sultan bin Mohammed bin Saud Al Kabeer</td>\n",
       "      <td>SAU</td>\n",
       "      <td>3.5</td>\n",
       "    </tr>\n",
       "    <tr>\n",
       "      <th>2125</th>\n",
       "      <td>Saleh Kamel</td>\n",
       "      <td>SAU</td>\n",
       "      <td>2.4</td>\n",
       "    </tr>\n",
       "    <tr>\n",
       "      <th>2292</th>\n",
       "      <td>Sulaiman Al Rajhi</td>\n",
       "      <td>SAU</td>\n",
       "      <td>1.9</td>\n",
       "    </tr>\n",
       "  </tbody>\n",
       "</table>\n",
       "</div>"
      ],
      "text/plain": [
       "                                               name countrycode  \\\n",
       "8                                 Abdullah Al Rajhi         SAU   \n",
       "1711                             Mohammad Al Amoudi         SAU   \n",
       "1713                               Mohammed Al Issa         SAU   \n",
       "1902               Prince Alwaleed Bin Talal Alsaud         SAU   \n",
       "1903  Prince Sultan bin Mohammed bin Saud Al Kabeer         SAU   \n",
       "2125                                    Saleh Kamel         SAU   \n",
       "2292                              Sulaiman Al Rajhi         SAU   \n",
       "\n",
       "      networthusbillion  \n",
       "8                   2.4  \n",
       "1711               15.3  \n",
       "1713                3.1  \n",
       "1902               20.4  \n",
       "1903                3.5  \n",
       "2125                2.4  \n",
       "2292                1.9  "
      ]
     },
     "execution_count": 27,
     "metadata": {},
     "output_type": "execute_result"
    }
   ],
   "source": [
    "recent[recent['countrycode']=='SAU']"
   ]
  },
  {
   "cell_type": "markdown",
   "metadata": {},
   "source": [
    "### when we merged, we didn't have a gdp for Saudi Arabi, as a result, we got rid of all of the billionaires who were from Saudi Arabi because we didn't have a match for them"
   ]
  },
  {
   "cell_type": "code",
   "execution_count": 28,
   "metadata": {
    "collapsed": false
   },
   "outputs": [
    {
     "data": {
      "text/plain": [
       "1653"
      ]
     },
     "execution_count": 28,
     "metadata": {},
     "output_type": "execute_result"
    }
   ],
   "source": [
    "len(recent)"
   ]
  },
  {
   "cell_type": "code",
   "execution_count": 29,
   "metadata": {
    "collapsed": false
   },
   "outputs": [
    {
     "data": {
      "text/plain": [
       "1130"
      ]
     },
     "execution_count": 29,
     "metadata": {},
     "output_type": "execute_result"
    }
   ],
   "source": [
    "len(merged)"
   ]
  },
  {
   "cell_type": "code",
   "execution_count": 30,
   "metadata": {
    "collapsed": false
   },
   "outputs": [
    {
     "data": {
      "text/html": [
       "<div>\n",
       "<table border=\"1\" class=\"dataframe\">\n",
       "  <thead>\n",
       "    <tr style=\"text-align: right;\">\n",
       "      <th></th>\n",
       "      <th>name</th>\n",
       "      <th>countrycode</th>\n",
       "      <th>networthusbillion</th>\n",
       "      <th>country</th>\n",
       "      <th>gdp</th>\n",
       "      <th>billions</th>\n",
       "    </tr>\n",
       "  </thead>\n",
       "  <tbody>\n",
       "    <tr>\n",
       "      <th>0</th>\n",
       "      <td>A. Jerrold Perenchio</td>\n",
       "      <td>USA</td>\n",
       "      <td>2.6</td>\n",
       "      <td>USA</td>\n",
       "      <td>17.418</td>\n",
       "      <td>17418.0</td>\n",
       "    </tr>\n",
       "    <tr>\n",
       "      <th>1</th>\n",
       "      <td>Abdulla Al Futtaim</td>\n",
       "      <td>ARE</td>\n",
       "      <td>2.5</td>\n",
       "      <td>NaN</td>\n",
       "      <td>NaN</td>\n",
       "      <td>NaN</td>\n",
       "    </tr>\n",
       "    <tr>\n",
       "      <th>2</th>\n",
       "      <td>Abdulla bin Ahmad Al Ghurair</td>\n",
       "      <td>ARE</td>\n",
       "      <td>4.8</td>\n",
       "      <td>NaN</td>\n",
       "      <td>NaN</td>\n",
       "      <td>NaN</td>\n",
       "    </tr>\n",
       "    <tr>\n",
       "      <th>3</th>\n",
       "      <td>Abdullah Al Rajhi</td>\n",
       "      <td>SAU</td>\n",
       "      <td>2.4</td>\n",
       "      <td>NaN</td>\n",
       "      <td>NaN</td>\n",
       "      <td>NaN</td>\n",
       "    </tr>\n",
       "    <tr>\n",
       "      <th>4</th>\n",
       "      <td>Abdulsamad Rabiu</td>\n",
       "      <td>NGA</td>\n",
       "      <td>1.2</td>\n",
       "      <td>NaN</td>\n",
       "      <td>NaN</td>\n",
       "      <td>NaN</td>\n",
       "    </tr>\n",
       "  </tbody>\n",
       "</table>\n",
       "</div>"
      ],
      "text/plain": [
       "                           name countrycode  networthusbillion country  \\\n",
       "0          A. Jerrold Perenchio         USA                2.6     USA   \n",
       "1            Abdulla Al Futtaim         ARE                2.5     NaN   \n",
       "2  Abdulla bin Ahmad Al Ghurair         ARE                4.8     NaN   \n",
       "3             Abdullah Al Rajhi         SAU                2.4     NaN   \n",
       "4              Abdulsamad Rabiu         NGA                1.2     NaN   \n",
       "\n",
       "      gdp  billions  \n",
       "0  17.418   17418.0  \n",
       "1     NaN       NaN  \n",
       "2     NaN       NaN  \n",
       "3     NaN       NaN  \n",
       "4     NaN       NaN  "
      ]
     },
     "execution_count": 30,
     "metadata": {},
     "output_type": "execute_result"
    }
   ],
   "source": [
    "# A left join will allow you to have empty non-matching values so we'll have our Saudis back\n",
    "left_merged = recent.merge(gdp_df, how=\"left\", left_on=\"countrycode\", right_on=\"country\")\n",
    "# on = 'country'\n",
    "left_merged.head()"
   ]
  },
  {
   "cell_type": "code",
   "execution_count": null,
   "metadata": {
    "collapsed": true
   },
   "outputs": [],
   "source": [
    "#!= not equal"
   ]
  },
  {
   "cell_type": "code",
   "execution_count": 31,
   "metadata": {
    "collapsed": false
   },
   "outputs": [
    {
     "data": {
      "text/html": [
       "<div>\n",
       "<table border=\"1\" class=\"dataframe\">\n",
       "  <thead>\n",
       "    <tr style=\"text-align: right;\">\n",
       "      <th></th>\n",
       "      <th>name</th>\n",
       "      <th>countrycode</th>\n",
       "      <th>networthusbillion</th>\n",
       "      <th>country</th>\n",
       "      <th>gdp</th>\n",
       "      <th>billions</th>\n",
       "    </tr>\n",
       "  </thead>\n",
       "  <tbody>\n",
       "    <tr>\n",
       "      <th>0</th>\n",
       "      <td>A. Jerrold Perenchio</td>\n",
       "      <td>USA</td>\n",
       "      <td>2.6</td>\n",
       "      <td>USA</td>\n",
       "      <td>17.418</td>\n",
       "      <td>17418.0</td>\n",
       "    </tr>\n",
       "    <tr>\n",
       "      <th>5</th>\n",
       "      <td>Abigail Johnson</td>\n",
       "      <td>USA</td>\n",
       "      <td>17.3</td>\n",
       "      <td>USA</td>\n",
       "      <td>17.418</td>\n",
       "      <td>17418.0</td>\n",
       "    </tr>\n",
       "    <tr>\n",
       "      <th>6</th>\n",
       "      <td>Abilio dos Santos Diniz</td>\n",
       "      <td>BRA</td>\n",
       "      <td>2.8</td>\n",
       "      <td>BRA</td>\n",
       "      <td>2.353</td>\n",
       "      <td>2353.0</td>\n",
       "    </tr>\n",
       "    <tr>\n",
       "      <th>8</th>\n",
       "      <td>Adi Godrej</td>\n",
       "      <td>IND</td>\n",
       "      <td>3.5</td>\n",
       "      <td>IND</td>\n",
       "      <td>2.049</td>\n",
       "      <td>2049.0</td>\n",
       "    </tr>\n",
       "    <tr>\n",
       "      <th>9</th>\n",
       "      <td>Aerin Lauder Zinterhofer</td>\n",
       "      <td>USA</td>\n",
       "      <td>1.1</td>\n",
       "      <td>USA</td>\n",
       "      <td>17.418</td>\n",
       "      <td>17418.0</td>\n",
       "    </tr>\n",
       "  </tbody>\n",
       "</table>\n",
       "</div>"
      ],
      "text/plain": [
       "                       name countrycode  networthusbillion country     gdp  \\\n",
       "0      A. Jerrold Perenchio         USA                2.6     USA  17.418   \n",
       "5           Abigail Johnson         USA               17.3     USA  17.418   \n",
       "6   Abilio dos Santos Diniz         BRA                2.8     BRA   2.353   \n",
       "8                Adi Godrej         IND                3.5     IND   2.049   \n",
       "9  Aerin Lauder Zinterhofer         USA                1.1     USA  17.418   \n",
       "\n",
       "   billions  \n",
       "0   17418.0  \n",
       "5   17418.0  \n",
       "6    2353.0  \n",
       "8    2049.0  \n",
       "9   17418.0  "
      ]
     },
     "execution_count": 31,
     "metadata": {},
     "output_type": "execute_result"
    }
   ],
   "source": [
    "# .isnull will tell you if something is NaN or not\n",
    "left_merged['billions'].isnull()\n",
    "# or use.notnull() to pull out the ones where the value is not missing\n",
    "only_people_with_gdps = left_merged[left_merged['billions'].notnull()]\n",
    "only_people_with_gdps.head()"
   ]
  },
  {
   "cell_type": "markdown",
   "metadata": {},
   "source": [
    "Hmmm see how rank skips through 1, 4, 5, 6, 6? This is because **we only kept rows we have matches for**. The second wealthiest person is from Mexico, but since we didn't have GDP from Mexico it left. You can see if we just do a simple `.count()`"
   ]
  },
  {
   "cell_type": "code",
   "execution_count": null,
   "metadata": {
    "collapsed": false
   },
   "outputs": [],
   "source": []
  },
  {
   "cell_type": "code",
   "execution_count": null,
   "metadata": {
    "collapsed": false
   },
   "outputs": [],
   "source": []
  },
  {
   "cell_type": "markdown",
   "metadata": {},
   "source": [
    "We lost like 500 people! Maybe even if we don't have the GDP of their country we want to keep them?\n",
    "\n",
    "### Types of joins\n",
    "\n",
    "Let's just look at our data real quick before I explain the two major types of joins."
   ]
  },
  {
   "cell_type": "code",
   "execution_count": null,
   "metadata": {
    "collapsed": false
   },
   "outputs": [],
   "source": []
  },
  {
   "cell_type": "markdown",
   "metadata": {},
   "source": [
    "### Inner joins\n",
    "\n",
    "The default kind of join is an **inner** join. It requires you to have a match on the left hand side AND the right hand side.\n",
    "\n",
    "**If you're in the original dataframe and you don't have a match in the joining dataframe, you disappear.** Watch how Carlos \"Slim\" Helu and Amancio Ortega both disappear. "
   ]
  },
  {
   "cell_type": "code",
   "execution_count": null,
   "metadata": {
    "collapsed": false
   },
   "outputs": [],
   "source": []
  },
  {
   "cell_type": "markdown",
   "metadata": {},
   "source": [
    "### Left join\n",
    "\n",
    "The other major kind of join is a **left join**. The \"left\" dataframe (the one you type first), gets to keep its rows, even if there aren't any matches in the joining dataframe."
   ]
  },
  {
   "cell_type": "code",
   "execution_count": 33,
   "metadata": {
    "collapsed": true
   },
   "outputs": [],
   "source": [
    "import pandas as pd"
   ]
  },
  {
   "cell_type": "code",
   "execution_count": 40,
   "metadata": {
    "collapsed": false
   },
   "outputs": [
    {
     "data": {
      "text/html": [
       "<div>\n",
       "<table border=\"1\" class=\"dataframe\">\n",
       "  <thead>\n",
       "    <tr style=\"text-align: right;\">\n",
       "      <th></th>\n",
       "      <th>Name</th>\n",
       "      <th>Age</th>\n",
       "      <th>Team</th>\n",
       "      <th>POS</th>\n",
       "      <th>#</th>\n",
       "      <th>2013 $</th>\n",
       "      <th>Ht (In.)</th>\n",
       "      <th>WT</th>\n",
       "      <th>EXP</th>\n",
       "      <th>1st Year</th>\n",
       "      <th>DOB</th>\n",
       "      <th>School</th>\n",
       "      <th>City</th>\n",
       "      <th>State (Province, Territory, Etc..)</th>\n",
       "      <th>Country</th>\n",
       "      <th>Race</th>\n",
       "      <th>HS Only</th>\n",
       "    </tr>\n",
       "  </thead>\n",
       "  <tbody>\n",
       "    <tr>\n",
       "      <th>0</th>\n",
       "      <td>Gee, Alonzo</td>\n",
       "      <td>26</td>\n",
       "      <td>Cavaliers</td>\n",
       "      <td>F</td>\n",
       "      <td>33</td>\n",
       "      <td>$3,250,000</td>\n",
       "      <td>78</td>\n",
       "      <td>219</td>\n",
       "      <td>4</td>\n",
       "      <td>2009</td>\n",
       "      <td>5/29/1987</td>\n",
       "      <td>Alabama</td>\n",
       "      <td>Riviera Beach, FL</td>\n",
       "      <td>Florida</td>\n",
       "      <td>US</td>\n",
       "      <td>Black</td>\n",
       "      <td>No</td>\n",
       "    </tr>\n",
       "    <tr>\n",
       "      <th>1</th>\n",
       "      <td>Wallace, Gerald</td>\n",
       "      <td>31</td>\n",
       "      <td>Celtics</td>\n",
       "      <td>F</td>\n",
       "      <td>45</td>\n",
       "      <td>$10,105,855</td>\n",
       "      <td>79</td>\n",
       "      <td>220</td>\n",
       "      <td>12</td>\n",
       "      <td>2001</td>\n",
       "      <td>7/23/1982</td>\n",
       "      <td>Alabama</td>\n",
       "      <td>Sylacauga, AL</td>\n",
       "      <td>Alabama</td>\n",
       "      <td>US</td>\n",
       "      <td>Black</td>\n",
       "      <td>No</td>\n",
       "    </tr>\n",
       "    <tr>\n",
       "      <th>2</th>\n",
       "      <td>Williams, Mo</td>\n",
       "      <td>30</td>\n",
       "      <td>Trail Blazers</td>\n",
       "      <td>G</td>\n",
       "      <td>25</td>\n",
       "      <td>$2,652,000</td>\n",
       "      <td>73</td>\n",
       "      <td>195</td>\n",
       "      <td>10</td>\n",
       "      <td>2003</td>\n",
       "      <td>12/19/1982</td>\n",
       "      <td>Alabama</td>\n",
       "      <td>Jackson, MS</td>\n",
       "      <td>Mississippi</td>\n",
       "      <td>US</td>\n",
       "      <td>Black</td>\n",
       "      <td>No</td>\n",
       "    </tr>\n",
       "    <tr>\n",
       "      <th>3</th>\n",
       "      <td>Gladness, Mickell</td>\n",
       "      <td>27</td>\n",
       "      <td>Magic</td>\n",
       "      <td>C</td>\n",
       "      <td>40</td>\n",
       "      <td>$762,195</td>\n",
       "      <td>83</td>\n",
       "      <td>220</td>\n",
       "      <td>2</td>\n",
       "      <td>2011</td>\n",
       "      <td>7/26/1986</td>\n",
       "      <td>Alabama A&amp;M</td>\n",
       "      <td>Birmingham, AL</td>\n",
       "      <td>Alabama</td>\n",
       "      <td>US</td>\n",
       "      <td>Black</td>\n",
       "      <td>No</td>\n",
       "    </tr>\n",
       "    <tr>\n",
       "      <th>4</th>\n",
       "      <td>Jefferson, Richard</td>\n",
       "      <td>33</td>\n",
       "      <td>Jazz</td>\n",
       "      <td>F</td>\n",
       "      <td>44</td>\n",
       "      <td>$11,046,000</td>\n",
       "      <td>79</td>\n",
       "      <td>230</td>\n",
       "      <td>12</td>\n",
       "      <td>2001</td>\n",
       "      <td>6/21/1980</td>\n",
       "      <td>Arizona</td>\n",
       "      <td>Los Angeles, CA</td>\n",
       "      <td>California</td>\n",
       "      <td>US</td>\n",
       "      <td>Black</td>\n",
       "      <td>No</td>\n",
       "    </tr>\n",
       "  </tbody>\n",
       "</table>\n",
       "</div>"
      ],
      "text/plain": [
       "                 Name  Age           Team POS   #       2013 $  Ht (In.)   WT  \\\n",
       "0         Gee, Alonzo   26      Cavaliers   F  33   $3,250,000        78  219   \n",
       "1     Wallace, Gerald   31        Celtics   F  45  $10,105,855        79  220   \n",
       "2        Williams, Mo   30  Trail Blazers   G  25   $2,652,000        73  195   \n",
       "3   Gladness, Mickell   27          Magic   C  40     $762,195        83  220   \n",
       "4  Jefferson, Richard   33           Jazz   F  44  $11,046,000        79  230   \n",
       "\n",
       "   EXP  1st Year         DOB       School               City  \\\n",
       "0    4      2009   5/29/1987      Alabama  Riviera Beach, FL   \n",
       "1   12      2001   7/23/1982      Alabama      Sylacauga, AL   \n",
       "2   10      2003  12/19/1982      Alabama        Jackson, MS   \n",
       "3    2      2011   7/26/1986  Alabama A&M     Birmingham, AL   \n",
       "4   12      2001   6/21/1980      Arizona    Los Angeles, CA   \n",
       "\n",
       "  State (Province, Territory, Etc..) Country   Race HS Only  \n",
       "0                            Florida      US  Black      No  \n",
       "1                            Alabama      US  Black      No  \n",
       "2                        Mississippi      US  Black      No  \n",
       "3                            Alabama      US  Black      No  \n",
       "4                         California      US  Black      No  "
      ]
     },
     "execution_count": 40,
     "metadata": {},
     "output_type": "execute_result"
    }
   ],
   "source": [
    "nba = pd.read_csv(\"NBA-Census-10.14.2013.csv\", encoding='mac_roman')\n",
    "nba.head()"
   ]
  },
  {
   "cell_type": "code",
   "execution_count": null,
   "metadata": {
    "collapsed": true
   },
   "outputs": [],
   "source": [
    "#\\n: start a new line"
   ]
  },
  {
   "cell_type": "code",
   "execution_count": null,
   "metadata": {
    "collapsed": true
   },
   "outputs": [],
   "source": []
  },
  {
   "cell_type": "code",
   "execution_count": null,
   "metadata": {
    "collapsed": true
   },
   "outputs": [],
   "source": []
  },
  {
   "cell_type": "code",
   "execution_count": 47,
   "metadata": {
    "collapsed": false
   },
   "outputs": [
    {
     "ename": "KeyError",
     "evalue": "'2013$'",
     "output_type": "error",
     "traceback": [
      "\u001b[0;31m---------------------------------------------------------------------------\u001b[0m",
      "\u001b[0;31mKeyError\u001b[0m                                  Traceback (most recent call last)",
      "\u001b[0;32m/Users/sz2472/.virtualenvs/pandas/lib/python3.5/site-packages/pandas/indexes/base.py\u001b[0m in \u001b[0;36mget_loc\u001b[0;34m(self, key, method, tolerance)\u001b[0m\n\u001b[1;32m   1944\u001b[0m             \u001b[0;32mtry\u001b[0m\u001b[0;34m:\u001b[0m\u001b[0;34m\u001b[0m\u001b[0m\n\u001b[0;32m-> 1945\u001b[0;31m                 \u001b[0;32mreturn\u001b[0m \u001b[0mself\u001b[0m\u001b[0;34m.\u001b[0m\u001b[0m_engine\u001b[0m\u001b[0;34m.\u001b[0m\u001b[0mget_loc\u001b[0m\u001b[0;34m(\u001b[0m\u001b[0mkey\u001b[0m\u001b[0;34m)\u001b[0m\u001b[0;34m\u001b[0m\u001b[0m\n\u001b[0m\u001b[1;32m   1946\u001b[0m             \u001b[0;32mexcept\u001b[0m \u001b[0mKeyError\u001b[0m\u001b[0;34m:\u001b[0m\u001b[0;34m\u001b[0m\u001b[0m\n",
      "\u001b[0;32mpandas/index.pyx\u001b[0m in \u001b[0;36mpandas.index.IndexEngine.get_loc (pandas/index.c:4154)\u001b[0;34m()\u001b[0m\n",
      "\u001b[0;32mpandas/index.pyx\u001b[0m in \u001b[0;36mpandas.index.IndexEngine.get_loc (pandas/index.c:4018)\u001b[0;34m()\u001b[0m\n",
      "\u001b[0;32mpandas/hashtable.pyx\u001b[0m in \u001b[0;36mpandas.hashtable.PyObjectHashTable.get_item (pandas/hashtable.c:12368)\u001b[0;34m()\u001b[0m\n",
      "\u001b[0;32mpandas/hashtable.pyx\u001b[0m in \u001b[0;36mpandas.hashtable.PyObjectHashTable.get_item (pandas/hashtable.c:12322)\u001b[0;34m()\u001b[0m\n",
      "\u001b[0;31mKeyError\u001b[0m: '2013$'",
      "\nDuring handling of the above exception, another exception occurred:\n",
      "\u001b[0;31mKeyError\u001b[0m                                  Traceback (most recent call last)",
      "\u001b[0;32m<ipython-input-47-4ac2b2f65e1d>\u001b[0m in \u001b[0;36m<module>\u001b[0;34m()\u001b[0m\n\u001b[0;32m----> 1\u001b[0;31m \u001b[0mnba\u001b[0m\u001b[0;34m.\u001b[0m\u001b[0msort_values\u001b[0m\u001b[0;34m(\u001b[0m\u001b[0mby\u001b[0m \u001b[0;34m=\u001b[0m\u001b[0;34m'2013$'\u001b[0m\u001b[0;34m)\u001b[0m\u001b[0;34m\u001b[0m\u001b[0m\n\u001b[0m",
      "\u001b[0;32m/Users/sz2472/.virtualenvs/pandas/lib/python3.5/site-packages/pandas/core/frame.py\u001b[0m in \u001b[0;36msort_values\u001b[0;34m(self, by, axis, ascending, inplace, kind, na_position)\u001b[0m\n\u001b[1;32m   3149\u001b[0m \u001b[0;34m\u001b[0m\u001b[0m\n\u001b[1;32m   3150\u001b[0m             \u001b[0mby\u001b[0m \u001b[0;34m=\u001b[0m \u001b[0mby\u001b[0m\u001b[0;34m[\u001b[0m\u001b[0;36m0\u001b[0m\u001b[0;34m]\u001b[0m\u001b[0;34m\u001b[0m\u001b[0m\n\u001b[0;32m-> 3151\u001b[0;31m             \u001b[0mk\u001b[0m \u001b[0;34m=\u001b[0m \u001b[0mself\u001b[0m\u001b[0;34m[\u001b[0m\u001b[0mby\u001b[0m\u001b[0;34m]\u001b[0m\u001b[0;34m.\u001b[0m\u001b[0mvalues\u001b[0m\u001b[0;34m\u001b[0m\u001b[0m\n\u001b[0m\u001b[1;32m   3152\u001b[0m             \u001b[0;32mif\u001b[0m \u001b[0mk\u001b[0m\u001b[0;34m.\u001b[0m\u001b[0mndim\u001b[0m \u001b[0;34m==\u001b[0m \u001b[0;36m2\u001b[0m\u001b[0;34m:\u001b[0m\u001b[0;34m\u001b[0m\u001b[0m\n\u001b[1;32m   3153\u001b[0m \u001b[0;34m\u001b[0m\u001b[0m\n",
      "\u001b[0;32m/Users/sz2472/.virtualenvs/pandas/lib/python3.5/site-packages/pandas/core/frame.py\u001b[0m in \u001b[0;36m__getitem__\u001b[0;34m(self, key)\u001b[0m\n\u001b[1;32m   1995\u001b[0m             \u001b[0;32mreturn\u001b[0m \u001b[0mself\u001b[0m\u001b[0;34m.\u001b[0m\u001b[0m_getitem_multilevel\u001b[0m\u001b[0;34m(\u001b[0m\u001b[0mkey\u001b[0m\u001b[0;34m)\u001b[0m\u001b[0;34m\u001b[0m\u001b[0m\n\u001b[1;32m   1996\u001b[0m         \u001b[0;32melse\u001b[0m\u001b[0;34m:\u001b[0m\u001b[0;34m\u001b[0m\u001b[0m\n\u001b[0;32m-> 1997\u001b[0;31m             \u001b[0;32mreturn\u001b[0m \u001b[0mself\u001b[0m\u001b[0;34m.\u001b[0m\u001b[0m_getitem_column\u001b[0m\u001b[0;34m(\u001b[0m\u001b[0mkey\u001b[0m\u001b[0;34m)\u001b[0m\u001b[0;34m\u001b[0m\u001b[0m\n\u001b[0m\u001b[1;32m   1998\u001b[0m \u001b[0;34m\u001b[0m\u001b[0m\n\u001b[1;32m   1999\u001b[0m     \u001b[0;32mdef\u001b[0m \u001b[0m_getitem_column\u001b[0m\u001b[0;34m(\u001b[0m\u001b[0mself\u001b[0m\u001b[0;34m,\u001b[0m \u001b[0mkey\u001b[0m\u001b[0;34m)\u001b[0m\u001b[0;34m:\u001b[0m\u001b[0;34m\u001b[0m\u001b[0m\n",
      "\u001b[0;32m/Users/sz2472/.virtualenvs/pandas/lib/python3.5/site-packages/pandas/core/frame.py\u001b[0m in \u001b[0;36m_getitem_column\u001b[0;34m(self, key)\u001b[0m\n\u001b[1;32m   2002\u001b[0m         \u001b[0;31m# get column\u001b[0m\u001b[0;34m\u001b[0m\u001b[0;34m\u001b[0m\u001b[0m\n\u001b[1;32m   2003\u001b[0m         \u001b[0;32mif\u001b[0m \u001b[0mself\u001b[0m\u001b[0;34m.\u001b[0m\u001b[0mcolumns\u001b[0m\u001b[0;34m.\u001b[0m\u001b[0mis_unique\u001b[0m\u001b[0;34m:\u001b[0m\u001b[0;34m\u001b[0m\u001b[0m\n\u001b[0;32m-> 2004\u001b[0;31m             \u001b[0;32mreturn\u001b[0m \u001b[0mself\u001b[0m\u001b[0;34m.\u001b[0m\u001b[0m_get_item_cache\u001b[0m\u001b[0;34m(\u001b[0m\u001b[0mkey\u001b[0m\u001b[0;34m)\u001b[0m\u001b[0;34m\u001b[0m\u001b[0m\n\u001b[0m\u001b[1;32m   2005\u001b[0m \u001b[0;34m\u001b[0m\u001b[0m\n\u001b[1;32m   2006\u001b[0m         \u001b[0;31m# duplicate columns & possible reduce dimensionality\u001b[0m\u001b[0;34m\u001b[0m\u001b[0;34m\u001b[0m\u001b[0m\n",
      "\u001b[0;32m/Users/sz2472/.virtualenvs/pandas/lib/python3.5/site-packages/pandas/core/generic.py\u001b[0m in \u001b[0;36m_get_item_cache\u001b[0;34m(self, item)\u001b[0m\n\u001b[1;32m   1348\u001b[0m         \u001b[0mres\u001b[0m \u001b[0;34m=\u001b[0m \u001b[0mcache\u001b[0m\u001b[0;34m.\u001b[0m\u001b[0mget\u001b[0m\u001b[0;34m(\u001b[0m\u001b[0mitem\u001b[0m\u001b[0;34m)\u001b[0m\u001b[0;34m\u001b[0m\u001b[0m\n\u001b[1;32m   1349\u001b[0m         \u001b[0;32mif\u001b[0m \u001b[0mres\u001b[0m \u001b[0;32mis\u001b[0m \u001b[0;32mNone\u001b[0m\u001b[0;34m:\u001b[0m\u001b[0;34m\u001b[0m\u001b[0m\n\u001b[0;32m-> 1350\u001b[0;31m             \u001b[0mvalues\u001b[0m \u001b[0;34m=\u001b[0m \u001b[0mself\u001b[0m\u001b[0;34m.\u001b[0m\u001b[0m_data\u001b[0m\u001b[0;34m.\u001b[0m\u001b[0mget\u001b[0m\u001b[0;34m(\u001b[0m\u001b[0mitem\u001b[0m\u001b[0;34m)\u001b[0m\u001b[0;34m\u001b[0m\u001b[0m\n\u001b[0m\u001b[1;32m   1351\u001b[0m             \u001b[0mres\u001b[0m \u001b[0;34m=\u001b[0m \u001b[0mself\u001b[0m\u001b[0;34m.\u001b[0m\u001b[0m_box_item_values\u001b[0m\u001b[0;34m(\u001b[0m\u001b[0mitem\u001b[0m\u001b[0;34m,\u001b[0m \u001b[0mvalues\u001b[0m\u001b[0;34m)\u001b[0m\u001b[0;34m\u001b[0m\u001b[0m\n\u001b[1;32m   1352\u001b[0m             \u001b[0mcache\u001b[0m\u001b[0;34m[\u001b[0m\u001b[0mitem\u001b[0m\u001b[0;34m]\u001b[0m \u001b[0;34m=\u001b[0m \u001b[0mres\u001b[0m\u001b[0;34m\u001b[0m\u001b[0m\n",
      "\u001b[0;32m/Users/sz2472/.virtualenvs/pandas/lib/python3.5/site-packages/pandas/core/internals.py\u001b[0m in \u001b[0;36mget\u001b[0;34m(self, item, fastpath)\u001b[0m\n\u001b[1;32m   3288\u001b[0m \u001b[0;34m\u001b[0m\u001b[0m\n\u001b[1;32m   3289\u001b[0m             \u001b[0;32mif\u001b[0m \u001b[0;32mnot\u001b[0m \u001b[0misnull\u001b[0m\u001b[0;34m(\u001b[0m\u001b[0mitem\u001b[0m\u001b[0;34m)\u001b[0m\u001b[0;34m:\u001b[0m\u001b[0;34m\u001b[0m\u001b[0m\n\u001b[0;32m-> 3290\u001b[0;31m                 \u001b[0mloc\u001b[0m \u001b[0;34m=\u001b[0m \u001b[0mself\u001b[0m\u001b[0;34m.\u001b[0m\u001b[0mitems\u001b[0m\u001b[0;34m.\u001b[0m\u001b[0mget_loc\u001b[0m\u001b[0;34m(\u001b[0m\u001b[0mitem\u001b[0m\u001b[0;34m)\u001b[0m\u001b[0;34m\u001b[0m\u001b[0m\n\u001b[0m\u001b[1;32m   3291\u001b[0m             \u001b[0;32melse\u001b[0m\u001b[0;34m:\u001b[0m\u001b[0;34m\u001b[0m\u001b[0m\n\u001b[1;32m   3292\u001b[0m                 \u001b[0mindexer\u001b[0m \u001b[0;34m=\u001b[0m \u001b[0mnp\u001b[0m\u001b[0;34m.\u001b[0m\u001b[0marange\u001b[0m\u001b[0;34m(\u001b[0m\u001b[0mlen\u001b[0m\u001b[0;34m(\u001b[0m\u001b[0mself\u001b[0m\u001b[0;34m.\u001b[0m\u001b[0mitems\u001b[0m\u001b[0;34m)\u001b[0m\u001b[0;34m)\u001b[0m\u001b[0;34m[\u001b[0m\u001b[0misnull\u001b[0m\u001b[0;34m(\u001b[0m\u001b[0mself\u001b[0m\u001b[0;34m.\u001b[0m\u001b[0mitems\u001b[0m\u001b[0;34m)\u001b[0m\u001b[0;34m]\u001b[0m\u001b[0;34m\u001b[0m\u001b[0m\n",
      "\u001b[0;32m/Users/sz2472/.virtualenvs/pandas/lib/python3.5/site-packages/pandas/indexes/base.py\u001b[0m in \u001b[0;36mget_loc\u001b[0;34m(self, key, method, tolerance)\u001b[0m\n\u001b[1;32m   1945\u001b[0m                 \u001b[0;32mreturn\u001b[0m \u001b[0mself\u001b[0m\u001b[0;34m.\u001b[0m\u001b[0m_engine\u001b[0m\u001b[0;34m.\u001b[0m\u001b[0mget_loc\u001b[0m\u001b[0;34m(\u001b[0m\u001b[0mkey\u001b[0m\u001b[0;34m)\u001b[0m\u001b[0;34m\u001b[0m\u001b[0m\n\u001b[1;32m   1946\u001b[0m             \u001b[0;32mexcept\u001b[0m \u001b[0mKeyError\u001b[0m\u001b[0;34m:\u001b[0m\u001b[0;34m\u001b[0m\u001b[0m\n\u001b[0;32m-> 1947\u001b[0;31m                 \u001b[0;32mreturn\u001b[0m \u001b[0mself\u001b[0m\u001b[0;34m.\u001b[0m\u001b[0m_engine\u001b[0m\u001b[0;34m.\u001b[0m\u001b[0mget_loc\u001b[0m\u001b[0;34m(\u001b[0m\u001b[0mself\u001b[0m\u001b[0;34m.\u001b[0m\u001b[0m_maybe_cast_indexer\u001b[0m\u001b[0;34m(\u001b[0m\u001b[0mkey\u001b[0m\u001b[0;34m)\u001b[0m\u001b[0;34m)\u001b[0m\u001b[0;34m\u001b[0m\u001b[0m\n\u001b[0m\u001b[1;32m   1948\u001b[0m \u001b[0;34m\u001b[0m\u001b[0m\n\u001b[1;32m   1949\u001b[0m         \u001b[0mindexer\u001b[0m \u001b[0;34m=\u001b[0m \u001b[0mself\u001b[0m\u001b[0;34m.\u001b[0m\u001b[0mget_indexer\u001b[0m\u001b[0;34m(\u001b[0m\u001b[0;34m[\u001b[0m\u001b[0mkey\u001b[0m\u001b[0;34m]\u001b[0m\u001b[0;34m,\u001b[0m \u001b[0mmethod\u001b[0m\u001b[0;34m=\u001b[0m\u001b[0mmethod\u001b[0m\u001b[0;34m,\u001b[0m \u001b[0mtolerance\u001b[0m\u001b[0;34m=\u001b[0m\u001b[0mtolerance\u001b[0m\u001b[0;34m)\u001b[0m\u001b[0;34m\u001b[0m\u001b[0m\n",
      "\u001b[0;32mpandas/index.pyx\u001b[0m in \u001b[0;36mpandas.index.IndexEngine.get_loc (pandas/index.c:4154)\u001b[0;34m()\u001b[0m\n",
      "\u001b[0;32mpandas/index.pyx\u001b[0m in \u001b[0;36mpandas.index.IndexEngine.get_loc (pandas/index.c:4018)\u001b[0;34m()\u001b[0m\n",
      "\u001b[0;32mpandas/hashtable.pyx\u001b[0m in \u001b[0;36mpandas.hashtable.PyObjectHashTable.get_item (pandas/hashtable.c:12368)\u001b[0;34m()\u001b[0m\n",
      "\u001b[0;32mpandas/hashtable.pyx\u001b[0m in \u001b[0;36mpandas.hashtable.PyObjectHashTable.get_item (pandas/hashtable.c:12322)\u001b[0;34m()\u001b[0m\n",
      "\u001b[0;31mKeyError\u001b[0m: '2013$'"
     ]
    }
   ],
   "source": [
    "nba.sort_values(by ='2013$')"
   ]
  },
  {
   "cell_type": "code",
   "execution_count": null,
   "metadata": {
    "collapsed": true
   },
   "outputs": [],
   "source": [
    "nba.plot(kind='barh', x='Name', y='')"
   ]
  },
  {
   "cell_type": "code",
   "execution_count": 44,
   "metadata": {
    "collapsed": false
   },
   "outputs": [
    {
     "ename": "NameError",
     "evalue": "name 'million_dollar_string' is not defined",
     "output_type": "error",
     "traceback": [
      "\u001b[0;31m---------------------------------------------------------------------------\u001b[0m",
      "\u001b[0;31mNameError\u001b[0m                                 Traceback (most recent call last)",
      "\u001b[0;32m<ipython-input-44-21a20333e867>\u001b[0m in \u001b[0;36m<module>\u001b[0;34m()\u001b[0m\n\u001b[0;32m----> 1\u001b[0;31m \u001b[0mmillion_dollar_string\u001b[0m\u001b[0;34m.\u001b[0m\u001b[0mreplace\u001b[0m \u001b[0;34m(\u001b[0m\u001b[0;34m\"0\"\u001b[0m\u001b[0;34m,\u001b[0m\u001b[0;34m\"9\"\u001b[0m\u001b[0;34m)\u001b[0m\u001b[0;34m\u001b[0m\u001b[0m\n\u001b[0m",
      "\u001b[0;31mNameError\u001b[0m: name 'million_dollar_string' is not defined"
     ]
    }
   ],
   "source": [
    "million_dollar_string.replace (\"0\",\"9\")"
   ]
  },
  {
   "cell_type": "code",
   "execution_count": 45,
   "metadata": {
    "collapsed": false
   },
   "outputs": [
    {
     "ename": "NameError",
     "evalue": "name 'million_dollar_string' is not defined",
     "output_type": "error",
     "traceback": [
      "\u001b[0;31m---------------------------------------------------------------------------\u001b[0m",
      "\u001b[0;31mNameError\u001b[0m                                 Traceback (most recent call last)",
      "\u001b[0;32m<ipython-input-45-92160d7d57da>\u001b[0m in \u001b[0;36m<module>\u001b[0;34m()\u001b[0m\n\u001b[0;32m----> 1\u001b[0;31m \u001b[0mmillion_dollar_string\u001b[0m\u001b[0;34m.\u001b[0m\u001b[0mreplace\u001b[0m\u001b[0;34m(\u001b[0m\u001b[0;34m\"$\"\u001b[0m\u001b[0;34m,\u001b[0m \u001b[0;34m\" \"\u001b[0m\u001b[0;34m)\u001b[0m\u001b[0;34m\u001b[0m\u001b[0m\n\u001b[0m",
      "\u001b[0;31mNameError\u001b[0m: name 'million_dollar_string' is not defined"
     ]
    }
   ],
   "source": [
    "million_dollar_string.replace(\"$\", \" \") #\" \": empty"
   ]
  },
  {
   "cell_type": "code",
   "execution_count": 46,
   "metadata": {
    "collapsed": false
   },
   "outputs": [
    {
     "ename": "NameError",
     "evalue": "name 'million_dollar_string' is not defined",
     "output_type": "error",
     "traceback": [
      "\u001b[0;31m---------------------------------------------------------------------------\u001b[0m",
      "\u001b[0;31mNameError\u001b[0m                                 Traceback (most recent call last)",
      "\u001b[0;32m<ipython-input-46-421cdd3eb2ae>\u001b[0m in \u001b[0;36m<module>\u001b[0;34m()\u001b[0m\n\u001b[0;32m----> 1\u001b[0;31m \u001b[0mmillion_dollar_string\u001b[0m\u001b[0;34m.\u001b[0m\u001b[0mreplce\u001b[0m\u001b[0;34m(\u001b[0m\u001b[0;34m\",\"\u001b[0m\u001b[0;34m,\u001b[0m \u001b[0;34m\" \"\u001b[0m\u001b[0;34m)\u001b[0m\u001b[0;34m\u001b[0m\u001b[0m\n\u001b[0m",
      "\u001b[0;31mNameError\u001b[0m: name 'million_dollar_string' is not defined"
     ]
    }
   ],
   "source": [
    "million_dollar_string.replce(\",\", \" \")"
   ]
  },
  {
   "cell_type": "code",
   "execution_count": null,
   "metadata": {
    "collapsed": true
   },
   "outputs": [],
   "source": [
    "million_dollar_string.replace(\",\", \" \").replace(\"$\", \" \")"
   ]
  },
  {
   "cell_type": "markdown",
   "metadata": {},
   "source": [
    "### Other stuff\n",
    "\n",
    "Did you see this image already? Well, now you have.\n",
    "\n",
    "![](http://i.imgur.com/7Ssc4l.jpg)"
   ]
  },
  {
   "cell_type": "markdown",
   "metadata": {},
   "source": [
    "<img src=\"data:image/jpeg;base64,data:image/jpeg;base64,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\">"
   ]
  }
 ],
 "metadata": {
  "kernelspec": {
   "display_name": "Python 3",
   "language": "python",
   "name": "python3"
  },
  "language_info": {
   "codemirror_mode": {
    "name": "ipython",
    "version": 3
   },
   "file_extension": ".py",
   "mimetype": "text/x-python",
   "name": "python",
   "nbconvert_exporter": "python",
   "pygments_lexer": "ipython3",
   "version": "3.5.1"
  }
 },
 "nbformat": 4,
 "nbformat_minor": 0
}
